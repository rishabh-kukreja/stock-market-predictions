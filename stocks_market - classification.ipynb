{
 "cells": [
  {
   "cell_type": "code",
   "execution_count": 1,
   "metadata": {
    "colab": {
     "base_uri": "https://localhost:8080/",
     "height": 70
    },
    "colab_type": "code",
    "id": "9JII4NzEEl35",
    "outputId": "ac9e6671-9da3-4088-fa3a-5e7f5bacea6b"
   },
   "outputs": [
    {
     "name": "stderr",
     "output_type": "stream",
     "text": [
      "C:\\Users\\Admin\\Anaconda3\\lib\\site-packages\\tensorflow\\python\\framework\\dtypes.py:526: FutureWarning: Passing (type, 1) or '1type' as a synonym of type is deprecated; in a future version of numpy, it will be understood as (type, (1,)) / '(1,)type'.\n",
      "  _np_qint8 = np.dtype([(\"qint8\", np.int8, 1)])\n",
      "C:\\Users\\Admin\\Anaconda3\\lib\\site-packages\\tensorflow\\python\\framework\\dtypes.py:527: FutureWarning: Passing (type, 1) or '1type' as a synonym of type is deprecated; in a future version of numpy, it will be understood as (type, (1,)) / '(1,)type'.\n",
      "  _np_quint8 = np.dtype([(\"quint8\", np.uint8, 1)])\n",
      "C:\\Users\\Admin\\Anaconda3\\lib\\site-packages\\tensorflow\\python\\framework\\dtypes.py:528: FutureWarning: Passing (type, 1) or '1type' as a synonym of type is deprecated; in a future version of numpy, it will be understood as (type, (1,)) / '(1,)type'.\n",
      "  _np_qint16 = np.dtype([(\"qint16\", np.int16, 1)])\n",
      "C:\\Users\\Admin\\Anaconda3\\lib\\site-packages\\tensorflow\\python\\framework\\dtypes.py:529: FutureWarning: Passing (type, 1) or '1type' as a synonym of type is deprecated; in a future version of numpy, it will be understood as (type, (1,)) / '(1,)type'.\n",
      "  _np_quint16 = np.dtype([(\"quint16\", np.uint16, 1)])\n",
      "C:\\Users\\Admin\\Anaconda3\\lib\\site-packages\\tensorflow\\python\\framework\\dtypes.py:530: FutureWarning: Passing (type, 1) or '1type' as a synonym of type is deprecated; in a future version of numpy, it will be understood as (type, (1,)) / '(1,)type'.\n",
      "  _np_qint32 = np.dtype([(\"qint32\", np.int32, 1)])\n",
      "C:\\Users\\Admin\\Anaconda3\\lib\\site-packages\\tensorflow\\python\\framework\\dtypes.py:535: FutureWarning: Passing (type, 1) or '1type' as a synonym of type is deprecated; in a future version of numpy, it will be understood as (type, (1,)) / '(1,)type'.\n",
      "  np_resource = np.dtype([(\"resource\", np.ubyte, 1)])\n"
     ]
    }
   ],
   "source": [
    "from mpl_toolkits.mplot3d import Axes3D\n",
    "from sklearn.preprocessing import StandardScaler\n",
    "import matplotlib.pyplot as plt # plotting\n",
    "\n",
    "from sklearn.metrics import roc_curve\n",
    "import os # accessing directory structure\n",
    "import numpy as np\n",
    "import pandas as pd\n",
    "import os\n",
    "from mpl_toolkits.mplot3d import Axes3D\n",
    "from sklearn.preprocessing import StandardScaler\n",
    "\n",
    "import seaborn as sns\n",
    "\n",
    "# from pandas_datareader import data\n",
    "from sklearn.metrics import classification_report\n",
    "import datetime as dt\n",
    "import urllib.request, json\n",
    "\n",
    "import seaborn as seabornInstance \n",
    "from sklearn.model_selection import train_test_split \n",
    "from sklearn.linear_model import LinearRegression\n",
    "from sklearn import metrics\n",
    "import tensorflow as tf # This code has been tested with TensorFlow 1.6\n",
    "from sklearn.preprocessing import MinMaxScaler\n",
    "from sklearn.linear_model import BayesianRidge\n",
    "from sklearn.datasets import load_boston\n",
    "from sklearn.model_selection import train_test_split\n",
    "from sklearn.metrics import mean_squared_error\n",
    "from numpy import sqrt\n",
    "\n",
    "\n",
    "from sklearn.linear_model import LogisticRegression\n",
    "from sklearn.discriminant_analysis import LinearDiscriminantAnalysis\n",
    "from sklearn.neighbors import KNeighborsClassifier\n",
    "from sklearn.naive_bayes import GaussianNB\n",
    "from sklearn.tree import DecisionTreeClassifier\n",
    "from sklearn.svm import SVC\n",
    "from sklearn.ensemble import AdaBoostClassifier\n",
    "from sklearn.model_selection import cross_val_score\n",
    "import itertools  \n",
    "from sklearn.metrics import confusion_matrix\n",
    "from sklearn.metrics import accuracy_score"
   ]
  },
  {
   "cell_type": "code",
   "execution_count": 2,
   "metadata": {},
   "outputs": [],
   "source": [
    "os.chdir(r\"F:\\uOttawa Winter 20\\Data Mining\\Project\")\n",
    "data = pd.read_csv(\"dow_jones_index.data\")"
   ]
  },
  {
   "cell_type": "code",
   "execution_count": 3,
   "metadata": {
    "colab": {
     "base_uri": "https://localhost:8080/",
     "height": 302
    },
    "colab_type": "code",
    "id": "eLYTqadCGCZy",
    "outputId": "a04a734a-0498-4737-9adb-4c4c9da3f88c"
   },
   "outputs": [
    {
     "data": {
      "text/plain": [
       "quarter                                0\n",
       "stock                                  0\n",
       "date                                   0\n",
       "open                                   0\n",
       "high                                   0\n",
       "low                                    0\n",
       "close                                  0\n",
       "volume                                 0\n",
       "percent_change_price                   0\n",
       "percent_change_volume_over_last_wk    30\n",
       "previous_weeks_volume                 30\n",
       "next_weeks_open                        0\n",
       "next_weeks_close                       0\n",
       "percent_change_next_weeks_price        0\n",
       "days_to_next_dividend                  0\n",
       "percent_return_next_dividend           0\n",
       "dtype: int64"
      ]
     },
     "execution_count": 3,
     "metadata": {},
     "output_type": "execute_result"
    }
   ],
   "source": [
    "data.isnull().sum()"
   ]
  },
  {
   "cell_type": "code",
   "execution_count": 4,
   "metadata": {
    "colab": {},
    "colab_type": "code",
    "id": "z7CD9gW0G6Vk"
   },
   "outputs": [],
   "source": [
    "data = data.dropna()"
   ]
  },
  {
   "cell_type": "code",
   "execution_count": 5,
   "metadata": {
    "colab": {
     "base_uri": "https://localhost:8080/",
     "height": 34
    },
    "colab_type": "code",
    "id": "sCGbDk6IJIIg",
    "outputId": "69f8001f-c837-4601-e65f-ba95470f9db4"
   },
   "outputs": [
    {
     "data": {
      "text/plain": [
       "(720, 16)"
      ]
     },
     "execution_count": 5,
     "metadata": {},
     "output_type": "execute_result"
    }
   ],
   "source": [
    "data.shape"
   ]
  },
  {
   "cell_type": "markdown",
   "metadata": {
    "colab_type": "text",
    "id": "5XMKjRKRMbdc"
   },
   "source": [
    "Creating a binary column \"Price\", if the % change for next week price is +, then it's 1, else 0\n",
    "\n"
   ]
  },
  {
   "cell_type": "code",
   "execution_count": 6,
   "metadata": {
    "colab": {},
    "colab_type": "code",
    "id": "ypaPsMB-JJIb"
   },
   "outputs": [],
   "source": [
    "data['price'] = np.where(data['percent_change_next_weeks_price']>0, '1', '0')"
   ]
  },
  {
   "cell_type": "code",
   "execution_count": 7,
   "metadata": {
    "colab": {},
    "colab_type": "code",
    "id": "LlaOSqLlMZnO"
   },
   "outputs": [],
   "source": [
    "cols = [\"open\",\"close\",\"high\",\"low\",\"volume\",\"percent_change_price\",\"percent_change_volume_over_last_wk\",\"previous_weeks_volume\",\n",
    "\"days_to_next_dividend\",\"percent_return_next_dividend\",\"price\"]"
   ]
  },
  {
   "cell_type": "code",
   "execution_count": 8,
   "metadata": {
    "colab": {
     "base_uri": "https://localhost:8080/",
     "height": 34
    },
    "colab_type": "code",
    "id": "q5q6CVIRMp95",
    "outputId": "f9a27a70-1234-4489-9742-225fd3be4694"
   },
   "outputs": [
    {
     "name": "stdout",
     "output_type": "stream",
     "text": [
      "(720, 11)\n"
     ]
    }
   ],
   "source": [
    "df = data[cols]\n",
    "print(df.shape)"
   ]
  },
  {
   "cell_type": "markdown",
   "metadata": {},
   "source": [
    "##### Removing dollar sign from the columns"
   ]
  },
  {
   "cell_type": "code",
   "execution_count": 9,
   "metadata": {
    "colab": {
     "base_uri": "https://localhost:8080/",
     "height": 420
    },
    "colab_type": "code",
    "id": "V5IQc0EiPCvY",
    "outputId": "e16d0b4a-89ab-42cb-dfca-95139554303e"
   },
   "outputs": [
    {
     "name": "stderr",
     "output_type": "stream",
     "text": [
      "C:\\Users\\Admin\\Anaconda3\\lib\\site-packages\\ipykernel_launcher.py:1: SettingWithCopyWarning: \n",
      "A value is trying to be set on a copy of a slice from a DataFrame.\n",
      "Try using .loc[row_indexer,col_indexer] = value instead\n",
      "\n",
      "See the caveats in the documentation: https://pandas.pydata.org/pandas-docs/stable/user_guide/indexing.html#returning-a-view-versus-a-copy\n",
      "  \"\"\"Entry point for launching an IPython kernel.\n",
      "C:\\Users\\Admin\\Anaconda3\\lib\\site-packages\\ipykernel_launcher.py:2: SettingWithCopyWarning: \n",
      "A value is trying to be set on a copy of a slice from a DataFrame.\n",
      "Try using .loc[row_indexer,col_indexer] = value instead\n",
      "\n",
      "See the caveats in the documentation: https://pandas.pydata.org/pandas-docs/stable/user_guide/indexing.html#returning-a-view-versus-a-copy\n",
      "  \n",
      "C:\\Users\\Admin\\Anaconda3\\lib\\site-packages\\ipykernel_launcher.py:3: SettingWithCopyWarning: \n",
      "A value is trying to be set on a copy of a slice from a DataFrame.\n",
      "Try using .loc[row_indexer,col_indexer] = value instead\n",
      "\n",
      "See the caveats in the documentation: https://pandas.pydata.org/pandas-docs/stable/user_guide/indexing.html#returning-a-view-versus-a-copy\n",
      "  This is separate from the ipykernel package so we can avoid doing imports until\n",
      "C:\\Users\\Admin\\Anaconda3\\lib\\site-packages\\ipykernel_launcher.py:4: SettingWithCopyWarning: \n",
      "A value is trying to be set on a copy of a slice from a DataFrame.\n",
      "Try using .loc[row_indexer,col_indexer] = value instead\n",
      "\n",
      "See the caveats in the documentation: https://pandas.pydata.org/pandas-docs/stable/user_guide/indexing.html#returning-a-view-versus-a-copy\n",
      "  after removing the cwd from sys.path.\n"
     ]
    }
   ],
   "source": [
    "df['open'] = df.open.str.replace('$' , '')\n",
    "df['close'] = df.close.str.replace('$' , '')\n",
    "df['low'] = df.low.str.replace('$' , '')\n",
    "df['high'] = df.high.str.replace('$' , '')\n",
    "\n",
    "data['open'] = data.open.str.replace('$' , '')\n",
    "data['close'] = data.close.str.replace('$' , '')\n",
    "data['low'] = data.low.str.replace('$' , '')\n",
    "data['high'] = data.high.str.replace('$' , '')\n",
    "data['next_weeks_open'] = data.next_weeks_open.str.replace('$' , '')\n",
    "data['next_weeks_close'] = data.next_weeks_close.str.replace('$' , '')"
   ]
  },
  {
   "cell_type": "code",
   "execution_count": 10,
   "metadata": {
    "colab": {
     "base_uri": "https://localhost:8080/",
     "height": 420
    },
    "colab_type": "code",
    "id": "peL5Jco1Xe6f",
    "outputId": "ecef2622-d351-4a3b-f8e3-5c9e148e8214"
   },
   "outputs": [
    {
     "name": "stdout",
     "output_type": "stream",
     "text": [
      "<class 'pandas.core.frame.DataFrame'>\n",
      "Int64Index: 720 entries, 1 to 749\n",
      "Data columns (total 11 columns):\n",
      " #   Column                              Non-Null Count  Dtype  \n",
      "---  ------                              --------------  -----  \n",
      " 0   open                                720 non-null    float64\n",
      " 1   close                               720 non-null    float64\n",
      " 2   high                                720 non-null    float64\n",
      " 3   low                                 720 non-null    float64\n",
      " 4   volume                              720 non-null    int64  \n",
      " 5   percent_change_price                720 non-null    float64\n",
      " 6   percent_change_volume_over_last_wk  720 non-null    float64\n",
      " 7   previous_weeks_volume               720 non-null    float64\n",
      " 8   days_to_next_dividend               720 non-null    int64  \n",
      " 9   percent_return_next_dividend        720 non-null    float64\n",
      " 10  price                               720 non-null    int64  \n",
      "dtypes: float64(8), int64(3)\n",
      "memory usage: 67.5 KB\n"
     ]
    },
    {
     "name": "stderr",
     "output_type": "stream",
     "text": [
      "C:\\Users\\Admin\\Anaconda3\\lib\\site-packages\\pandas\\core\\frame.py:2963: SettingWithCopyWarning: \n",
      "A value is trying to be set on a copy of a slice from a DataFrame.\n",
      "Try using .loc[row_indexer,col_indexer] = value instead\n",
      "\n",
      "See the caveats in the documentation: https://pandas.pydata.org/pandas-docs/stable/user_guide/indexing.html#returning-a-view-versus-a-copy\n",
      "  self[k1] = value[k2]\n"
     ]
    }
   ],
   "source": [
    "# Convert to numeric values\n",
    "df[cols] = df[cols].apply(pd.to_numeric, errors='coerce')\n",
    "df.info()\n"
   ]
  },
  {
   "cell_type": "markdown",
   "metadata": {},
   "source": [
    "Normalizing the data"
   ]
  },
  {
   "cell_type": "code",
   "execution_count": 13,
   "metadata": {
    "colab": {
     "base_uri": "https://localhost:8080/",
     "height": 218
    },
    "colab_type": "code",
    "id": "sM4IGt22axbO",
    "outputId": "536ecff2-032b-4904-8f2c-0162ca95c209"
   },
   "outputs": [
    {
     "name": "stderr",
     "output_type": "stream",
     "text": [
      "C:\\Users\\Admin\\Anaconda3\\lib\\site-packages\\ipykernel_launcher.py:4: SettingWithCopyWarning: \n",
      "A value is trying to be set on a copy of a slice from a DataFrame.\n",
      "Try using .loc[row_indexer,col_indexer] = value instead\n",
      "\n",
      "See the caveats in the documentation: https://pandas.pydata.org/pandas-docs/stable/user_guide/indexing.html#returning-a-view-versus-a-copy\n",
      "  after removing the cwd from sys.path.\n",
      "C:\\Users\\Admin\\Anaconda3\\lib\\site-packages\\pandas\\core\\indexing.py:966: SettingWithCopyWarning: \n",
      "A value is trying to be set on a copy of a slice from a DataFrame.\n",
      "Try using .loc[row_indexer,col_indexer] = value instead\n",
      "\n",
      "See the caveats in the documentation: https://pandas.pydata.org/pandas-docs/stable/user_guide/indexing.html#returning-a-view-versus-a-copy\n",
      "  self.obj[item] = s\n"
     ]
    }
   ],
   "source": [
    "from sklearn.preprocessing import StandardScaler\n",
    "cols_to_norm = [\"open\",\"close\",\"high\",\"low\",\"volume\",\"percent_change_price\",\"percent_change_volume_over_last_wk\",\"previous_weeks_volume\",\n",
    "\"days_to_next_dividend\",\"percent_return_next_dividend\"]\n",
    "df[cols_to_norm] = StandardScaler().fit_transform(df[cols_to_norm])"
   ]
  },
  {
   "cell_type": "code",
   "execution_count": 14,
   "metadata": {
    "colab": {
     "base_uri": "https://localhost:8080/",
     "height": 215
    },
    "colab_type": "code",
    "id": "vvM-H72AbBca",
    "outputId": "854b4d5c-90cb-4611-c672-68264d943c51"
   },
   "outputs": [
    {
     "data": {
      "text/html": [
       "<div>\n",
       "<style scoped>\n",
       "    .dataframe tbody tr th:only-of-type {\n",
       "        vertical-align: middle;\n",
       "    }\n",
       "\n",
       "    .dataframe tbody tr th {\n",
       "        vertical-align: top;\n",
       "    }\n",
       "\n",
       "    .dataframe thead th {\n",
       "        text-align: right;\n",
       "    }\n",
       "</style>\n",
       "<table border=\"1\" class=\"dataframe\">\n",
       "  <thead>\n",
       "    <tr style=\"text-align: right;\">\n",
       "      <th></th>\n",
       "      <th>open</th>\n",
       "      <th>close</th>\n",
       "      <th>high</th>\n",
       "      <th>low</th>\n",
       "      <th>volume</th>\n",
       "      <th>percent_change_price</th>\n",
       "      <th>percent_change_volume_over_last_wk</th>\n",
       "      <th>previous_weeks_volume</th>\n",
       "      <th>days_to_next_dividend</th>\n",
       "      <th>percent_return_next_dividend</th>\n",
       "      <th>price</th>\n",
       "    </tr>\n",
       "  </thead>\n",
       "  <tbody>\n",
       "    <tr>\n",
       "      <th>1</th>\n",
       "      <td>-1.131237</td>\n",
       "      <td>-1.150557</td>\n",
       "      <td>-1.141611</td>\n",
       "      <td>-1.151237</td>\n",
       "      <td>0.838008</td>\n",
       "      <td>-1.781209</td>\n",
       "      <td>-0.103995</td>\n",
       "      <td>0.768393</td>\n",
       "      <td>-0.725401</td>\n",
       "      <td>-1.652248</td>\n",
       "      <td>0</td>\n",
       "    </tr>\n",
       "    <tr>\n",
       "      <th>2</th>\n",
       "      <td>-1.147119</td>\n",
       "      <td>-1.156028</td>\n",
       "      <td>-1.151510</td>\n",
       "      <td>-1.152479</td>\n",
       "      <td>0.150182</td>\n",
       "      <td>-0.999062</td>\n",
       "      <td>-1.200005</td>\n",
       "      <td>0.789181</td>\n",
       "      <td>-0.878073</td>\n",
       "      <td>-1.645222</td>\n",
       "      <td>1</td>\n",
       "    </tr>\n",
       "    <tr>\n",
       "      <th>3</th>\n",
       "      <td>-1.156892</td>\n",
       "      <td>-1.145694</td>\n",
       "      <td>-1.144011</td>\n",
       "      <td>-1.145650</td>\n",
       "      <td>0.235396</td>\n",
       "      <td>0.642459</td>\n",
       "      <td>0.092851</td>\n",
       "      <td>0.132231</td>\n",
       "      <td>-1.030744</td>\n",
       "      <td>-1.658359</td>\n",
       "      <td>1</td>\n",
       "    </tr>\n",
       "    <tr>\n",
       "      <th>4</th>\n",
       "      <td>-1.147424</td>\n",
       "      <td>-1.114996</td>\n",
       "      <td>-1.121211</td>\n",
       "      <td>-1.134475</td>\n",
       "      <td>0.255192</td>\n",
       "      <td>2.358274</td>\n",
       "      <td>-0.089008</td>\n",
       "      <td>0.213620</td>\n",
       "      <td>0.975795</td>\n",
       "      <td>-1.694309</td>\n",
       "      <td>1</td>\n",
       "    </tr>\n",
       "    <tr>\n",
       "      <th>5</th>\n",
       "      <td>-1.112300</td>\n",
       "      <td>-1.108006</td>\n",
       "      <td>-1.118511</td>\n",
       "      <td>-1.109953</td>\n",
       "      <td>-0.006006</td>\n",
       "      <td>0.080168</td>\n",
       "      <td>-0.772691</td>\n",
       "      <td>0.232527</td>\n",
       "      <td>0.823123</td>\n",
       "      <td>-1.701909</td>\n",
       "      <td>0</td>\n",
       "    </tr>\n",
       "  </tbody>\n",
       "</table>\n",
       "</div>"
      ],
      "text/plain": [
       "       open     close      high       low    volume  percent_change_price  \\\n",
       "1 -1.131237 -1.150557 -1.141611 -1.151237  0.838008             -1.781209   \n",
       "2 -1.147119 -1.156028 -1.151510 -1.152479  0.150182             -0.999062   \n",
       "3 -1.156892 -1.145694 -1.144011 -1.145650  0.235396              0.642459   \n",
       "4 -1.147424 -1.114996 -1.121211 -1.134475  0.255192              2.358274   \n",
       "5 -1.112300 -1.108006 -1.118511 -1.109953 -0.006006              0.080168   \n",
       "\n",
       "   percent_change_volume_over_last_wk  previous_weeks_volume  \\\n",
       "1                           -0.103995               0.768393   \n",
       "2                           -1.200005               0.789181   \n",
       "3                            0.092851               0.132231   \n",
       "4                           -0.089008               0.213620   \n",
       "5                           -0.772691               0.232527   \n",
       "\n",
       "   days_to_next_dividend  percent_return_next_dividend  price  \n",
       "1              -0.725401                     -1.652248      0  \n",
       "2              -0.878073                     -1.645222      1  \n",
       "3              -1.030744                     -1.658359      1  \n",
       "4               0.975795                     -1.694309      1  \n",
       "5               0.823123                     -1.701909      0  "
      ]
     },
     "execution_count": 14,
     "metadata": {},
     "output_type": "execute_result"
    }
   ],
   "source": [
    "  df.head()"
   ]
  },
  {
   "cell_type": "code",
   "execution_count": 15,
   "metadata": {
    "colab": {},
    "colab_type": "code",
    "id": "uD1bUvKRd6yo"
   },
   "outputs": [],
   "source": [
    "Y=df['price']"
   ]
  },
  {
   "cell_type": "code",
   "execution_count": 16,
   "metadata": {
    "colab": {},
    "colab_type": "code",
    "id": "mM1AnPmydpcu"
   },
   "outputs": [],
   "source": [
    "df=df.drop(['price'], axis=1)\n",
    "Output=pd.DataFrame(Y)\n",
    "X=df"
   ]
  },
  {
   "cell_type": "markdown",
   "metadata": {},
   "source": [
    "#### Correlation Analysis"
   ]
  },
  {
   "cell_type": "code",
   "execution_count": 18,
   "metadata": {
    "colab": {
     "base_uri": "https://localhost:8080/",
     "height": 845
    },
    "colab_type": "code",
    "id": "3vowAu-PevIM",
    "outputId": "540c110a-7cb8-4e60-8166-e5a253e037da"
   },
   "outputs": [
    {
     "data": {
      "text/plain": [
       "<matplotlib.axes._subplots.AxesSubplot at 0x2a25eec8668>"
      ]
     },
     "execution_count": 18,
     "metadata": {},
     "output_type": "execute_result"
    },
    {
     "data": {
      "image/png": "[encoded data removed]",
      "text/plain": [
       "<Figure size 2160x1440 with 2 Axes>"
      ]
     },
     "metadata": {
      "needs_background": "light"
     },
     "output_type": "display_data"
    }
   ],
   "source": [
    "plt.figure(figsize=(30,20))\n",
    "sns.heatmap(df.corr(),annot=True,linewidth=0.5)"
   ]
  },
  {
   "cell_type": "code",
   "execution_count": 19,
   "metadata": {
    "colab": {},
    "colab_type": "code",
    "id": "-c0Z4DMBfECT"
   },
   "outputs": [],
   "source": [
    "# Create correlation matrix\n",
    "corr_matrix = df.corr().abs()\n",
    "\n",
    "# Select upper triangle of correlation matrix\n",
    "upper = corr_matrix.where(np.triu(np.ones(corr_matrix.shape), k=1).astype(np.bool))\n",
    "\n",
    "# Find features with correlation greater than 0.85\n",
    "to_drop = [column for column in upper.columns if any(upper[column] > 0.85)]\n"
   ]
  },
  {
   "cell_type": "code",
   "execution_count": 20,
   "metadata": {
    "colab": {
     "base_uri": "https://localhost:8080/",
     "height": 34
    },
    "colab_type": "code",
    "id": "HIpLlVdQe7H_",
    "outputId": "a847f7bd-b4f6-41d3-f1a0-8a3a08000f23"
   },
   "outputs": [
    {
     "data": {
      "text/plain": [
       "['close', 'high', 'low', 'previous_weeks_volume']"
      ]
     },
     "execution_count": 20,
     "metadata": {},
     "output_type": "execute_result"
    }
   ],
   "source": [
    "to_drop"
   ]
  },
  {
   "cell_type": "code",
   "execution_count": 21,
   "metadata": {
    "colab": {},
    "colab_type": "code",
    "id": "mex1GFX9IcpC"
   },
   "outputs": [],
   "source": [
    "to_drop1=['high', 'low', 'previous_weeks_volume']"
   ]
  },
  {
   "cell_type": "code",
   "execution_count": 22,
   "metadata": {
    "colab": {},
    "colab_type": "code",
    "id": "-qJqkClgeHat"
   },
   "outputs": [],
   "source": [
    "# Drop feat1ures \n",
    "df.drop(to_drop, axis=1, inplace=True)"
   ]
  },
  {
   "cell_type": "code",
   "execution_count": 23,
   "metadata": {
    "colab": {},
    "colab_type": "code",
    "id": "M_QS99BcZNtx"
   },
   "outputs": [],
   "source": [
    "X=df"
   ]
  },
  {
   "cell_type": "markdown",
   "metadata": {},
   "source": [
    "### Train-test split"
   ]
  },
  {
   "cell_type": "code",
   "execution_count": 24,
   "metadata": {
    "colab": {},
    "colab_type": "code",
    "id": "nu7HxyF7fq_d"
   },
   "outputs": [],
   "source": [
    "from sklearn.model_selection import train_test_split\n",
    "\n",
    "X_train, X_test, y_train, y_test = train_test_split(X, Y,test_size=0.20, random_state=1)"
   ]
  },
  {
   "cell_type": "markdown",
   "metadata": {
    "colab_type": "text",
    "id": "Qg9OTj8Wcefz"
   },
   "source": [
    "Lets Implement few Classification techniques on the data above with price as target.\n"
   ]
  },
  {
   "cell_type": "code",
   "execution_count": 26,
   "metadata": {
    "colab": {},
    "colab_type": "code",
    "id": "OiIhxFFD9lyN"
   },
   "outputs": [],
   "source": [
    "def plot_confusion_matrix(cm,\n",
    "                          normalize=False,\n",
    "                          title='Confusion matrix',\n",
    "                          cmap=plt.cm.Blues):\n",
    "    \"\"\"\n",
    "    This function prints and plots the confusion matrix.\n",
    "    Normalization can be applied by setting `normalize=True`.\n",
    "    \"\"\"\n",
    "    if normalize:\n",
    "        cm = cm.astype('float') / cm.sum(axis=1)[:, np.newaxis]\n",
    "        print(\"Normalized confusion matrix\")\n",
    "    else:\n",
    "        print('Confusion matrix, without normalization')\n",
    " \n",
    "    print(cm)\n",
    " \n",
    "    plt.imshow(cm, interpolation='nearest', cmap=cmap)\n",
    "    plt.title(title)\n",
    "    plt.colorbar()\n",
    " \n",
    "    fmt = '.2f' if normalize else 'd'\n",
    "    thresh = cm.max() / 2.\n",
    "    for i, j in itertools.product(range(cm.shape[0]), range(cm.shape[1])):\n",
    "        plt.text(j, i, format(cm[i, j], fmt),\n",
    "                 horizontalalignment=\"center\",\n",
    "                 color=\"white\" if cm[i, j] > thresh else \"black\")\n",
    " \n",
    "    plt.tight_layout()\n",
    "    plt.ylabel('True label')\n",
    "    plt.xlabel('Predicted label')\n"
   ]
  },
  {
   "cell_type": "markdown",
   "metadata": {},
   "source": [
    "# Model Construction - Classification"
   ]
  },
  {
   "cell_type": "markdown",
   "metadata": {
    "colab_type": "text",
    "id": "Tu5Vs6jn9mOH"
   },
   "source": [
    "**Ada Boost Algorithm**"
   ]
  },
  {
   "cell_type": "code",
   "execution_count": 27,
   "metadata": {
    "colab": {
     "base_uri": "https://localhost:8080/",
     "height": 34
    },
    "colab_type": "code",
    "id": "hcE5Od4RgrWN",
    "outputId": "2756b148-8ce3-455d-d67b-bc774de2ad59"
   },
   "outputs": [
    {
     "name": "stdout",
     "output_type": "stream",
     "text": [
      "Accuracy: 0.5486111111111112\n"
     ]
    }
   ],
   "source": [
    "adaboost = AdaBoostClassifier( DecisionTreeClassifier() , n_estimators= 10 , learning_rate= 1 )\n",
    "adaboost.fit(X_train, y_train)\n",
    "\n",
    "y_pred_ada = adaboost.predict(X_test)\n",
    "\n",
    "# Model Accuracy, how often is the classifier correct?\n",
    "print(\"Accuracy:\",metrics.accuracy_score(y_test, y_pred_ada))\n",
    "\n"
   ]
  },
  {
   "cell_type": "code",
   "execution_count": 28,
   "metadata": {
    "colab": {},
    "colab_type": "code",
    "id": "t5UDOP_R8aYv"
   },
   "outputs": [],
   "source": [
    "cnf_matrix = confusion_matrix(y_test, y_pred_ada)"
   ]
  },
  {
   "cell_type": "code",
   "execution_count": 29,
   "metadata": {
    "colab": {
     "base_uri": "https://localhost:8080/",
     "height": 706
    },
    "colab_type": "code",
    "id": "ugH-jWc18KHZ",
    "outputId": "8694c375-45bc-4b4a-8afe-5e66d47e2c2b"
   },
   "outputs": [
    {
     "name": "stdout",
     "output_type": "stream",
     "text": [
      "Confusion matrix, without normalization\n",
      "[[36 31]\n",
      " [34 43]]\n",
      "Normalized confusion matrix\n",
      "[[0.54 0.46]\n",
      " [0.44 0.56]]\n"
     ]
    },
    {
     "data": {
      "image/png": "[encoded data removed]",
      "text/plain": [
       "<Figure size 432x288 with 2 Axes>"
      ]
     },
     "metadata": {
      "needs_background": "light"
     },
     "output_type": "display_data"
    },
    {
     "data": {
      "image/png": "[encoded data removed]",
      "text/plain": [
       "<Figure size 432x288 with 2 Axes>"
      ]
     },
     "metadata": {
      "needs_background": "light"
     },
     "output_type": "display_data"
    }
   ],
   "source": [
    "\n",
    "# Compute confusion matrix\n",
    "np.set_printoptions(precision=2)\n",
    " \n",
    "# Plot non-normalized confusion matrix\n",
    "plt.figure()\n",
    "plot_confusion_matrix(cnf_matrix)\n",
    " #Plot normalized confusion matrix\n",
    "plt.figure()\n",
    "plot_confusion_matrix(cnf_matrix, normalize=True,\n",
    "                      title='Normalized confusion matrix')\n",
    "\n",
    "plt.show()"
   ]
  },
  {
   "cell_type": "code",
   "execution_count": 30,
   "metadata": {
    "colab": {
     "base_uri": "https://localhost:8080/",
     "height": 202
    },
    "colab_type": "code",
    "id": "xICAAdGc8-gJ",
    "outputId": "85c0e189-0523-4f1f-8201-79b6c124c6d7"
   },
   "outputs": [
    {
     "name": "stdout",
     "output_type": "stream",
     "text": [
      "              precision    recall  f1-score   support\n",
      "\n",
      "           0       0.51      0.54      0.53        67\n",
      "           1       0.58      0.56      0.57        77\n",
      "\n",
      "    accuracy                           0.55       144\n",
      "   macro avg       0.55      0.55      0.55       144\n",
      "weighted avg       0.55      0.55      0.55       144\n",
      "\n",
      "[0.58 0.44 0.53 0.53 0.46 0.47 0.42 0.56 0.38 0.49]\n",
      "Accuracy: 0.48 (+/- 0.12)\n"
     ]
    }
   ],
   "source": [
    "print(classification_report(y_test, y_pred_ada))\n",
    "\n",
    "# Better validation with K-fold.\n",
    "\n",
    "scores_ada = cross_val_score(adaboost, X, Y, cv=10) # Ten-fold cross validation.\n",
    "print(scores_ada)\n",
    "print('Accuracy: %0.2f (+/- %0.2f)' % (scores_ada.mean(), scores_ada.std() * 2))\n",
    "# calculaye fpr, tpr\n",
    "fpr_ada, tpr_ada, thresholds_ada = metrics.roc_curve(y_test,  y_pred_ada)\n",
    "# calculate Area Under the curve\n",
    "auc_ada = metrics.roc_auc_score(y_test, y_pred_ada)"
   ]
  },
  {
   "cell_type": "markdown",
   "metadata": {
    "colab_type": "text",
    "id": "P3G_h6fRgrzl"
   },
   "source": [
    "**Decision Tree**"
   ]
  },
  {
   "cell_type": "code",
   "execution_count": 31,
   "metadata": {
    "colab": {
     "base_uri": "https://localhost:8080/",
     "height": 118
    },
    "colab_type": "code",
    "id": "4YlJHr5Ff52X",
    "outputId": "ad2abf94-e1b2-4443-cbbf-244b8cee1bbe"
   },
   "outputs": [
    {
     "data": {
      "text/plain": [
       "DecisionTreeClassifier(ccp_alpha=0.0, class_weight=None, criterion='gini',\n",
       "                       max_depth=None, max_features=None, max_leaf_nodes=None,\n",
       "                       min_impurity_decrease=0.0, min_impurity_split=None,\n",
       "                       min_samples_leaf=1, min_samples_split=2,\n",
       "                       min_weight_fraction_leaf=0.0, presort='deprecated',\n",
       "                       random_state=None, splitter='best')"
      ]
     },
     "execution_count": 31,
     "metadata": {},
     "output_type": "execute_result"
    }
   ],
   "source": [
    "from sklearn import tree\n",
    "model = tree.DecisionTreeClassifier()\n",
    "model"
   ]
  },
  {
   "cell_type": "markdown",
   "metadata": {
    "colab_type": "text",
    "id": "aYU8tDrNJU-V"
   },
   "source": [
    "**Lets do some tuning to refine the results**"
   ]
  },
  {
   "cell_type": "code",
   "execution_count": 32,
   "metadata": {
    "colab": {},
    "colab_type": "code",
    "id": "DMBRwKBNJS_9"
   },
   "outputs": [],
   "source": [
    "model1=tree.DecisionTreeClassifier(ccp_alpha=0.0, class_weight=None, criterion='entropy',\n",
    "                       max_depth=4, max_features=None, max_leaf_nodes=10,\n",
    "                       min_impurity_decrease=0.0, min_impurity_split=None,\n",
    "                       min_samples_leaf=10, min_samples_split=2,\n",
    "                       min_weight_fraction_leaf=0.0, presort='deprecated',\n",
    "                       random_state=None, splitter='best')"
   ]
  },
  {
   "cell_type": "code",
   "execution_count": 33,
   "metadata": {
    "colab": {
     "base_uri": "https://localhost:8080/",
     "height": 118
    },
    "colab_type": "code",
    "id": "1vqimMK4KNMH",
    "outputId": "0e363029-b7b1-4d7a-812e-82a119a3da28"
   },
   "outputs": [
    {
     "data": {
      "text/plain": [
       "DecisionTreeClassifier(ccp_alpha=0.0, class_weight=None, criterion='entropy',\n",
       "                       max_depth=4, max_features=None, max_leaf_nodes=10,\n",
       "                       min_impurity_decrease=0.0, min_impurity_split=None,\n",
       "                       min_samples_leaf=10, min_samples_split=2,\n",
       "                       min_weight_fraction_leaf=0.0, presort='deprecated',\n",
       "                       random_state=None, splitter='best')"
      ]
     },
     "execution_count": 33,
     "metadata": {},
     "output_type": "execute_result"
    }
   ],
   "source": [
    "model1.fit(X_train, y_train)\n"
   ]
  },
  {
   "cell_type": "code",
   "execution_count": 34,
   "metadata": {
    "colab": {},
    "colab_type": "code",
    "id": "oNOGvzPdO7YB"
   },
   "outputs": [],
   "source": [
    "y_predict = model1.predict(X_test)"
   ]
  },
  {
   "cell_type": "code",
   "execution_count": 35,
   "metadata": {
    "colab": {
     "base_uri": "https://localhost:8080/",
     "height": 50
    },
    "colab_type": "code",
    "id": "HddnRl_mH_it",
    "outputId": "93275cb0-9cd5-451a-98e7-b43181d5653c"
   },
   "outputs": [
    {
     "data": {
      "text/plain": [
       "array([[28, 39],\n",
       "       [24, 53]], dtype=int64)"
      ]
     },
     "execution_count": 35,
     "metadata": {},
     "output_type": "execute_result"
    }
   ],
   "source": [
    "cnf_matrix = confusion_matrix(y_test, y_predict)\n",
    "cnf_matrix"
   ]
  },
  {
   "cell_type": "code",
   "execution_count": 36,
   "metadata": {
    "colab": {
     "base_uri": "https://localhost:8080/",
     "height": 34
    },
    "colab_type": "code",
    "id": "9eaPKGgXKSDh",
    "outputId": "5ec526e1-552c-4eb4-f474-15ec9d246bff"
   },
   "outputs": [
    {
     "data": {
      "text/plain": [
       "0.5625"
      ]
     },
     "execution_count": 36,
     "metadata": {},
     "output_type": "execute_result"
    }
   ],
   "source": [
    "\n",
    "accuracy_score(y_test, y_predict)"
   ]
  },
  {
   "cell_type": "code",
   "execution_count": 37,
   "metadata": {
    "colab": {
     "base_uri": "https://localhost:8080/",
     "height": 34
    },
    "colab_type": "code",
    "id": "Y0vVHbXFKV9o",
    "outputId": "b0b15f11-3f44-4ebf-e695-9abd58fa8921"
   },
   "outputs": [
    {
     "data": {
      "text/plain": [
       "0.6354166666666666"
      ]
     },
     "execution_count": 37,
     "metadata": {},
     "output_type": "execute_result"
    }
   ],
   "source": [
    "model1.score(X_train, y_train)"
   ]
  },
  {
   "cell_type": "code",
   "execution_count": 38,
   "metadata": {
    "colab": {
     "base_uri": "https://localhost:8080/",
     "height": 530
    },
    "colab_type": "code",
    "id": "J_dR7gU8PbJ3",
    "outputId": "4c9a24b4-0f25-4207-b47d-7118d8f1cdb1"
   },
   "outputs": [
    {
     "name": "stderr",
     "output_type": "stream",
     "text": [
      "C:\\Users\\Admin\\Anaconda3\\lib\\site-packages\\sklearn\\externals\\six.py:31: FutureWarning: The module is deprecated in version 0.21 and will be removed in version 0.23 since we've dropped support for Python 2.7. Please rely on the official version of six (https://pypi.org/project/six/).\n",
      "  \"(https://pypi.org/project/six/).\", FutureWarning)\n"
     ]
    },
    {
     "data": {
      "image/png": "[encoded data removed]",
      "text/plain": [
       "<IPython.core.display.Image object>"
      ]
     },
     "execution_count": 38,
     "metadata": {},
     "output_type": "execute_result"
    }
   ],
   "source": [
    "from sklearn.externals.six import StringIO  \n",
    "from IPython.display import Image  \n",
    "from sklearn.tree import export_graphviz\n",
    "import pydotplus\n",
    "dot_data = StringIO()\n",
    "export_graphviz(model1, out_file=dot_data,feature_names=X_train.columns,\n",
    "                filled=True, rounded=True,\n",
    "                special_characters=True)\n",
    "graph = pydotplus.graph_from_dot_data(dot_data.getvalue())  \n",
    "Image(graph.create_png())\n"
   ]
  },
  {
   "cell_type": "code",
   "execution_count": 39,
   "metadata": {
    "colab": {},
    "colab_type": "code",
    "id": "4w3c9jQUdToe"
   },
   "outputs": [],
   "source": [
    "model.fit(X_train, y_train)\n",
    "y_predict = model.predict(X_test)"
   ]
  },
  {
   "cell_type": "code",
   "execution_count": 40,
   "metadata": {
    "colab": {
     "base_uri": "https://localhost:8080/",
     "height": 34
    },
    "colab_type": "code",
    "id": "dcpiN2HvgV4i",
    "outputId": "2268b1a5-47c4-4042-c485-40b2d1720704"
   },
   "outputs": [
    {
     "data": {
      "text/plain": [
       "0.5416666666666666"
      ]
     },
     "execution_count": 40,
     "metadata": {},
     "output_type": "execute_result"
    }
   ],
   "source": [
    "from sklearn.metrics import accuracy_score\n",
    "accuracy_score(y_test, y_predict)"
   ]
  },
  {
   "cell_type": "code",
   "execution_count": 42,
   "metadata": {
    "colab": {
     "base_uri": "https://localhost:8080/",
     "height": 34
    },
    "colab_type": "code",
    "id": "1nxbyNlyhI9S",
    "outputId": "71538b53-a04e-4205-ba93-519c536056a1"
   },
   "outputs": [
    {
     "data": {
      "text/plain": [
       "array([0.55, 0.47, 0.53, 0.53, 0.55, 0.48, 0.56, 0.54, 0.54, 0.53])"
      ]
     },
     "execution_count": 42,
     "metadata": {},
     "output_type": "execute_result"
    }
   ],
   "source": [
    "\n",
    "scores = cross_val_score(model1, X_train, y_train, cv=10)\n",
    "scores"
   ]
  },
  {
   "cell_type": "code",
   "execution_count": 43,
   "metadata": {
    "colab": {
     "base_uri": "https://localhost:8080/",
     "height": 50
    },
    "colab_type": "code",
    "id": "_f7_lEa9hh9o",
    "outputId": "7983fe79-e92e-4d70-a06c-bb5794af52eb"
   },
   "outputs": [
    {
     "data": {
      "text/plain": [
       "array([[38, 29],\n",
       "       [37, 40]], dtype=int64)"
      ]
     },
     "execution_count": 43,
     "metadata": {},
     "output_type": "execute_result"
    }
   ],
   "source": [
    "\n",
    "cnf_matrix = confusion_matrix(y_test, y_predict)\n",
    "cnf_matrix"
   ]
  },
  {
   "cell_type": "markdown",
   "metadata": {
    "colab_type": "text",
    "id": "IiciKk67h3Og"
   },
   "source": [
    "**SVM & K Nearest Neighbour**\n",
    "\n"
   ]
  },
  {
   "cell_type": "markdown",
   "metadata": {
    "colab_type": "text",
    "id": "GlRAkE63DPal"
   },
   "source": [
    "** After Tuning**"
   ]
  },
  {
   "cell_type": "code",
   "execution_count": 0,
   "metadata": {
    "colab": {},
    "colab_type": "code",
    "id": "2iF5TGvrh6vN"
   },
   "outputs": [],
   "source": [
    "SVC_model = SVC()\n",
    "# KNN model requires you to specify n_neighbors,\n",
    "# the number of points the classifier will look at to determine what class a new point belongs to\n",
    "KNN_model = KNeighborsClassifier(n_neighbors=5)"
   ]
  },
  {
   "cell_type": "code",
   "execution_count": 0,
   "metadata": {
    "colab": {},
    "colab_type": "code",
    "id": "YWlA5UFyCR5u"
   },
   "outputs": [],
   "source": [
    "SVC_model=SVC(C=2,degree=1,probability=True,max_iter=10000,tol=0.00001, verbose=False)"
   ]
  },
  {
   "cell_type": "code",
   "execution_count": 57,
   "metadata": {
    "colab": {
     "base_uri": "https://localhost:8080/",
     "height": 84
    },
    "colab_type": "code",
    "id": "OjO08MAgiIWy",
    "outputId": "8d4bd785-f9d3-48a8-8bf0-041c2a193d1a"
   },
   "outputs": [
    {
     "data": {
      "text/plain": [
       "SVC(C=2, break_ties=False, cache_size=200, class_weight=None, coef0=0.0,\n",
       "    decision_function_shape='ovr', degree=1, gamma='scale', kernel='rbf',\n",
       "    max_iter=10000, probability=True, random_state=None, shrinking=True,\n",
       "    tol=1e-05, verbose=False)"
      ]
     },
     "execution_count": 57,
     "metadata": {
      "tags": []
     },
     "output_type": "execute_result"
    }
   ],
   "source": [
    "SVC_model.fit(X_train, y_train)\n"
   ]
  },
  {
   "cell_type": "code",
   "execution_count": 58,
   "metadata": {
    "colab": {
     "base_uri": "https://localhost:8080/",
     "height": 34
    },
    "colab_type": "code",
    "id": "WeXKwkWu9-Pp",
    "outputId": "409ebc7f-95c0-47bb-c81b-8696f0a763f6"
   },
   "outputs": [
    {
     "data": {
      "text/plain": [
       "0.5138888888888888"
      ]
     },
     "execution_count": 58,
     "metadata": {
      "tags": []
     },
     "output_type": "execute_result"
    }
   ],
   "source": [
    "SVC_model.score(X_test,y_test)"
   ]
  },
  {
   "cell_type": "code",
   "execution_count": 59,
   "metadata": {
    "colab": {
     "base_uri": "https://localhost:8080/",
     "height": 34
    },
    "colab_type": "code",
    "id": "9VAt0DgcBMtv",
    "outputId": "4ccb8cb9-77a4-4d72-b772-a22f0cb7c140"
   },
   "outputs": [
    {
     "data": {
      "text/plain": [
       "0.6475694444444444"
      ]
     },
     "execution_count": 59,
     "metadata": {
      "tags": []
     },
     "output_type": "execute_result"
    }
   ],
   "source": [
    "SVC_model.score(X_train,y_train)"
   ]
  },
  {
   "cell_type": "code",
   "execution_count": 0,
   "metadata": {
    "colab": {},
    "colab_type": "code",
    "id": "q3duRQvQBAOv"
   },
   "outputs": [],
   "source": [
    "y_pred_proba = SVC_model.predict_proba(X_test)[:,1]"
   ]
  },
  {
   "cell_type": "code",
   "execution_count": 0,
   "metadata": {
    "colab": {},
    "colab_type": "code",
    "id": "ISflKPxDCp2D"
   },
   "outputs": [],
   "source": [
    "fpr, tpr, thresholds = roc_curve(y_test, y_pred_proba)"
   ]
  },
  {
   "cell_type": "code",
   "execution_count": 62,
   "metadata": {
    "colab": {
     "base_uri": "https://localhost:8080/",
     "height": 295
    },
    "colab_type": "code",
    "id": "y0CTcBCrCx40",
    "outputId": "90a6b2ef-96cc-405b-e3d1-146a46596230"
   },
   "outputs": [
    {
     "data": {
      "image/png": "[encoded data removed]",
      "text/plain": [
       "<Figure size 432x288 with 1 Axes>"
      ]
     },
     "metadata": {
      "needs_background": "light",
      "tags": []
     },
     "output_type": "display_data"
    }
   ],
   "source": [
    "plt.plot([0,1],[0,1],'k--')\n",
    "plt.plot(fpr,tpr, label='SVM')\n",
    "plt.xlabel('fpr')\n",
    "plt.ylabel('tpr')\n",
    "plt.title('SVM ROC curve')\n",
    "plt.show()"
   ]
  },
  {
   "cell_type": "code",
   "execution_count": 63,
   "metadata": {
    "colab": {
     "base_uri": "https://localhost:8080/",
     "height": 50
    },
    "colab_type": "code",
    "id": "0tLx-NSDFcRM",
    "outputId": "badba98f-310e-4d48-c800-6a3a3e9c9ba9"
   },
   "outputs": [
    {
     "data": {
      "text/plain": [
       "array([[31, 36],\n",
       "       [34, 43]])"
      ]
     },
     "execution_count": 63,
     "metadata": {
      "tags": []
     },
     "output_type": "execute_result"
    }
   ],
   "source": [
    "y_pred = SVC_model.predict(X_test)\n",
    "confusion_matrix(y_test,y_pred)"
   ]
  },
  {
   "cell_type": "markdown",
   "metadata": {
    "colab_type": "text",
    "id": "oDA0V4DADSOb"
   },
   "source": [
    "**KNeighborsClassifier**\n"
   ]
  },
  {
   "cell_type": "code",
   "execution_count": 0,
   "metadata": {
    "colab": {},
    "colab_type": "code",
    "id": "Wad1wYp46KdR"
   },
   "outputs": [],
   "source": [
    "#import KNeighborsClassifier\n",
    "from sklearn.neighbors import KNeighborsClassifier\n",
    "\n",
    "#Setup arrays to store training and test accuracies\n",
    "neighbors = np.arange(1,9)\n",
    "train_accuracy =np.empty(len(neighbors))\n",
    "test_accuracy = np.empty(len(neighbors))\n",
    "\n",
    "for i,k in enumerate(neighbors):\n",
    "    #Setup a knn classifier with k neighbors\n",
    "    knn = KNeighborsClassifier(n_neighbors=k)\n",
    "    \n",
    "    #Fit the model\n",
    "    knn.fit(X_train, y_train)\n",
    "    \n",
    "    #Compute accuracy on the training set\n",
    "    train_accuracy[i] = knn.score(X_train, y_train)\n",
    "    \n",
    "    #Compute accuracy on the test set\n",
    "    test_accuracy[i] = knn.score(X_test, y_test) "
   ]
  },
  {
   "cell_type": "code",
   "execution_count": 65,
   "metadata": {
    "colab": {
     "base_uri": "https://localhost:8080/",
     "height": 295
    },
    "colab_type": "code",
    "id": "-jTbkY632ajS",
    "outputId": "009b6f9b-32f5-4b4d-ab62-29d6335adb75"
   },
   "outputs": [
    {
     "data": {
      "image/png": "[encoded data removed]",
      "text/plain": [
       "<Figure size 432x288 with 1 Axes>"
      ]
     },
     "metadata": {
      "needs_background": "light",
      "tags": []
     },
     "output_type": "display_data"
    }
   ],
   "source": [
    "plt.title('k-NN Varying number of neighbors')\n",
    "plt.plot(neighbors, test_accuracy, label='Testing Accuracy')\n",
    "plt.plot(neighbors, train_accuracy, label='Training accuracy')\n",
    "plt.legend()\n",
    "plt.xlabel('Number of neighbors')\n",
    "plt.ylabel('Accuracy')\n",
    "plt.show()"
   ]
  },
  {
   "cell_type": "code",
   "execution_count": 0,
   "metadata": {
    "colab": {},
    "colab_type": "code",
    "id": "yA00FOrydY5U"
   },
   "outputs": [],
   "source": []
  },
  {
   "cell_type": "code",
   "execution_count": 0,
   "metadata": {
    "colab": {},
    "colab_type": "code",
    "id": "GkU-lSWl62mV"
   },
   "outputs": [],
   "source": [
    "#Setup a knn classifier with k neighbors\n",
    "knn = KNeighborsClassifier(n_neighbors=3)"
   ]
  },
  {
   "cell_type": "markdown",
   "metadata": {
    "colab_type": "text",
    "id": "yj6f8GdFM69-"
   },
   "source": []
  },
  {
   "cell_type": "code",
   "execution_count": 67,
   "metadata": {
    "colab": {
     "base_uri": "https://localhost:8080/",
     "height": 67
    },
    "colab_type": "code",
    "id": "WnL3L5hG66Hq",
    "outputId": "1fc73825-a9bd-413b-a811-c628701d0a47"
   },
   "outputs": [
    {
     "data": {
      "text/plain": [
       "KNeighborsClassifier(algorithm='auto', leaf_size=30, metric='minkowski',\n",
       "                     metric_params=None, n_jobs=None, n_neighbors=3, p=2,\n",
       "                     weights='uniform')"
      ]
     },
     "execution_count": 67,
     "metadata": {
      "tags": []
     },
     "output_type": "execute_result"
    }
   ],
   "source": [
    "#Fit the model\n",
    "knn.fit(X_train,y_train)"
   ]
  },
  {
   "cell_type": "code",
   "execution_count": 68,
   "metadata": {
    "colab": {
     "base_uri": "https://localhost:8080/",
     "height": 34
    },
    "colab_type": "code",
    "id": "m4ZYG7uT69qg",
    "outputId": "c4667dff-ee06-468f-8474-709c85837e88"
   },
   "outputs": [
    {
     "data": {
      "text/plain": [
       "0.4791666666666667"
      ]
     },
     "execution_count": 68,
     "metadata": {
      "tags": []
     },
     "output_type": "execute_result"
    }
   ],
   "source": [
    "#Get accuracy. Note: In case of classification algorithms score method represents accuracy.\n",
    "knn.score(X_test,y_test)"
   ]
  },
  {
   "cell_type": "code",
   "execution_count": 0,
   "metadata": {
    "colab": {},
    "colab_type": "code",
    "id": "Xn2hEr4h7ejl"
   },
   "outputs": [],
   "source": [
    "#let us get the predictions using the classifier we had fit above\n",
    "y_pred = knn.predict(X_test)"
   ]
  },
  {
   "cell_type": "code",
   "execution_count": 70,
   "metadata": {
    "colab": {
     "base_uri": "https://localhost:8080/",
     "height": 50
    },
    "colab_type": "code",
    "id": "kKuC0uxK7hGm",
    "outputId": "f0b090ac-30e0-4fb8-b0f4-e602bee8b5cb"
   },
   "outputs": [
    {
     "data": {
      "text/plain": [
       "array([[35, 32],\n",
       "       [43, 34]])"
      ]
     },
     "execution_count": 70,
     "metadata": {
      "tags": []
     },
     "output_type": "execute_result"
    }
   ],
   "source": [
    "confusion_matrix(y_test,y_pred)"
   ]
  },
  {
   "cell_type": "code",
   "execution_count": 71,
   "metadata": {
    "colab": {
     "base_uri": "https://localhost:8080/",
     "height": 166
    },
    "colab_type": "code",
    "id": "Rs8chp-B7l7K",
    "outputId": "f1a2115d-bd48-4217-d050-04662870983a"
   },
   "outputs": [
    {
     "data": {
      "text/html": [
       "<div>\n",
       "<style scoped>\n",
       "    .dataframe tbody tr th:only-of-type {\n",
       "        vertical-align: middle;\n",
       "    }\n",
       "\n",
       "    .dataframe tbody tr th {\n",
       "        vertical-align: top;\n",
       "    }\n",
       "\n",
       "    .dataframe thead th {\n",
       "        text-align: right;\n",
       "    }\n",
       "</style>\n",
       "<table border=\"1\" class=\"dataframe\">\n",
       "  <thead>\n",
       "    <tr style=\"text-align: right;\">\n",
       "      <th>Predicted</th>\n",
       "      <th>0</th>\n",
       "      <th>1</th>\n",
       "      <th>All</th>\n",
       "    </tr>\n",
       "    <tr>\n",
       "      <th>True</th>\n",
       "      <th></th>\n",
       "      <th></th>\n",
       "      <th></th>\n",
       "    </tr>\n",
       "  </thead>\n",
       "  <tbody>\n",
       "    <tr>\n",
       "      <th>0</th>\n",
       "      <td>35</td>\n",
       "      <td>32</td>\n",
       "      <td>67</td>\n",
       "    </tr>\n",
       "    <tr>\n",
       "      <th>1</th>\n",
       "      <td>43</td>\n",
       "      <td>34</td>\n",
       "      <td>77</td>\n",
       "    </tr>\n",
       "    <tr>\n",
       "      <th>All</th>\n",
       "      <td>78</td>\n",
       "      <td>66</td>\n",
       "      <td>144</td>\n",
       "    </tr>\n",
       "  </tbody>\n",
       "</table>\n",
       "</div>"
      ],
      "text/plain": [
       "Predicted   0   1  All\n",
       "True                  \n",
       "0          35  32   67\n",
       "1          43  34   77\n",
       "All        78  66  144"
      ]
     },
     "execution_count": 71,
     "metadata": {
      "tags": []
     },
     "output_type": "execute_result"
    }
   ],
   "source": [
    "pd.crosstab(y_test, y_pred, rownames=['True'], colnames=['Predicted'], margins=True)"
   ]
  },
  {
   "cell_type": "code",
   "execution_count": 0,
   "metadata": {
    "colab": {},
    "colab_type": "code",
    "id": "Ga9tos6A7s8G"
   },
   "outputs": [],
   "source": [
    "y_pred_proba = knn.predict_proba(X_test)[:,1]"
   ]
  },
  {
   "cell_type": "code",
   "execution_count": 0,
   "metadata": {
    "colab": {},
    "colab_type": "code",
    "id": "3wCvdb7w7v7y"
   },
   "outputs": [],
   "source": [
    "from sklearn.metrics import roc_curve"
   ]
  },
  {
   "cell_type": "code",
   "execution_count": 0,
   "metadata": {
    "colab": {},
    "colab_type": "code",
    "id": "x7XHOFZo7yUO"
   },
   "outputs": [],
   "source": [
    "fpr, tpr, thresholds = roc_curve(y_test, y_pred_proba)"
   ]
  },
  {
   "cell_type": "code",
   "execution_count": 75,
   "metadata": {
    "colab": {
     "base_uri": "https://localhost:8080/",
     "height": 295
    },
    "colab_type": "code",
    "id": "bNKHfwgy72Zn",
    "outputId": "990f3270-c664-4c7d-afea-6bac92cc36f2"
   },
   "outputs": [
    {
     "data": {
      "image/png": "[encoded data removed]",
      "text/plain": [
       "<Figure size 432x288 with 1 Axes>"
      ]
     },
     "metadata": {
      "needs_background": "light",
      "tags": []
     },
     "output_type": "display_data"
    }
   ],
   "source": [
    "plt.plot([0,1],[0,1],'k--')\n",
    "plt.plot(fpr,tpr, label='Knn')\n",
    "plt.xlabel('fpr')\n",
    "plt.ylabel('tpr')\n",
    "plt.title('Knn(n_neighbors=7) ROC curve')\n",
    "plt.show()"
   ]
  },
  {
   "cell_type": "code",
   "execution_count": 76,
   "metadata": {
    "colab": {
     "base_uri": "https://localhost:8080/",
     "height": 34
    },
    "colab_type": "code",
    "id": "WgtDoVN_7-WB",
    "outputId": "1e5b7612-aed0-431e-8c8e-ba6c41bf7d82"
   },
   "outputs": [
    {
     "data": {
      "text/plain": [
       "0.493700329521225"
      ]
     },
     "execution_count": 76,
     "metadata": {
      "tags": []
     },
     "output_type": "execute_result"
    }
   ],
   "source": [
    "#Area under ROC curve\n",
    "from sklearn.metrics import roc_auc_score\n",
    "roc_auc_score(y_test,y_pred_proba)"
   ]
  },
  {
   "cell_type": "code",
   "execution_count": 0,
   "metadata": {
    "colab": {},
    "colab_type": "code",
    "id": "qHlaD_MM8Luv"
   },
   "outputs": [],
   "source": [
    "#import GridSearchCV\n",
    "from sklearn.model_selection import GridSearchCV"
   ]
  },
  {
   "cell_type": "code",
   "execution_count": 0,
   "metadata": {
    "colab": {},
    "colab_type": "code",
    "id": "yoMC4uez8Q50"
   },
   "outputs": [],
   "source": [
    "#In case of classifier like knn the parameter to be tuned is n_neighbors\n",
    "param_grid = {'n_neighbors':np.arange(1,50)}"
   ]
  },
  {
   "cell_type": "markdown",
   "metadata": {
    "colab_type": "text",
    "id": "NNm5klZENMGR"
   },
   "source": [
    "**KNN with Grid Search**"
   ]
  },
  {
   "cell_type": "code",
   "execution_count": 79,
   "metadata": {
    "colab": {
     "base_uri": "https://localhost:8080/",
     "height": 218
    },
    "colab_type": "code",
    "id": "HATtklz88TXG",
    "outputId": "23067be9-4424-491d-eeb6-5d121abdd8b4"
   },
   "outputs": [
    {
     "data": {
      "text/plain": [
       "GridSearchCV(cv=5, error_score=nan,\n",
       "             estimator=KNeighborsClassifier(algorithm='auto', leaf_size=30,\n",
       "                                            metric='minkowski',\n",
       "                                            metric_params=None, n_jobs=None,\n",
       "                                            n_neighbors=5, p=2,\n",
       "                                            weights='uniform'),\n",
       "             iid='deprecated', n_jobs=None,\n",
       "             param_grid={'n_neighbors': array([ 1,  2,  3,  4,  5,  6,  7,  8,  9, 10, 11, 12, 13, 14, 15, 16, 17,\n",
       "       18, 19, 20, 21, 22, 23, 24, 25, 26, 27, 28, 29, 30, 31, 32, 33, 34,\n",
       "       35, 36, 37, 38, 39, 40, 41, 42, 43, 44, 45, 46, 47, 48, 49])},\n",
       "             pre_dispatch='2*n_jobs', refit=True, return_train_score=False,\n",
       "             scoring=None, verbose=0)"
      ]
     },
     "execution_count": 79,
     "metadata": {
      "tags": []
     },
     "output_type": "execute_result"
    }
   ],
   "source": [
    "knn = KNeighborsClassifier()\n",
    "knn_cv= GridSearchCV(knn,param_grid,cv=5)\n",
    "knn_cv.fit(X,Y)"
   ]
  },
  {
   "cell_type": "code",
   "execution_count": 80,
   "metadata": {
    "colab": {
     "base_uri": "https://localhost:8080/",
     "height": 34
    },
    "colab_type": "code",
    "id": "LMjXnBCQ8Zc5",
    "outputId": "0178d125-6392-434b-9d3c-d488a9dc8335"
   },
   "outputs": [
    {
     "data": {
      "text/plain": [
       "0.5305555555555556"
      ]
     },
     "execution_count": 80,
     "metadata": {
      "tags": []
     },
     "output_type": "execute_result"
    }
   ],
   "source": [
    "knn_cv.best_score_"
   ]
  },
  {
   "cell_type": "code",
   "execution_count": 81,
   "metadata": {
    "colab": {
     "base_uri": "https://localhost:8080/",
     "height": 34
    },
    "colab_type": "code",
    "id": "f4DmJzzi8cEm",
    "outputId": "033786ef-d5d5-49b3-bca4-b90b69b08248"
   },
   "outputs": [
    {
     "data": {
      "text/plain": [
       "{'n_neighbors': 46}"
      ]
     },
     "execution_count": 81,
     "metadata": {
      "tags": []
     },
     "output_type": "execute_result"
    }
   ],
   "source": [
    "knn_cv.best_params_\n"
   ]
  },
  {
   "cell_type": "markdown",
   "metadata": {
    "colab_type": "text",
    "id": "C_tBrFHAD45H"
   },
   "source": [
    "**GaussianNB() Logistics Regression**"
   ]
  },
  {
   "cell_type": "code",
   "execution_count": 0,
   "metadata": {
    "colab": {},
    "colab_type": "code",
    "id": "NqoO3H3-GMzT"
   },
   "outputs": [],
   "source": [
    "from sklearn.naive_bayes import GaussianNB\n",
    "from sklearn.linear_model import LogisticRegression \n",
    "from sklearn.metrics import roc_curve, auc\n",
    "from sklearn.model_selection import train_test_split\n",
    "\n",
    "gnb = GaussianNB()\n",
    "gnb.fit(X_train, y_train)\n",
    "Y_gnb_score = gnb.predict_proba(X_test)\n",
    "lr = LogisticRegression() \n",
    "lr.fit(X_train, y_train)\n",
    "Y_lr_score = lr.decision_function(X_test)"
   ]
  },
  {
   "cell_type": "code",
   "execution_count": 83,
   "metadata": {
    "colab": {
     "base_uri": "https://localhost:8080/",
     "height": 34
    },
    "colab_type": "code",
    "id": "ZXF2O80iHE0T",
    "outputId": "11121fcc-32a1-4a70-fed1-d54a7c8759e9"
   },
   "outputs": [
    {
     "data": {
      "text/plain": [
       "0.5347222222222222"
      ]
     },
     "execution_count": 83,
     "metadata": {
      "tags": []
     },
     "output_type": "execute_result"
    }
   ],
   "source": [
    "gnb.score(X_train,y_train)"
   ]
  },
  {
   "cell_type": "code",
   "execution_count": 0,
   "metadata": {
    "colab": {},
    "colab_type": "code",
    "id": "aMtOmMvvGms_"
   },
   "outputs": [],
   "source": [
    "fpr_gnb, tpr_gnb, thresholds_gnb = roc_curve(y_test, Y_gnb_score[:, 1])\n",
    "fpr_lr, tpr_lr, thresholds_lr = roc_curve(y_test, Y_lr_score)"
   ]
  },
  {
   "cell_type": "code",
   "execution_count": 85,
   "metadata": {
    "colab": {
     "base_uri": "https://localhost:8080/",
     "height": 295
    },
    "colab_type": "code",
    "id": "Z2ZxbJZZGvdg",
    "outputId": "d7f7f1a6-dd35-4d8c-869b-700abbcf1bad"
   },
   "outputs": [
    {
     "data": {
      "image/png": "[encoded data removed]",
      "text/plain": [
       "<Figure size 432x288 with 1 Axes>"
      ]
     },
     "metadata": {
      "needs_background": "light",
      "tags": []
     },
     "output_type": "display_data"
    }
   ],
   "source": [
    "plt.plot([0,1],[0,1],'k--')\n",
    "plt.plot(fpr_gnb,tpr_gnb, label='Knn')\n",
    "plt.xlabel('fpr')\n",
    "plt.ylabel('tpr')\n",
    "plt.title('Gaussian NB ROC curve')\n",
    "plt.show()"
   ]
  },
  {
   "cell_type": "code",
   "execution_count": 86,
   "metadata": {
    "colab": {
     "base_uri": "https://localhost:8080/",
     "height": 34
    },
    "colab_type": "code",
    "id": "7glVnyA7HNI2",
    "outputId": "20ac5821-f088-4f22-94c8-1186f6b7c8e3"
   },
   "outputs": [
    {
     "data": {
      "text/plain": [
       "0.5416666666666666"
      ]
     },
     "execution_count": 86,
     "metadata": {
      "tags": []
     },
     "output_type": "execute_result"
    }
   ],
   "source": [
    "lr.score(X_train,y_train)"
   ]
  },
  {
   "cell_type": "code",
   "execution_count": 0,
   "metadata": {
    "colab": {},
    "colab_type": "code",
    "id": "ErLXelIGHWoV"
   },
   "outputs": [],
   "source": [
    "y_pred = lr.predict(X_test)"
   ]
  },
  {
   "cell_type": "code",
   "execution_count": 88,
   "metadata": {
    "colab": {
     "base_uri": "https://localhost:8080/",
     "height": 50
    },
    "colab_type": "code",
    "id": "ABnQszR4HfVN",
    "outputId": "8db4eb25-b423-407a-b462-e1fce39abbac"
   },
   "outputs": [
    {
     "data": {
      "text/plain": [
       "array([[33, 34],\n",
       "       [29, 48]])"
      ]
     },
     "execution_count": 88,
     "metadata": {
      "tags": []
     },
     "output_type": "execute_result"
    }
   ],
   "source": [
    "confusion_matrix(y_test,y_pred)"
   ]
  },
  {
   "cell_type": "code",
   "execution_count": 89,
   "metadata": {
    "colab": {
     "base_uri": "https://localhost:8080/",
     "height": 295
    },
    "colab_type": "code",
    "id": "wzCmacH_G0W0",
    "outputId": "7f1f8bfb-1f58-4075-ceb0-812f34cfb8d5"
   },
   "outputs": [
    {
     "data": {
      "image/png": "[encoded data removed]",
      "text/plain": [
       "<Figure size 432x288 with 1 Axes>"
      ]
     },
     "metadata": {
      "needs_background": "light",
      "tags": []
     },
     "output_type": "display_data"
    }
   ],
   "source": [
    "plt.plot([0,1],[0,1],'k--')\n",
    "plt.plot(fpr_lr,tpr_lr, label='Knn')\n",
    "plt.xlabel('fpr')\n",
    "plt.ylabel('tpr')\n",
    "plt.title('Logistics Regression ROC curve')\n",
    "plt.show()"
   ]
  },
  {
   "cell_type": "code",
   "execution_count": 90,
   "metadata": {
    "colab": {
     "base_uri": "https://localhost:8080/",
     "height": 34
    },
    "colab_type": "code",
    "id": "GXpeHrcElfTE",
    "outputId": "4de9ca34-42f1-41e2-d90a-afef6e580301"
   },
   "outputs": [
    {
     "data": {
      "text/plain": [
       "GaussianNB(priors=None, var_smoothing=1e-09)"
      ]
     },
     "execution_count": 90,
     "metadata": {
      "tags": []
     },
     "output_type": "execute_result"
    }
   ],
   "source": [
    "clf1 = GaussianNB()\n",
    "clf1.fit(X_train, y_train)\n"
   ]
  },
  {
   "cell_type": "code",
   "execution_count": 0,
   "metadata": {
    "colab": {},
    "colab_type": "code",
    "id": "R2eECdnYHOjt"
   },
   "outputs": [],
   "source": [
    "y_pred = clf1.predict(X_test)"
   ]
  },
  {
   "cell_type": "code",
   "execution_count": 92,
   "metadata": {
    "colab": {
     "base_uri": "https://localhost:8080/",
     "height": 50
    },
    "colab_type": "code",
    "id": "TB-kcX1HHqwO",
    "outputId": "13234a77-9d39-438f-ca68-04813aac5ba8"
   },
   "outputs": [
    {
     "data": {
      "text/plain": [
       "array([[17, 50],\n",
       "       [18, 59]])"
      ]
     },
     "execution_count": 92,
     "metadata": {
      "tags": []
     },
     "output_type": "execute_result"
    }
   ],
   "source": [
    "confusion_matrix(y_test,y_pred)"
   ]
  },
  {
   "cell_type": "code",
   "execution_count": 93,
   "metadata": {
    "colab": {
     "base_uri": "https://localhost:8080/",
     "height": 84
    },
    "colab_type": "code",
    "id": "1pFnbFnJmLft",
    "outputId": "abbefa68-3a83-467d-db4d-ff6e8a6bb8ba"
   },
   "outputs": [
    {
     "name": "stdout",
     "output_type": "stream",
     "text": [
      "[0 0 1 1 0 0 1 1 0 0 0 1 1 1 1 0 1 1 1 0 0 1 1 1 1 1 1 1 1 0 1 1 1 1 1 1 1\n",
      " 0 0 0 1 1 1 1 1 1 1 0 1 1 1 0 1 1 1 1 1 1 1 1 1 1 0 1 1 0 1 1 0 1 1 1 1 0\n",
      " 1 1 0 1 1 1 0 1 1 0 1 0 1 1 1 1 1 0 1 1 1 1 0 1 1 1 1 1 1 0 0 1 1 1 1 1 1\n",
      " 1 0 1 1 1 1 1 1 1 1 1 0 0 1 0 1 1 1 1 0 1 1 1 0 1 1 1 1 1 0 1 1 1]\n"
     ]
    }
   ],
   "source": [
    "GaussianNB()\n",
    "print(clf1.predict(X_test))"
   ]
  },
  {
   "cell_type": "code",
   "execution_count": 94,
   "metadata": {
    "colab": {
     "base_uri": "https://localhost:8080/",
     "height": 34
    },
    "colab_type": "code",
    "id": "Oh6JBC2Cmo0v",
    "outputId": "e704ba53-0cc1-4905-c065-c664c7681886"
   },
   "outputs": [
    {
     "data": {
      "text/plain": [
       "0.5347222222222222"
      ]
     },
     "execution_count": 94,
     "metadata": {
      "tags": []
     },
     "output_type": "execute_result"
    }
   ],
   "source": [
    "clf1.score(X_train,y_train)"
   ]
  },
  {
   "cell_type": "code",
   "execution_count": 95,
   "metadata": {
    "colab": {
     "base_uri": "https://localhost:8080/",
     "height": 34
    },
    "colab_type": "code",
    "id": "i1oh8AeFm3L-",
    "outputId": "872a6430-2daf-4dc4-c0fe-a77fadb83271"
   },
   "outputs": [
    {
     "data": {
      "text/plain": [
       "0.5277777777777778"
      ]
     },
     "execution_count": 95,
     "metadata": {
      "tags": []
     },
     "output_type": "execute_result"
    }
   ],
   "source": [
    "clf1.score(X_test,y_test)"
   ]
  },
  {
   "cell_type": "markdown",
   "metadata": {
    "colab_type": "text",
    "id": "_zMZ925pnZO_"
   },
   "source": [
    "**Neual Network**"
   ]
  },
  {
   "cell_type": "code",
   "execution_count": 96,
   "metadata": {
    "colab": {
     "base_uri": "https://localhost:8080/",
     "height": 34
    },
    "colab_type": "code",
    "id": "2gDfKI4am9Np",
    "outputId": "93f595a4-a399-43f0-cccf-3117b8ed7ba0"
   },
   "outputs": [
    {
     "name": "stderr",
     "output_type": "stream",
     "text": [
      "Using TensorFlow backend.\n"
     ]
    }
   ],
   "source": [
    "import pandas as pd\n",
    "import numpy as np\n",
    "import keras\n",
    "from sklearn import metrics\n",
    "from sklearn.metrics import confusion_matrix, precision_recall_curve, roc_auc_score, roc_curve, accuracy_score\n",
    "import matplotlib.pyplot as plt"
   ]
  },
  {
   "cell_type": "code",
   "execution_count": 0,
   "metadata": {
    "colab": {},
    "colab_type": "code",
    "id": "Q70WrGOhoB-C"
   },
   "outputs": [],
   "source": [
    "from keras.models import Sequential\n",
    "from keras.layers import Dense\n",
    "#create model\n",
    "#model = Sequential()"
   ]
  },
  {
   "cell_type": "code",
   "execution_count": 98,
   "metadata": {
    "colab": {
     "base_uri": "https://localhost:8080/",
     "height": 34
    },
    "colab_type": "code",
    "id": "Pd3HrbrzoHcg",
    "outputId": "9089a022-cb70-4af8-d69f-6752710d0656"
   },
   "outputs": [
    {
     "data": {
      "text/plain": [
       "6"
      ]
     },
     "execution_count": 98,
     "metadata": {
      "tags": []
     },
     "output_type": "execute_result"
    }
   ],
   "source": [
    "n_cols = X_train.shape[1]\n",
    "n_cols"
   ]
  },
  {
   "cell_type": "code",
   "execution_count": 0,
   "metadata": {
    "colab": {},
    "colab_type": "code",
    "id": "inMIZ0mYoRXv"
   },
   "outputs": [],
   "source": [
    "model1 = Sequential([\n",
    "    Dense(1, input_shape=(n_cols,), activation=\"relu\"),\n",
    "    Dense(1, activation=\"sigmoid\")\n",
    "])\n"
   ]
  },
  {
   "cell_type": "code",
   "execution_count": 100,
   "metadata": {
    "colab": {
     "base_uri": "https://localhost:8080/",
     "height": 218
    },
    "colab_type": "code",
    "id": "PmQIQ2Wcoalo",
    "outputId": "38ba47f6-0568-4e07-ff47-2ffeae0dbfba"
   },
   "outputs": [
    {
     "name": "stdout",
     "output_type": "stream",
     "text": [
      "Model: \"sequential_1\"\n",
      "_________________________________________________________________\n",
      "Layer (type)                 Output Shape              Param #   \n",
      "=================================================================\n",
      "dense_1 (Dense)              (None, 1)                 7         \n",
      "_________________________________________________________________\n",
      "dense_2 (Dense)              (None, 1)                 2         \n",
      "=================================================================\n",
      "Total params: 9\n",
      "Trainable params: 9\n",
      "Non-trainable params: 0\n",
      "_________________________________________________________________\n"
     ]
    }
   ],
   "source": [
    "model1.summary()\n",
    "#model1.get_weights()"
   ]
  },
  {
   "cell_type": "code",
   "execution_count": 101,
   "metadata": {
    "colab": {
     "base_uri": "https://localhost:8080/",
     "height": 168
    },
    "colab_type": "code",
    "id": "RTDxIyL6oioT",
    "outputId": "f9771a80-66a8-4b00-a570-ab577e3a617d"
   },
   "outputs": [
    {
     "data": {
      "text/plain": [
       "[array([[-0.39],\n",
       "        [-0.06],\n",
       "        [ 0.54],\n",
       "        [-0.34],\n",
       "        [-0.86],\n",
       "        [-0.4 ]], dtype=float32),\n",
       " array([0.], dtype=float32),\n",
       " array([[-0.39]], dtype=float32),\n",
       " array([0.], dtype=float32)]"
      ]
     },
     "execution_count": 101,
     "metadata": {
      "tags": []
     },
     "output_type": "execute_result"
    }
   ],
   "source": [
    "model1.get_weights()"
   ]
  },
  {
   "cell_type": "code",
   "execution_count": 102,
   "metadata": {
    "colab": {
     "base_uri": "https://localhost:8080/",
     "height": 1000
    },
    "colab_type": "code",
    "id": "TiewVXhaoobQ",
    "outputId": "00d2fd33-cb3d-4ddf-ea74-002506416e7c"
   },
   "outputs": [
    {
     "name": "stdout",
     "output_type": "stream",
     "text": [
      "Train on 576 samples, validate on 144 samples\n",
      "Epoch 1/100\n",
      "576/576 [==============================] - 0s 489us/step - loss: 0.7053 - accuracy: 0.4566 - val_loss: 0.7004 - val_accuracy: 0.5208\n",
      "Epoch 2/100\n",
      "576/576 [==============================] - 0s 46us/step - loss: 0.7050 - accuracy: 0.4809 - val_loss: 0.7001 - val_accuracy: 0.5208\n",
      "Epoch 3/100\n",
      "576/576 [==============================] - 0s 46us/step - loss: 0.7047 - accuracy: 0.4826 - val_loss: 0.6998 - val_accuracy: 0.5208\n",
      "Epoch 4/100\n",
      "576/576 [==============================] - 0s 58us/step - loss: 0.7044 - accuracy: 0.4844 - val_loss: 0.6995 - val_accuracy: 0.5139\n",
      "Epoch 5/100\n",
      "576/576 [==============================] - 0s 47us/step - loss: 0.7042 - accuracy: 0.4844 - val_loss: 0.6992 - val_accuracy: 0.5139\n",
      "Epoch 6/100\n",
      "576/576 [==============================] - 0s 49us/step - loss: 0.7039 - accuracy: 0.4861 - val_loss: 0.6990 - val_accuracy: 0.5139\n",
      "Epoch 7/100\n",
      "576/576 [==============================] - 0s 57us/step - loss: 0.7036 - accuracy: 0.4844 - val_loss: 0.6987 - val_accuracy: 0.5139\n",
      "Epoch 8/100\n",
      "576/576 [==============================] - 0s 41us/step - loss: 0.7034 - accuracy: 0.4878 - val_loss: 0.6985 - val_accuracy: 0.5139\n",
      "Epoch 9/100\n",
      "576/576 [==============================] - 0s 42us/step - loss: 0.7032 - accuracy: 0.4878 - val_loss: 0.6982 - val_accuracy: 0.5069\n",
      "Epoch 10/100\n",
      "576/576 [==============================] - 0s 40us/step - loss: 0.7029 - accuracy: 0.4878 - val_loss: 0.6980 - val_accuracy: 0.5000\n",
      "Epoch 11/100\n",
      "576/576 [==============================] - 0s 41us/step - loss: 0.7027 - accuracy: 0.4878 - val_loss: 0.6977 - val_accuracy: 0.5069\n",
      "Epoch 12/100\n",
      "576/576 [==============================] - 0s 41us/step - loss: 0.7025 - accuracy: 0.4878 - val_loss: 0.6975 - val_accuracy: 0.5069\n",
      "Epoch 13/100\n",
      "576/576 [==============================] - 0s 41us/step - loss: 0.7023 - accuracy: 0.4896 - val_loss: 0.6973 - val_accuracy: 0.5000\n",
      "Epoch 14/100\n",
      "576/576 [==============================] - 0s 40us/step - loss: 0.7021 - accuracy: 0.4931 - val_loss: 0.6971 - val_accuracy: 0.5000\n",
      "Epoch 15/100\n",
      "576/576 [==============================] - 0s 52us/step - loss: 0.7019 - accuracy: 0.4913 - val_loss: 0.6969 - val_accuracy: 0.5000\n",
      "Epoch 16/100\n",
      "576/576 [==============================] - 0s 49us/step - loss: 0.7017 - accuracy: 0.4896 - val_loss: 0.6967 - val_accuracy: 0.5000\n",
      "Epoch 17/100\n",
      "576/576 [==============================] - 0s 45us/step - loss: 0.7015 - accuracy: 0.4878 - val_loss: 0.6965 - val_accuracy: 0.5000\n",
      "Epoch 18/100\n",
      "576/576 [==============================] - 0s 49us/step - loss: 0.7013 - accuracy: 0.4861 - val_loss: 0.6963 - val_accuracy: 0.5000\n",
      "Epoch 19/100\n",
      "576/576 [==============================] - 0s 51us/step - loss: 0.7012 - accuracy: 0.4844 - val_loss: 0.6962 - val_accuracy: 0.5000\n",
      "Epoch 20/100\n",
      "576/576 [==============================] - 0s 47us/step - loss: 0.7010 - accuracy: 0.4861 - val_loss: 0.6960 - val_accuracy: 0.5000\n",
      "Epoch 21/100\n",
      "576/576 [==============================] - 0s 42us/step - loss: 0.7008 - accuracy: 0.4861 - val_loss: 0.6958 - val_accuracy: 0.5000\n",
      "Epoch 22/100\n",
      "576/576 [==============================] - 0s 40us/step - loss: 0.7007 - accuracy: 0.4861 - val_loss: 0.6957 - val_accuracy: 0.5000\n",
      "Epoch 23/100\n",
      "576/576 [==============================] - 0s 42us/step - loss: 0.7005 - accuracy: 0.4878 - val_loss: 0.6955 - val_accuracy: 0.5069\n",
      "Epoch 24/100\n",
      "576/576 [==============================] - 0s 40us/step - loss: 0.7004 - accuracy: 0.4896 - val_loss: 0.6953 - val_accuracy: 0.5139\n",
      "Epoch 25/100\n",
      "576/576 [==============================] - 0s 44us/step - loss: 0.7002 - accuracy: 0.4878 - val_loss: 0.6952 - val_accuracy: 0.5139\n",
      "Epoch 26/100\n",
      "576/576 [==============================] - 0s 48us/step - loss: 0.7001 - accuracy: 0.4861 - val_loss: 0.6951 - val_accuracy: 0.5139\n",
      "Epoch 27/100\n",
      "576/576 [==============================] - 0s 47us/step - loss: 0.6999 - accuracy: 0.4878 - val_loss: 0.6949 - val_accuracy: 0.5139\n",
      "Epoch 28/100\n",
      "576/576 [==============================] - 0s 54us/step - loss: 0.6998 - accuracy: 0.4861 - val_loss: 0.6948 - val_accuracy: 0.5139\n",
      "Epoch 29/100\n",
      "576/576 [==============================] - 0s 48us/step - loss: 0.6997 - accuracy: 0.4861 - val_loss: 0.6947 - val_accuracy: 0.5208\n",
      "Epoch 30/100\n",
      "576/576 [==============================] - 0s 47us/step - loss: 0.6995 - accuracy: 0.4861 - val_loss: 0.6945 - val_accuracy: 0.5208\n",
      "Epoch 31/100\n",
      "576/576 [==============================] - 0s 51us/step - loss: 0.6994 - accuracy: 0.4861 - val_loss: 0.6944 - val_accuracy: 0.5208\n",
      "Epoch 32/100\n",
      "576/576 [==============================] - 0s 47us/step - loss: 0.6993 - accuracy: 0.4844 - val_loss: 0.6943 - val_accuracy: 0.5208\n",
      "Epoch 33/100\n",
      "576/576 [==============================] - 0s 47us/step - loss: 0.6992 - accuracy: 0.4844 - val_loss: 0.6942 - val_accuracy: 0.5208\n",
      "Epoch 34/100\n",
      "576/576 [==============================] - 0s 48us/step - loss: 0.6991 - accuracy: 0.4861 - val_loss: 0.6941 - val_accuracy: 0.5208\n",
      "Epoch 35/100\n",
      "576/576 [==============================] - 0s 47us/step - loss: 0.6990 - accuracy: 0.4861 - val_loss: 0.6940 - val_accuracy: 0.5139\n",
      "Epoch 36/100\n",
      "576/576 [==============================] - 0s 46us/step - loss: 0.6989 - accuracy: 0.4861 - val_loss: 0.6939 - val_accuracy: 0.5139\n",
      "Epoch 37/100\n",
      "576/576 [==============================] - 0s 49us/step - loss: 0.6988 - accuracy: 0.4896 - val_loss: 0.6938 - val_accuracy: 0.5139\n",
      "Epoch 38/100\n",
      "576/576 [==============================] - 0s 48us/step - loss: 0.6987 - accuracy: 0.4896 - val_loss: 0.6937 - val_accuracy: 0.5069\n",
      "Epoch 39/100\n",
      "576/576 [==============================] - 0s 49us/step - loss: 0.6986 - accuracy: 0.4809 - val_loss: 0.6936 - val_accuracy: 0.5069\n",
      "Epoch 40/100\n",
      "576/576 [==============================] - 0s 47us/step - loss: 0.6985 - accuracy: 0.4844 - val_loss: 0.6935 - val_accuracy: 0.5069\n",
      "Epoch 41/100\n",
      "576/576 [==============================] - 0s 50us/step - loss: 0.6984 - accuracy: 0.4826 - val_loss: 0.6934 - val_accuracy: 0.5069\n",
      "Epoch 42/100\n",
      "576/576 [==============================] - 0s 46us/step - loss: 0.6983 - accuracy: 0.4826 - val_loss: 0.6933 - val_accuracy: 0.5069\n",
      "Epoch 43/100\n",
      "576/576 [==============================] - 0s 46us/step - loss: 0.6982 - accuracy: 0.4826 - val_loss: 0.6932 - val_accuracy: 0.5069\n",
      "Epoch 44/100\n",
      "576/576 [==============================] - 0s 40us/step - loss: 0.6981 - accuracy: 0.4878 - val_loss: 0.6931 - val_accuracy: 0.5139\n",
      "Epoch 45/100\n",
      "576/576 [==============================] - 0s 39us/step - loss: 0.6980 - accuracy: 0.4878 - val_loss: 0.6930 - val_accuracy: 0.5139\n",
      "Epoch 46/100\n",
      "576/576 [==============================] - 0s 43us/step - loss: 0.6979 - accuracy: 0.4878 - val_loss: 0.6930 - val_accuracy: 0.5139\n",
      "Epoch 47/100\n",
      "576/576 [==============================] - 0s 41us/step - loss: 0.6978 - accuracy: 0.4861 - val_loss: 0.6929 - val_accuracy: 0.5139\n",
      "Epoch 48/100\n",
      "576/576 [==============================] - 0s 39us/step - loss: 0.6978 - accuracy: 0.4861 - val_loss: 0.6928 - val_accuracy: 0.5139\n",
      "Epoch 49/100\n",
      "576/576 [==============================] - 0s 42us/step - loss: 0.6977 - accuracy: 0.4878 - val_loss: 0.6927 - val_accuracy: 0.5139\n",
      "Epoch 50/100\n",
      "576/576 [==============================] - 0s 59us/step - loss: 0.6976 - accuracy: 0.4861 - val_loss: 0.6927 - val_accuracy: 0.5139\n",
      "Epoch 51/100\n",
      "576/576 [==============================] - 0s 54us/step - loss: 0.6975 - accuracy: 0.4861 - val_loss: 0.6926 - val_accuracy: 0.5139\n",
      "Epoch 52/100\n",
      "576/576 [==============================] - 0s 54us/step - loss: 0.6975 - accuracy: 0.4844 - val_loss: 0.6925 - val_accuracy: 0.5139\n",
      "Epoch 53/100\n",
      "576/576 [==============================] - 0s 48us/step - loss: 0.6974 - accuracy: 0.4844 - val_loss: 0.6925 - val_accuracy: 0.5208\n",
      "Epoch 54/100\n",
      "576/576 [==============================] - 0s 51us/step - loss: 0.6973 - accuracy: 0.4861 - val_loss: 0.6924 - val_accuracy: 0.5208\n",
      "Epoch 55/100\n",
      "576/576 [==============================] - 0s 48us/step - loss: 0.6972 - accuracy: 0.4861 - val_loss: 0.6923 - val_accuracy: 0.5208\n",
      "Epoch 56/100\n",
      "576/576 [==============================] - 0s 41us/step - loss: 0.6972 - accuracy: 0.4878 - val_loss: 0.6923 - val_accuracy: 0.5208\n",
      "Epoch 57/100\n",
      "576/576 [==============================] - 0s 40us/step - loss: 0.6971 - accuracy: 0.4861 - val_loss: 0.6922 - val_accuracy: 0.5208\n",
      "Epoch 58/100\n",
      "576/576 [==============================] - 0s 43us/step - loss: 0.6971 - accuracy: 0.4861 - val_loss: 0.6922 - val_accuracy: 0.5208\n",
      "Epoch 59/100\n",
      "576/576 [==============================] - 0s 47us/step - loss: 0.6970 - accuracy: 0.4861 - val_loss: 0.6921 - val_accuracy: 0.5208\n",
      "Epoch 60/100\n",
      "576/576 [==============================] - 0s 41us/step - loss: 0.6969 - accuracy: 0.4861 - val_loss: 0.6921 - val_accuracy: 0.5208\n",
      "Epoch 61/100\n",
      "576/576 [==============================] - 0s 41us/step - loss: 0.6968 - accuracy: 0.4861 - val_loss: 0.6920 - val_accuracy: 0.5208\n",
      "Epoch 62/100\n",
      "576/576 [==============================] - 0s 40us/step - loss: 0.6968 - accuracy: 0.4861 - val_loss: 0.6919 - val_accuracy: 0.5208\n",
      "Epoch 63/100\n",
      "576/576 [==============================] - 0s 40us/step - loss: 0.6967 - accuracy: 0.4861 - val_loss: 0.6919 - val_accuracy: 0.5208\n",
      "Epoch 64/100\n",
      "576/576 [==============================] - 0s 39us/step - loss: 0.6967 - accuracy: 0.4861 - val_loss: 0.6919 - val_accuracy: 0.5208\n",
      "Epoch 65/100\n",
      "576/576 [==============================] - 0s 50us/step - loss: 0.6966 - accuracy: 0.4861 - val_loss: 0.6918 - val_accuracy: 0.5208\n",
      "Epoch 66/100\n",
      "576/576 [==============================] - 0s 41us/step - loss: 0.6966 - accuracy: 0.4878 - val_loss: 0.6918 - val_accuracy: 0.5208\n",
      "Epoch 67/100\n",
      "576/576 [==============================] - 0s 41us/step - loss: 0.6965 - accuracy: 0.4878 - val_loss: 0.6917 - val_accuracy: 0.5208\n",
      "Epoch 68/100\n",
      "576/576 [==============================] - 0s 40us/step - loss: 0.6965 - accuracy: 0.4861 - val_loss: 0.6917 - val_accuracy: 0.5139\n",
      "Epoch 69/100\n",
      "576/576 [==============================] - 0s 43us/step - loss: 0.6964 - accuracy: 0.4861 - val_loss: 0.6916 - val_accuracy: 0.5139\n",
      "Epoch 70/100\n",
      "576/576 [==============================] - 0s 41us/step - loss: 0.6964 - accuracy: 0.4861 - val_loss: 0.6916 - val_accuracy: 0.5208\n",
      "Epoch 71/100\n",
      "576/576 [==============================] - 0s 45us/step - loss: 0.6963 - accuracy: 0.4878 - val_loss: 0.6916 - val_accuracy: 0.5208\n",
      "Epoch 72/100\n",
      "576/576 [==============================] - 0s 42us/step - loss: 0.6963 - accuracy: 0.4896 - val_loss: 0.6915 - val_accuracy: 0.5208\n",
      "Epoch 73/100\n",
      "576/576 [==============================] - 0s 46us/step - loss: 0.6962 - accuracy: 0.4896 - val_loss: 0.6915 - val_accuracy: 0.5208\n",
      "Epoch 74/100\n",
      "576/576 [==============================] - 0s 53us/step - loss: 0.6962 - accuracy: 0.4896 - val_loss: 0.6914 - val_accuracy: 0.5278\n",
      "Epoch 75/100\n",
      "576/576 [==============================] - 0s 47us/step - loss: 0.6961 - accuracy: 0.4913 - val_loss: 0.6914 - val_accuracy: 0.5278\n",
      "Epoch 76/100\n",
      "576/576 [==============================] - 0s 47us/step - loss: 0.6961 - accuracy: 0.4931 - val_loss: 0.6914 - val_accuracy: 0.5278\n",
      "Epoch 77/100\n",
      "576/576 [==============================] - 0s 49us/step - loss: 0.6960 - accuracy: 0.4931 - val_loss: 0.6913 - val_accuracy: 0.5347\n",
      "Epoch 78/100\n",
      "576/576 [==============================] - 0s 54us/step - loss: 0.6960 - accuracy: 0.4948 - val_loss: 0.6913 - val_accuracy: 0.5347\n",
      "Epoch 79/100\n",
      "576/576 [==============================] - 0s 40us/step - loss: 0.6960 - accuracy: 0.4948 - val_loss: 0.6913 - val_accuracy: 0.5347\n",
      "Epoch 80/100\n",
      "576/576 [==============================] - 0s 43us/step - loss: 0.6959 - accuracy: 0.4983 - val_loss: 0.6912 - val_accuracy: 0.5278\n",
      "Epoch 81/100\n",
      "576/576 [==============================] - 0s 42us/step - loss: 0.6959 - accuracy: 0.4965 - val_loss: 0.6912 - val_accuracy: 0.5278\n",
      "Epoch 82/100\n",
      "576/576 [==============================] - 0s 46us/step - loss: 0.6958 - accuracy: 0.4965 - val_loss: 0.6912 - val_accuracy: 0.5278\n",
      "Epoch 83/100\n",
      "576/576 [==============================] - 0s 42us/step - loss: 0.6958 - accuracy: 0.4965 - val_loss: 0.6912 - val_accuracy: 0.5278\n",
      "Epoch 84/100\n",
      "576/576 [==============================] - 0s 48us/step - loss: 0.6958 - accuracy: 0.4965 - val_loss: 0.6911 - val_accuracy: 0.5347\n",
      "Epoch 85/100\n",
      "576/576 [==============================] - 0s 51us/step - loss: 0.6957 - accuracy: 0.4948 - val_loss: 0.6911 - val_accuracy: 0.5347\n",
      "Epoch 86/100\n",
      "576/576 [==============================] - 0s 48us/step - loss: 0.6957 - accuracy: 0.4948 - val_loss: 0.6911 - val_accuracy: 0.5347\n",
      "Epoch 87/100\n",
      "576/576 [==============================] - 0s 48us/step - loss: 0.6956 - accuracy: 0.4948 - val_loss: 0.6911 - val_accuracy: 0.5417\n",
      "Epoch 88/100\n",
      "576/576 [==============================] - 0s 44us/step - loss: 0.6956 - accuracy: 0.4948 - val_loss: 0.6910 - val_accuracy: 0.5417\n",
      "Epoch 89/100\n",
      "576/576 [==============================] - 0s 44us/step - loss: 0.6956 - accuracy: 0.4931 - val_loss: 0.6910 - val_accuracy: 0.5417\n",
      "Epoch 90/100\n",
      "576/576 [==============================] - 0s 43us/step - loss: 0.6955 - accuracy: 0.4931 - val_loss: 0.6910 - val_accuracy: 0.5417\n",
      "Epoch 91/100\n",
      "576/576 [==============================] - 0s 40us/step - loss: 0.6955 - accuracy: 0.4913 - val_loss: 0.6910 - val_accuracy: 0.5417\n",
      "Epoch 92/100\n",
      "576/576 [==============================] - 0s 49us/step - loss: 0.6955 - accuracy: 0.4913 - val_loss: 0.6910 - val_accuracy: 0.5417\n",
      "Epoch 93/100\n",
      "576/576 [==============================] - 0s 42us/step - loss: 0.6954 - accuracy: 0.4931 - val_loss: 0.6909 - val_accuracy: 0.5417\n",
      "Epoch 94/100\n",
      "576/576 [==============================] - 0s 43us/step - loss: 0.6954 - accuracy: 0.4913 - val_loss: 0.6909 - val_accuracy: 0.5417\n",
      "Epoch 95/100\n",
      "576/576 [==============================] - 0s 48us/step - loss: 0.6954 - accuracy: 0.4913 - val_loss: 0.6909 - val_accuracy: 0.5417\n",
      "Epoch 96/100\n",
      "576/576 [==============================] - 0s 50us/step - loss: 0.6954 - accuracy: 0.4913 - val_loss: 0.6909 - val_accuracy: 0.5417\n",
      "Epoch 97/100\n",
      "576/576 [==============================] - 0s 46us/step - loss: 0.6953 - accuracy: 0.4913 - val_loss: 0.6909 - val_accuracy: 0.5486\n",
      "Epoch 98/100\n",
      "576/576 [==============================] - 0s 43us/step - loss: 0.6953 - accuracy: 0.4913 - val_loss: 0.6909 - val_accuracy: 0.5486\n",
      "Epoch 99/100\n",
      "576/576 [==============================] - 0s 47us/step - loss: 0.6953 - accuracy: 0.4913 - val_loss: 0.6908 - val_accuracy: 0.5486\n",
      "Epoch 100/100\n",
      "576/576 [==============================] - 0s 47us/step - loss: 0.6952 - accuracy: 0.4896 - val_loss: 0.6908 - val_accuracy: 0.5486\n"
     ]
    }
   ],
   "source": [
    "# Fit(Train) the Model\n",
    "\n",
    "# Compile the model with Optimizer, Loss Function and Metrics\n",
    "# Roc-Auc is not available in Keras as an off the shelf metric yet, so we will skip it here.\n",
    "SGD=keras.optimizers.SGD(lr=0.003)\n",
    "model1.compile(SGD, \"binary_crossentropy\", metrics=[\"accuracy\"])\n",
    "run_hist_1 = model1.fit(X_train, y_train, validation_data=(X_test, y_test), epochs=100)\n",
    "# the fit function returns the run history. \n",
    "# It is very convenient, as it contains information about the model fit, iterations etc."
   ]
  },
  {
   "cell_type": "code",
   "execution_count": 0,
   "metadata": {
    "colab": {},
    "colab_type": "code",
    "id": "xY3Tco1Ao0wE"
   },
   "outputs": [],
   "source": [
    "y_pred = model1.predict_classes(X_test)\n",
    "y_pred_prob = model1.predict(X_test)"
   ]
  },
  {
   "cell_type": "code",
   "execution_count": 0,
   "metadata": {
    "colab": {},
    "colab_type": "code",
    "id": "OgFow6iRo6yj"
   },
   "outputs": [],
   "source": [
    "def plot_roc(y_test, y_pred, model_name):\n",
    "    fpr, tpr, thr = roc_curve(y_test, y_pred)\n",
    "    fig, ax = plt.subplots(figsize=(8, 8))\n",
    "    ax.plot(fpr, tpr, 'k-')\n",
    "    ax.plot([0, 1], [0, 1], 'k--', linewidth=.5)  # roc curve for random model\n",
    "    ax.grid(True)\n",
    "    ax.set(title='ROC Curve for {} on PIMA diabetes problem'.format(model_name),\n",
    "           xlim=[-0.01, 1.01], ylim=[-0.01, 1.01])"
   ]
  },
  {
   "cell_type": "code",
   "execution_count": 105,
   "metadata": {
    "colab": {
     "base_uri": "https://localhost:8080/",
     "height": 533
    },
    "colab_type": "code",
    "id": "PbyQvKWWo_JE",
    "outputId": "9e7d5db1-8c3d-4ac1-b4e4-b9ceec90dee5"
   },
   "outputs": [
    {
     "name": "stdout",
     "output_type": "stream",
     "text": [
      "accuracy is 0.549\n",
      "roc-auc is 0.531\n"
     ]
    },
    {
     "data": {
      "image/png": "[encoded data removed]",
      "text/plain": [
       "<Figure size 576x576 with 1 Axes>"
      ]
     },
     "metadata": {
      "needs_background": "light",
      "tags": []
     },
     "output_type": "display_data"
    }
   ],
   "source": [
    "print('accuracy is {:.3f}'.format(accuracy_score(y_test,y_pred)))\n",
    "print('roc-auc is {:.3f}'.format(roc_auc_score(y_test,y_pred_prob)))\n",
    "\n",
    "plot_roc(y_test, y_pred, 'NN')\n"
   ]
  },
  {
   "cell_type": "code",
   "execution_count": 106,
   "metadata": {
    "colab": {
     "base_uri": "https://localhost:8080/",
     "height": 34
    },
    "colab_type": "code",
    "id": "4Nn5j6_ypFku",
    "outputId": "0752ef27-582b-492b-8ecc-2da5756f3cf6"
   },
   "outputs": [
    {
     "data": {
      "text/plain": [
       "dict_keys(['val_loss', 'val_accuracy', 'loss', 'accuracy'])"
      ]
     },
     "execution_count": 106,
     "metadata": {
      "tags": []
     },
     "output_type": "execute_result"
    }
   ],
   "source": [
    "run_hist_1.history.keys()"
   ]
  },
  {
   "cell_type": "code",
   "execution_count": 107,
   "metadata": {
    "colab": {
     "base_uri": "https://localhost:8080/",
     "height": 286
    },
    "colab_type": "code",
    "id": "jNUA1UDupJR-",
    "outputId": "a3ecb307-9701-44f8-c088-268fd215e33a"
   },
   "outputs": [
    {
     "data": {
      "text/plain": [
       "<matplotlib.legend.Legend at 0x7fafdc39ce48>"
      ]
     },
     "execution_count": 107,
     "metadata": {
      "tags": []
     },
     "output_type": "execute_result"
    },
    {
     "data": {
      "image/png": "[encoded data removed]",
      "text/plain": [
       "<Figure size 432x288 with 1 Axes>"
      ]
     },
     "metadata": {
      "needs_background": "light",
      "tags": []
     },
     "output_type": "display_data"
    }
   ],
   "source": [
    "fig, ax = plt.subplots()\n",
    "ax.plot(run_hist_1.history[\"loss\"],'r', marker='.', label=\"Train Loss\")\n",
    "ax.plot(run_hist_1.history[\"val_loss\"],'b', marker='.', label=\"Validation Loss\")\n",
    "ax.legend()"
   ]
  },
  {
   "cell_type": "code",
   "execution_count": 108,
   "metadata": {
    "colab": {
     "base_uri": "https://localhost:8080/",
     "height": 50
    },
    "colab_type": "code",
    "id": "4s-0sFY1pPOt",
    "outputId": "b6d05ee0-63e2-4973-bf68-0b46dadd0b2a"
   },
   "outputs": [
    {
     "data": {
      "text/plain": [
       "array([[28, 39],\n",
       "       [26, 51]])"
      ]
     },
     "execution_count": 108,
     "metadata": {
      "tags": []
     },
     "output_type": "execute_result"
    }
   ],
   "source": [
    "matrix =confusion_matrix(y_test, y_pred)\n",
    "matrix"
   ]
  },
  {
   "cell_type": "code",
   "execution_count": 109,
   "metadata": {
    "colab": {
     "base_uri": "https://localhost:8080/",
     "height": 67
    },
    "colab_type": "code",
    "id": "gi_M4ycJpSrK",
    "outputId": "c2c6aa00-ae7b-4bcf-c39d-55b1d5d8a47b"
   },
   "outputs": [
    {
     "name": "stdout",
     "output_type": "stream",
     "text": [
      "Precision: 0.5666666666666667\n",
      "Recall: 0.6623376623376623\n",
      "Accuracy: 0.5486111111111112\n"
     ]
    }
   ],
   "source": [
    "print(\"Precision:\",metrics.precision_score(y_test, y_pred))\n",
    "print(\"Recall:\",metrics.recall_score(y_test, y_pred))\n",
    "print(\"Accuracy:\",metrics.accuracy_score(y_test, y_pred))\n"
   ]
  },
  {
   "cell_type": "code",
   "execution_count": 110,
   "metadata": {
    "colab": {
     "base_uri": "https://localhost:8080/",
     "height": 168
    },
    "colab_type": "code",
    "id": "-lv2YnLxpXyj",
    "outputId": "e31f4a63-afa3-443f-9d8d-5d822593ef10"
   },
   "outputs": [
    {
     "name": "stdout",
     "output_type": "stream",
     "text": [
      "              precision    recall  f1-score   support\n",
      "\n",
      "     class 0       0.52      0.42      0.46        67\n",
      "     class 1       0.57      0.66      0.61        77\n",
      "\n",
      "    accuracy                           0.55       144\n",
      "   macro avg       0.54      0.54      0.54       144\n",
      "weighted avg       0.54      0.55      0.54       144\n",
      "\n"
     ]
    }
   ],
   "source": [
    "from sklearn.metrics import classification_report\n",
    "target_names = ['class 0', 'class 1']\n",
    "print(classification_report(y_test, y_pred, target_names=target_names))"
   ]
  },
  {
   "cell_type": "code",
   "execution_count": 0,
   "metadata": {
    "colab": {},
    "colab_type": "code",
    "id": "T7Ziak8fpZ6w"
   },
   "outputs": [],
   "source": [
    "model_2 = Sequential([\n",
    "    Dense(32, input_shape=(n_cols,), activation=\"tanh\"),\n",
    "    Dense(32, activation=\"tanh\"),Dense(32, activation=\"sigmoid\"),Dense(128, activation=\"tanh\"),\n",
    "                                  Dense(128, activation=\"sigmoid\"),Dense(128, activation=\"tanh\"),Dense(1, activation=\"sigmoid\")])\n",
    "\n"
   ]
  },
  {
   "cell_type": "code",
   "execution_count": 112,
   "metadata": {
    "colab": {
     "base_uri": "https://localhost:8080/",
     "height": 386
    },
    "colab_type": "code",
    "id": "7hTCRKRqE_pg",
    "outputId": "032621d3-f1da-4507-8647-fb1ae2c155d3"
   },
   "outputs": [
    {
     "name": "stdout",
     "output_type": "stream",
     "text": [
      "Model: \"sequential_2\"\n",
      "_________________________________________________________________\n",
      "Layer (type)                 Output Shape              Param #   \n",
      "=================================================================\n",
      "dense_3 (Dense)              (None, 32)                224       \n",
      "_________________________________________________________________\n",
      "dense_4 (Dense)              (None, 32)                1056      \n",
      "_________________________________________________________________\n",
      "dense_5 (Dense)              (None, 32)                1056      \n",
      "_________________________________________________________________\n",
      "dense_6 (Dense)              (None, 128)               4224      \n",
      "_________________________________________________________________\n",
      "dense_7 (Dense)              (None, 128)               16512     \n",
      "_________________________________________________________________\n",
      "dense_8 (Dense)              (None, 128)               16512     \n",
      "_________________________________________________________________\n",
      "dense_9 (Dense)              (None, 1)                 129       \n",
      "=================================================================\n",
      "Total params: 39,713\n",
      "Trainable params: 39,713\n",
      "Non-trainable params: 0\n",
      "_________________________________________________________________\n"
     ]
    }
   ],
   "source": [
    "model_2.summary()\n"
   ]
  },
  {
   "cell_type": "code",
   "execution_count": 113,
   "metadata": {
    "colab": {
     "base_uri": "https://localhost:8080/",
     "height": 1000
    },
    "colab_type": "code",
    "id": "-tA3ds-eFE9s",
    "outputId": "8a493888-7f92-4509-ebf3-85da3c0348c5"
   },
   "outputs": [
    {
     "data": {
      "text/plain": [
       "[array([[-2.60e-01,  1.93e-01, -5.35e-02, -1.78e-01,  2.42e-01, -1.40e-01,\n",
       "         -2.19e-01, -3.30e-01,  2.18e-01,  1.67e-03, -6.02e-02, -3.45e-01,\n",
       "          2.64e-01, -7.53e-02,  2.70e-01, -2.08e-01,  1.58e-01, -1.72e-01,\n",
       "         -2.24e-01, -2.91e-01, -2.66e-01, -3.58e-01,  5.76e-02,  3.14e-02,\n",
       "          1.96e-01, -2.36e-01,  2.02e-01,  2.45e-01,  1.07e-01, -6.46e-02,\n",
       "         -4.48e-02, -1.76e-01],\n",
       "        [ 4.76e-02,  1.96e-01, -7.99e-02,  2.07e-01, -1.41e-01, -2.60e-01,\n",
       "          3.97e-01,  1.37e-01, -7.55e-02, -2.05e-02,  3.32e-01,  2.14e-01,\n",
       "         -3.74e-01,  3.08e-01, -3.92e-01,  3.74e-01, -2.99e-01,  3.68e-01,\n",
       "         -1.43e-01, -2.78e-02, -5.87e-02,  1.20e-01, -1.11e-01, -2.99e-01,\n",
       "          7.61e-02,  3.01e-01,  1.10e-01, -9.70e-02,  1.65e-01, -3.54e-01,\n",
       "         -1.10e-01, -3.58e-01],\n",
       "        [-3.33e-01,  9.48e-02, -2.32e-01,  1.88e-01, -2.23e-01, -3.88e-01,\n",
       "          1.52e-01, -3.59e-01, -2.33e-01,  1.82e-01,  2.70e-01,  2.18e-03,\n",
       "         -2.09e-01,  2.24e-01, -1.56e-01,  1.56e-01, -1.50e-01, -1.08e-02,\n",
       "         -3.51e-01,  3.57e-01,  2.93e-01,  2.16e-03,  1.38e-01, -3.16e-01,\n",
       "         -3.62e-01,  2.71e-01, -1.52e-01,  3.67e-01, -2.20e-01, -2.15e-01,\n",
       "         -3.33e-01, -1.22e-01],\n",
       "        [ 3.66e-02, -5.39e-02,  2.72e-01, -9.52e-02,  2.49e-01, -3.74e-02,\n",
       "         -2.01e-01,  1.53e-01,  1.81e-01, -3.85e-01,  2.03e-01,  1.13e-01,\n",
       "          1.49e-01, -7.87e-02,  3.41e-01, -1.69e-01, -3.81e-01,  6.96e-02,\n",
       "          2.17e-01, -3.74e-02,  2.48e-01, -8.25e-02,  1.30e-01,  2.78e-01,\n",
       "         -1.64e-01,  3.01e-01,  1.10e-01, -3.77e-01, -6.79e-02,  2.74e-01,\n",
       "          1.47e-01, -2.50e-01],\n",
       "        [-3.95e-01,  6.76e-02,  3.02e-01,  2.66e-01,  8.12e-02, -4.36e-02,\n",
       "         -2.81e-01, -3.86e-01,  3.73e-01, -3.91e-01, -1.56e-01, -1.08e-01,\n",
       "         -1.18e-01,  2.41e-01,  8.44e-02, -2.38e-01, -2.68e-02, -1.67e-01,\n",
       "          2.71e-01, -3.84e-01, -2.13e-01,  4.37e-02,  3.78e-01, -3.12e-01,\n",
       "          1.97e-01, -2.55e-01, -1.61e-01,  1.41e-03,  3.17e-01,  1.37e-01,\n",
       "         -2.22e-01,  3.56e-01],\n",
       "        [ 2.33e-01, -8.06e-02,  2.17e-01, -1.63e-01, -3.39e-01,  2.37e-01,\n",
       "          2.85e-01, -1.05e-01,  3.16e-01, -2.45e-01,  3.86e-02,  3.32e-01,\n",
       "          2.54e-01,  3.62e-02,  5.25e-02,  5.68e-05,  1.41e-01, -1.08e-01,\n",
       "          2.14e-01,  1.32e-01,  1.48e-01,  3.75e-01,  2.10e-01, -2.98e-01,\n",
       "          1.63e-01, -3.27e-01, -3.13e-01, -3.51e-01, -1.89e-01,  3.88e-01,\n",
       "         -9.15e-02,  2.46e-01]], dtype=float32),\n",
       " array([0., 0., 0., 0., 0., 0., 0., 0., 0., 0., 0., 0., 0., 0., 0., 0., 0.,\n",
       "        0., 0., 0., 0., 0., 0., 0., 0., 0., 0., 0., 0., 0., 0., 0.],\n",
       "       dtype=float32),\n",
       " array([[ 0.17, -0.13,  0.21, ..., -0.08, -0.16, -0.15],\n",
       "        [-0.24, -0.14,  0.21, ...,  0.3 , -0.14, -0.29],\n",
       "        [-0.21,  0.01,  0.09, ...,  0.15,  0.07,  0.15],\n",
       "        ...,\n",
       "        [ 0.2 , -0.13,  0.15, ...,  0.04, -0.22,  0.04],\n",
       "        [ 0.21,  0.01, -0.24, ..., -0.  ,  0.  , -0.08],\n",
       "        [ 0.12, -0.1 , -0.18, ..., -0.18,  0.2 , -0.16]], dtype=float32),\n",
       " array([0., 0., 0., 0., 0., 0., 0., 0., 0., 0., 0., 0., 0., 0., 0., 0., 0.,\n",
       "        0., 0., 0., 0., 0., 0., 0., 0., 0., 0., 0., 0., 0., 0., 0.],\n",
       "       dtype=float32),\n",
       " array([[ 0.27, -0.25,  0.19, ...,  0.01, -0.28,  0.05],\n",
       "        [ 0.18, -0.23, -0.22, ..., -0.22,  0.23,  0.16],\n",
       "        [ 0.17, -0.11,  0.05, ...,  0.02,  0.23,  0.29],\n",
       "        ...,\n",
       "        [ 0.09,  0.07,  0.25, ..., -0.21, -0.15,  0.09],\n",
       "        [ 0.08,  0.11, -0.25, ..., -0.29, -0.18,  0.11],\n",
       "        [-0.11, -0.22, -0.2 , ..., -0.17,  0.12,  0.01]], dtype=float32),\n",
       " array([0., 0., 0., 0., 0., 0., 0., 0., 0., 0., 0., 0., 0., 0., 0., 0., 0.,\n",
       "        0., 0., 0., 0., 0., 0., 0., 0., 0., 0., 0., 0., 0., 0., 0.],\n",
       "       dtype=float32),\n",
       " array([[-0.  ,  0.05, -0.03, ...,  0.16, -0.14, -0.01],\n",
       "        [-0.04, -0.06, -0.17, ...,  0.08, -0.05,  0.1 ],\n",
       "        [ 0.14,  0.02,  0.09, ...,  0.06,  0.03, -0.16],\n",
       "        ...,\n",
       "        [-0.12, -0.15,  0.05, ...,  0.06,  0.17, -0.01],\n",
       "        [-0.15,  0.09,  0.08, ..., -0.04, -0.06, -0.1 ],\n",
       "        [-0.07, -0.  ,  0.17, ..., -0.19, -0.15,  0.01]], dtype=float32),\n",
       " array([0., 0., 0., 0., 0., 0., 0., 0., 0., 0., 0., 0., 0., 0., 0., 0., 0.,\n",
       "        0., 0., 0., 0., 0., 0., 0., 0., 0., 0., 0., 0., 0., 0., 0., 0., 0.,\n",
       "        0., 0., 0., 0., 0., 0., 0., 0., 0., 0., 0., 0., 0., 0., 0., 0., 0.,\n",
       "        0., 0., 0., 0., 0., 0., 0., 0., 0., 0., 0., 0., 0., 0., 0., 0., 0.,\n",
       "        0., 0., 0., 0., 0., 0., 0., 0., 0., 0., 0., 0., 0., 0., 0., 0., 0.,\n",
       "        0., 0., 0., 0., 0., 0., 0., 0., 0., 0., 0., 0., 0., 0., 0., 0., 0.,\n",
       "        0., 0., 0., 0., 0., 0., 0., 0., 0., 0., 0., 0., 0., 0., 0., 0., 0.,\n",
       "        0., 0., 0., 0., 0., 0., 0., 0., 0.], dtype=float32),\n",
       " array([[-0.08, -0.12, -0.08, ..., -0.12,  0.14,  0.03],\n",
       "        [-0.14,  0.11, -0.01, ..., -0.15,  0.1 ,  0.01],\n",
       "        [-0.07, -0.13,  0.1 , ...,  0.05,  0.08,  0.02],\n",
       "        ...,\n",
       "        [-0.  ,  0.02,  0.02, ...,  0.07,  0.11,  0.06],\n",
       "        [ 0.02, -0.11, -0.05, ..., -0.1 , -0.11,  0.14],\n",
       "        [ 0.15, -0.03, -0.01, ...,  0.04,  0.03, -0.03]], dtype=float32),\n",
       " array([0., 0., 0., 0., 0., 0., 0., 0., 0., 0., 0., 0., 0., 0., 0., 0., 0.,\n",
       "        0., 0., 0., 0., 0., 0., 0., 0., 0., 0., 0., 0., 0., 0., 0., 0., 0.,\n",
       "        0., 0., 0., 0., 0., 0., 0., 0., 0., 0., 0., 0., 0., 0., 0., 0., 0.,\n",
       "        0., 0., 0., 0., 0., 0., 0., 0., 0., 0., 0., 0., 0., 0., 0., 0., 0.,\n",
       "        0., 0., 0., 0., 0., 0., 0., 0., 0., 0., 0., 0., 0., 0., 0., 0., 0.,\n",
       "        0., 0., 0., 0., 0., 0., 0., 0., 0., 0., 0., 0., 0., 0., 0., 0., 0.,\n",
       "        0., 0., 0., 0., 0., 0., 0., 0., 0., 0., 0., 0., 0., 0., 0., 0., 0.,\n",
       "        0., 0., 0., 0., 0., 0., 0., 0., 0.], dtype=float32),\n",
       " array([[ 0.14, -0.04, -0.14, ...,  0.06,  0.15, -0.11],\n",
       "        [-0.01, -0.03,  0.01, ...,  0.  , -0.1 , -0.04],\n",
       "        [ 0.03, -0.01,  0.1 , ..., -0.14,  0.08,  0.02],\n",
       "        ...,\n",
       "        [ 0.09,  0.04,  0.14, ..., -0.12,  0.01,  0.09],\n",
       "        [-0.05, -0.1 ,  0.07, ..., -0.13,  0.01, -0.06],\n",
       "        [-0.13, -0.02, -0.06, ...,  0.09, -0.08,  0.1 ]], dtype=float32),\n",
       " array([0., 0., 0., 0., 0., 0., 0., 0., 0., 0., 0., 0., 0., 0., 0., 0., 0.,\n",
       "        0., 0., 0., 0., 0., 0., 0., 0., 0., 0., 0., 0., 0., 0., 0., 0., 0.,\n",
       "        0., 0., 0., 0., 0., 0., 0., 0., 0., 0., 0., 0., 0., 0., 0., 0., 0.,\n",
       "        0., 0., 0., 0., 0., 0., 0., 0., 0., 0., 0., 0., 0., 0., 0., 0., 0.,\n",
       "        0., 0., 0., 0., 0., 0., 0., 0., 0., 0., 0., 0., 0., 0., 0., 0., 0.,\n",
       "        0., 0., 0., 0., 0., 0., 0., 0., 0., 0., 0., 0., 0., 0., 0., 0., 0.,\n",
       "        0., 0., 0., 0., 0., 0., 0., 0., 0., 0., 0., 0., 0., 0., 0., 0., 0.,\n",
       "        0., 0., 0., 0., 0., 0., 0., 0., 0.], dtype=float32),\n",
       " array([[-0.05],\n",
       "        [-0.15],\n",
       "        [ 0.13],\n",
       "        [ 0.12],\n",
       "        [-0.02],\n",
       "        [-0.2 ],\n",
       "        [-0.16],\n",
       "        [-0.  ],\n",
       "        [-0.12],\n",
       "        [-0.08],\n",
       "        [ 0.13],\n",
       "        [-0.09],\n",
       "        [-0.15],\n",
       "        [ 0.18],\n",
       "        [-0.21],\n",
       "        [-0.02],\n",
       "        [ 0.12],\n",
       "        [-0.08],\n",
       "        [ 0.11],\n",
       "        [-0.03],\n",
       "        [-0.14],\n",
       "        [-0.12],\n",
       "        [-0.13],\n",
       "        [-0.1 ],\n",
       "        [-0.03],\n",
       "        [-0.21],\n",
       "        [-0.15],\n",
       "        [-0.15],\n",
       "        [ 0.16],\n",
       "        [-0.12],\n",
       "        [ 0.11],\n",
       "        [ 0.09],\n",
       "        [-0.18],\n",
       "        [-0.12],\n",
       "        [-0.15],\n",
       "        [-0.12],\n",
       "        [-0.09],\n",
       "        [ 0.17],\n",
       "        [-0.03],\n",
       "        [ 0.08],\n",
       "        [-0.12],\n",
       "        [ 0.01],\n",
       "        [ 0.1 ],\n",
       "        [ 0.08],\n",
       "        [ 0.13],\n",
       "        [-0.19],\n",
       "        [ 0.07],\n",
       "        [ 0.05],\n",
       "        [-0.17],\n",
       "        [-0.17],\n",
       "        [-0.04],\n",
       "        [-0.2 ],\n",
       "        [-0.14],\n",
       "        [-0.2 ],\n",
       "        [ 0.06],\n",
       "        [ 0.01],\n",
       "        [ 0.14],\n",
       "        [-0.12],\n",
       "        [ 0.21],\n",
       "        [-0.03],\n",
       "        [ 0.18],\n",
       "        [-0.2 ],\n",
       "        [-0.01],\n",
       "        [-0.16],\n",
       "        [ 0.19],\n",
       "        [-0.13],\n",
       "        [-0.12],\n",
       "        [ 0.13],\n",
       "        [ 0.01],\n",
       "        [ 0.01],\n",
       "        [ 0.1 ],\n",
       "        [-0.05],\n",
       "        [-0.09],\n",
       "        [ 0.04],\n",
       "        [ 0.05],\n",
       "        [-0.16],\n",
       "        [-0.05],\n",
       "        [-0.14],\n",
       "        [ 0.05],\n",
       "        [ 0.12],\n",
       "        [ 0.1 ],\n",
       "        [-0.21],\n",
       "        [-0.11],\n",
       "        [ 0.04],\n",
       "        [-0.03],\n",
       "        [-0.15],\n",
       "        [ 0.13],\n",
       "        [-0.21],\n",
       "        [-0.19],\n",
       "        [ 0.09],\n",
       "        [-0.07],\n",
       "        [-0.08],\n",
       "        [ 0.21],\n",
       "        [-0.13],\n",
       "        [-0.07],\n",
       "        [-0.  ],\n",
       "        [ 0.13],\n",
       "        [-0.1 ],\n",
       "        [ 0.16],\n",
       "        [-0.16],\n",
       "        [ 0.16],\n",
       "        [ 0.09],\n",
       "        [ 0.12],\n",
       "        [-0.2 ],\n",
       "        [-0.19],\n",
       "        [ 0.18],\n",
       "        [ 0.07],\n",
       "        [-0.08],\n",
       "        [-0.14],\n",
       "        [ 0.17],\n",
       "        [-0.14],\n",
       "        [ 0.13],\n",
       "        [-0.02],\n",
       "        [-0.17],\n",
       "        [ 0.18],\n",
       "        [ 0.02],\n",
       "        [ 0.04],\n",
       "        [-0.14],\n",
       "        [-0.02],\n",
       "        [ 0.16],\n",
       "        [ 0.12],\n",
       "        [ 0.2 ],\n",
       "        [-0.02],\n",
       "        [-0.  ],\n",
       "        [ 0.09],\n",
       "        [ 0.06],\n",
       "        [-0.02],\n",
       "        [ 0.14]], dtype=float32),\n",
       " array([0.], dtype=float32)]"
      ]
     },
     "execution_count": 113,
     "metadata": {
      "tags": []
     },
     "output_type": "execute_result"
    }
   ],
   "source": [
    "model_2.get_weights()"
   ]
  },
  {
   "cell_type": "code",
   "execution_count": 118,
   "metadata": {
    "colab": {
     "base_uri": "https://localhost:8080/",
     "height": 1000
    },
    "colab_type": "code",
    "id": "L3XhIYF5q11y",
    "outputId": "43c91c9d-a530-42c1-a36f-b98a4617fe4b"
   },
   "outputs": [
    {
     "name": "stdout",
     "output_type": "stream",
     "text": [
      "Train on 576 samples, validate on 144 samples\n",
      "Epoch 1/1000\n",
      "576/576 [==============================] - 0s 412us/step - loss: 0.7044 - accuracy: 0.5417 - val_loss: 0.7046 - val_accuracy: 0.5347\n",
      "Epoch 2/1000\n",
      "576/576 [==============================] - 0s 75us/step - loss: 0.6921 - accuracy: 0.5312 - val_loss: 0.6949 - val_accuracy: 0.5000\n",
      "Epoch 3/1000\n",
      "576/576 [==============================] - 0s 78us/step - loss: 0.7019 - accuracy: 0.4948 - val_loss: 0.6942 - val_accuracy: 0.5000\n",
      "Epoch 4/1000\n",
      "576/576 [==============================] - 0s 83us/step - loss: 0.6837 - accuracy: 0.5486 - val_loss: 0.7045 - val_accuracy: 0.5417\n",
      "Epoch 5/1000\n",
      "576/576 [==============================] - 0s 83us/step - loss: 0.6859 - accuracy: 0.5729 - val_loss: 0.7085 - val_accuracy: 0.4931\n",
      "Epoch 6/1000\n",
      "576/576 [==============================] - 0s 72us/step - loss: 0.6907 - accuracy: 0.5451 - val_loss: 0.6968 - val_accuracy: 0.5486\n",
      "Epoch 7/1000\n",
      "576/576 [==============================] - 0s 76us/step - loss: 0.6846 - accuracy: 0.5486 - val_loss: 0.7047 - val_accuracy: 0.5000\n",
      "Epoch 8/1000\n",
      "576/576 [==============================] - 0s 66us/step - loss: 0.6928 - accuracy: 0.5399 - val_loss: 0.6945 - val_accuracy: 0.5139\n",
      "Epoch 9/1000\n",
      "576/576 [==============================] - 0s 80us/step - loss: 0.6948 - accuracy: 0.5677 - val_loss: 0.6946 - val_accuracy: 0.5139\n",
      "Epoch 10/1000\n",
      "576/576 [==============================] - 0s 83us/step - loss: 0.6901 - accuracy: 0.5347 - val_loss: 0.6964 - val_accuracy: 0.5694\n",
      "Epoch 11/1000\n",
      "576/576 [==============================] - 0s 65us/step - loss: 0.6980 - accuracy: 0.5295 - val_loss: 0.7061 - val_accuracy: 0.5069\n",
      "Epoch 12/1000\n",
      "576/576 [==============================] - 0s 72us/step - loss: 0.6845 - accuracy: 0.5625 - val_loss: 0.7003 - val_accuracy: 0.5417\n",
      "Epoch 13/1000\n",
      "576/576 [==============================] - 0s 89us/step - loss: 0.7048 - accuracy: 0.5226 - val_loss: 0.7017 - val_accuracy: 0.5556\n",
      "Epoch 14/1000\n",
      "576/576 [==============================] - 0s 75us/step - loss: 0.7257 - accuracy: 0.5399 - val_loss: 0.6935 - val_accuracy: 0.5486\n",
      "Epoch 15/1000\n",
      "576/576 [==============================] - 0s 75us/step - loss: 0.6919 - accuracy: 0.5469 - val_loss: 0.7127 - val_accuracy: 0.5139\n",
      "Epoch 16/1000\n",
      "576/576 [==============================] - 0s 74us/step - loss: 0.6891 - accuracy: 0.5399 - val_loss: 0.7000 - val_accuracy: 0.5625\n",
      "Epoch 17/1000\n",
      "576/576 [==============================] - 0s 79us/step - loss: 0.6844 - accuracy: 0.5573 - val_loss: 0.7016 - val_accuracy: 0.5556\n",
      "Epoch 18/1000\n",
      "576/576 [==============================] - 0s 77us/step - loss: 0.6839 - accuracy: 0.5573 - val_loss: 0.6993 - val_accuracy: 0.5278\n",
      "Epoch 19/1000\n",
      "576/576 [==============================] - 0s 79us/step - loss: 0.6846 - accuracy: 0.5469 - val_loss: 0.7351 - val_accuracy: 0.4653\n",
      "Epoch 20/1000\n",
      "576/576 [==============================] - 0s 73us/step - loss: 0.6932 - accuracy: 0.5312 - val_loss: 0.7325 - val_accuracy: 0.4583\n",
      "Epoch 21/1000\n",
      "576/576 [==============================] - 0s 74us/step - loss: 0.6895 - accuracy: 0.5139 - val_loss: 0.7024 - val_accuracy: 0.5556\n",
      "Epoch 22/1000\n",
      "576/576 [==============================] - 0s 79us/step - loss: 0.6894 - accuracy: 0.5538 - val_loss: 0.7448 - val_accuracy: 0.4653\n",
      "Epoch 23/1000\n",
      "576/576 [==============================] - 0s 88us/step - loss: 0.7058 - accuracy: 0.5017 - val_loss: 0.7316 - val_accuracy: 0.4792\n",
      "Epoch 24/1000\n",
      "576/576 [==============================] - 0s 72us/step - loss: 0.6801 - accuracy: 0.5486 - val_loss: 0.6986 - val_accuracy: 0.5139\n",
      "Epoch 25/1000\n",
      "576/576 [==============================] - 0s 80us/step - loss: 0.6892 - accuracy: 0.5417 - val_loss: 0.7121 - val_accuracy: 0.5278\n",
      "Epoch 26/1000\n",
      "576/576 [==============================] - 0s 71us/step - loss: 0.6873 - accuracy: 0.5365 - val_loss: 0.7666 - val_accuracy: 0.4653\n",
      "Epoch 27/1000\n",
      "576/576 [==============================] - 0s 73us/step - loss: 0.6982 - accuracy: 0.5052 - val_loss: 0.7117 - val_accuracy: 0.4792\n",
      "Epoch 28/1000\n",
      "576/576 [==============================] - 0s 72us/step - loss: 0.6776 - accuracy: 0.5538 - val_loss: 0.7013 - val_accuracy: 0.5417\n",
      "Epoch 29/1000\n",
      "576/576 [==============================] - 0s 87us/step - loss: 0.6863 - accuracy: 0.5573 - val_loss: 0.7069 - val_accuracy: 0.5486\n",
      "Epoch 30/1000\n",
      "576/576 [==============================] - 0s 77us/step - loss: 0.6855 - accuracy: 0.5521 - val_loss: 0.7066 - val_accuracy: 0.5625\n",
      "Epoch 31/1000\n",
      "576/576 [==============================] - 0s 77us/step - loss: 0.6787 - accuracy: 0.5538 - val_loss: 0.7018 - val_accuracy: 0.5347\n",
      "Epoch 32/1000\n",
      "576/576 [==============================] - 0s 74us/step - loss: 0.6807 - accuracy: 0.5521 - val_loss: 0.7052 - val_accuracy: 0.5486\n",
      "Epoch 33/1000\n",
      "576/576 [==============================] - 0s 81us/step - loss: 0.6793 - accuracy: 0.5486 - val_loss: 0.7128 - val_accuracy: 0.5417\n",
      "Epoch 34/1000\n",
      "576/576 [==============================] - 0s 66us/step - loss: 0.6824 - accuracy: 0.5365 - val_loss: 0.7134 - val_accuracy: 0.5417\n",
      "Epoch 35/1000\n",
      "576/576 [==============================] - 0s 66us/step - loss: 0.6801 - accuracy: 0.5573 - val_loss: 0.7249 - val_accuracy: 0.4722\n",
      "Epoch 36/1000\n",
      "576/576 [==============================] - 0s 71us/step - loss: 0.6803 - accuracy: 0.5382 - val_loss: 0.7309 - val_accuracy: 0.5000\n",
      "Epoch 37/1000\n",
      "576/576 [==============================] - 0s 65us/step - loss: 0.6785 - accuracy: 0.5417 - val_loss: 0.7336 - val_accuracy: 0.4653\n",
      "Epoch 38/1000\n",
      "576/576 [==============================] - 0s 67us/step - loss: 0.6746 - accuracy: 0.5608 - val_loss: 0.7091 - val_accuracy: 0.5278\n",
      "Epoch 39/1000\n",
      "576/576 [==============================] - 0s 70us/step - loss: 0.6718 - accuracy: 0.5521 - val_loss: 0.7122 - val_accuracy: 0.5208\n",
      "Epoch 40/1000\n",
      "576/576 [==============================] - 0s 69us/step - loss: 0.6687 - accuracy: 0.5677 - val_loss: 0.7285 - val_accuracy: 0.5000\n",
      "Epoch 41/1000\n",
      "576/576 [==============================] - 0s 65us/step - loss: 0.6728 - accuracy: 0.5903 - val_loss: 0.7280 - val_accuracy: 0.5069\n",
      "Epoch 42/1000\n",
      "576/576 [==============================] - 0s 66us/step - loss: 0.6642 - accuracy: 0.5833 - val_loss: 0.7524 - val_accuracy: 0.4792\n",
      "Epoch 43/1000\n",
      "576/576 [==============================] - 0s 65us/step - loss: 0.6757 - accuracy: 0.5677 - val_loss: 0.7716 - val_accuracy: 0.4722\n",
      "Epoch 44/1000\n",
      "576/576 [==============================] - 0s 72us/step - loss: 0.6718 - accuracy: 0.5556 - val_loss: 0.7235 - val_accuracy: 0.5000\n",
      "Epoch 45/1000\n",
      "576/576 [==============================] - 0s 67us/step - loss: 0.6599 - accuracy: 0.5747 - val_loss: 0.7178 - val_accuracy: 0.5347\n",
      "Epoch 46/1000\n",
      "576/576 [==============================] - 0s 69us/step - loss: 0.6655 - accuracy: 0.5694 - val_loss: 0.7208 - val_accuracy: 0.5069\n",
      "Epoch 47/1000\n",
      "576/576 [==============================] - 0s 77us/step - loss: 0.6614 - accuracy: 0.5816 - val_loss: 0.7244 - val_accuracy: 0.5069\n",
      "Epoch 48/1000\n",
      "576/576 [==============================] - 0s 67us/step - loss: 0.6563 - accuracy: 0.5851 - val_loss: 0.7305 - val_accuracy: 0.5069\n",
      "Epoch 49/1000\n",
      "576/576 [==============================] - 0s 65us/step - loss: 0.6541 - accuracy: 0.6042 - val_loss: 0.7314 - val_accuracy: 0.5000\n",
      "Epoch 50/1000\n",
      "576/576 [==============================] - 0s 67us/step - loss: 0.6656 - accuracy: 0.5972 - val_loss: 0.7254 - val_accuracy: 0.5208\n",
      "Epoch 51/1000\n",
      "576/576 [==============================] - 0s 66us/step - loss: 0.6630 - accuracy: 0.5955 - val_loss: 0.7238 - val_accuracy: 0.5000\n",
      "Epoch 52/1000\n",
      "576/576 [==============================] - 0s 74us/step - loss: 0.6690 - accuracy: 0.5677 - val_loss: 0.7488 - val_accuracy: 0.5000\n",
      "Epoch 53/1000\n",
      "576/576 [==============================] - 0s 78us/step - loss: 0.6611 - accuracy: 0.5903 - val_loss: 0.7189 - val_accuracy: 0.5486\n",
      "Epoch 54/1000\n",
      "576/576 [==============================] - 0s 79us/step - loss: 0.6753 - accuracy: 0.5660 - val_loss: 0.7201 - val_accuracy: 0.5139\n",
      "Epoch 55/1000\n",
      "576/576 [==============================] - 0s 73us/step - loss: 0.6465 - accuracy: 0.6007 - val_loss: 0.7284 - val_accuracy: 0.5000\n",
      "Epoch 56/1000\n",
      "576/576 [==============================] - 0s 78us/step - loss: 0.6494 - accuracy: 0.6111 - val_loss: 0.7351 - val_accuracy: 0.5069\n",
      "Epoch 57/1000\n",
      "576/576 [==============================] - 0s 71us/step - loss: 0.6497 - accuracy: 0.5972 - val_loss: 0.7304 - val_accuracy: 0.4931\n",
      "Epoch 58/1000\n",
      "576/576 [==============================] - 0s 64us/step - loss: 0.6457 - accuracy: 0.6024 - val_loss: 0.7354 - val_accuracy: 0.4931\n",
      "Epoch 59/1000\n",
      "576/576 [==============================] - 0s 66us/step - loss: 0.6405 - accuracy: 0.6111 - val_loss: 0.7328 - val_accuracy: 0.5069\n",
      "Epoch 60/1000\n",
      "576/576 [==============================] - 0s 72us/step - loss: 0.6406 - accuracy: 0.5990 - val_loss: 0.7402 - val_accuracy: 0.5000\n",
      "Epoch 61/1000\n",
      "576/576 [==============================] - 0s 62us/step - loss: 0.6442 - accuracy: 0.6007 - val_loss: 0.7670 - val_accuracy: 0.4931\n",
      "Epoch 62/1000\n",
      "576/576 [==============================] - 0s 77us/step - loss: 0.6561 - accuracy: 0.6042 - val_loss: 0.7654 - val_accuracy: 0.4792\n",
      "Epoch 63/1000\n",
      "576/576 [==============================] - 0s 83us/step - loss: 0.6385 - accuracy: 0.6128 - val_loss: 0.7409 - val_accuracy: 0.5139\n",
      "Epoch 64/1000\n",
      "576/576 [==============================] - 0s 65us/step - loss: 0.6351 - accuracy: 0.6163 - val_loss: 0.7441 - val_accuracy: 0.5069\n",
      "Epoch 65/1000\n",
      "576/576 [==============================] - 0s 72us/step - loss: 0.6389 - accuracy: 0.5972 - val_loss: 0.7533 - val_accuracy: 0.4861\n",
      "Epoch 66/1000\n",
      "576/576 [==============================] - 0s 65us/step - loss: 0.6423 - accuracy: 0.6233 - val_loss: 0.7438 - val_accuracy: 0.5139\n",
      "Epoch 67/1000\n",
      "576/576 [==============================] - 0s 78us/step - loss: 0.6383 - accuracy: 0.5955 - val_loss: 0.7467 - val_accuracy: 0.5139\n",
      "Epoch 68/1000\n",
      "576/576 [==============================] - 0s 66us/step - loss: 0.6451 - accuracy: 0.6076 - val_loss: 0.7519 - val_accuracy: 0.5208\n",
      "Epoch 69/1000\n",
      "576/576 [==============================] - 0s 62us/step - loss: 0.6436 - accuracy: 0.5938 - val_loss: 0.7450 - val_accuracy: 0.5139\n",
      "Epoch 70/1000\n",
      "576/576 [==============================] - 0s 68us/step - loss: 0.6365 - accuracy: 0.6215 - val_loss: 0.7539 - val_accuracy: 0.4514\n",
      "Epoch 71/1000\n",
      "576/576 [==============================] - 0s 66us/step - loss: 0.6587 - accuracy: 0.5955 - val_loss: 0.7418 - val_accuracy: 0.5278\n",
      "Epoch 72/1000\n",
      "576/576 [==============================] - 0s 67us/step - loss: 0.6288 - accuracy: 0.6163 - val_loss: 0.7476 - val_accuracy: 0.5069\n",
      "Epoch 73/1000\n",
      "576/576 [==============================] - 0s 66us/step - loss: 0.6290 - accuracy: 0.6163 - val_loss: 0.7753 - val_accuracy: 0.4583\n",
      "Epoch 74/1000\n",
      "576/576 [==============================] - 0s 67us/step - loss: 0.6347 - accuracy: 0.6215 - val_loss: 0.7868 - val_accuracy: 0.5000\n",
      "Epoch 75/1000\n",
      "576/576 [==============================] - 0s 73us/step - loss: 0.6314 - accuracy: 0.6076 - val_loss: 0.7777 - val_accuracy: 0.5000\n",
      "Epoch 76/1000\n",
      "576/576 [==============================] - 0s 77us/step - loss: 0.6260 - accuracy: 0.6163 - val_loss: 0.7703 - val_accuracy: 0.5000\n",
      "Epoch 77/1000\n",
      "576/576 [==============================] - 0s 64us/step - loss: 0.6164 - accuracy: 0.6372 - val_loss: 0.7683 - val_accuracy: 0.5278\n",
      "Epoch 78/1000\n",
      "576/576 [==============================] - 0s 69us/step - loss: 0.6253 - accuracy: 0.6267 - val_loss: 0.7893 - val_accuracy: 0.4931\n",
      "Epoch 79/1000\n",
      "576/576 [==============================] - 0s 70us/step - loss: 0.6214 - accuracy: 0.6476 - val_loss: 0.7703 - val_accuracy: 0.5069\n",
      "Epoch 80/1000\n",
      "576/576 [==============================] - 0s 67us/step - loss: 0.6211 - accuracy: 0.6128 - val_loss: 0.7858 - val_accuracy: 0.5000\n",
      "Epoch 81/1000\n",
      "576/576 [==============================] - 0s 75us/step - loss: 0.6158 - accuracy: 0.6250 - val_loss: 0.7880 - val_accuracy: 0.5069\n",
      "Epoch 82/1000\n",
      "576/576 [==============================] - 0s 73us/step - loss: 0.6266 - accuracy: 0.6111 - val_loss: 0.7729 - val_accuracy: 0.4861\n",
      "Epoch 83/1000\n",
      "576/576 [==============================] - 0s 74us/step - loss: 0.6175 - accuracy: 0.6233 - val_loss: 0.7626 - val_accuracy: 0.5208\n",
      "Epoch 84/1000\n",
      "576/576 [==============================] - 0s 66us/step - loss: 0.6154 - accuracy: 0.6337 - val_loss: 0.7816 - val_accuracy: 0.5278\n",
      "Epoch 85/1000\n",
      "576/576 [==============================] - 0s 69us/step - loss: 0.6204 - accuracy: 0.6302 - val_loss: 0.8002 - val_accuracy: 0.4514\n",
      "Epoch 86/1000\n",
      "576/576 [==============================] - 0s 64us/step - loss: 0.6194 - accuracy: 0.6354 - val_loss: 0.7771 - val_accuracy: 0.5208\n",
      "Epoch 87/1000\n",
      "576/576 [==============================] - 0s 65us/step - loss: 0.6179 - accuracy: 0.6267 - val_loss: 0.8313 - val_accuracy: 0.4653\n",
      "Epoch 88/1000\n",
      "576/576 [==============================] - 0s 63us/step - loss: 0.6236 - accuracy: 0.6337 - val_loss: 0.7879 - val_accuracy: 0.5000\n",
      "Epoch 89/1000\n",
      "576/576 [==============================] - 0s 81us/step - loss: 0.6092 - accuracy: 0.6458 - val_loss: 0.7873 - val_accuracy: 0.5000\n",
      "Epoch 90/1000\n",
      "576/576 [==============================] - 0s 76us/step - loss: 0.6132 - accuracy: 0.6441 - val_loss: 0.7927 - val_accuracy: 0.5417\n",
      "Epoch 91/1000\n",
      "576/576 [==============================] - 0s 73us/step - loss: 0.6091 - accuracy: 0.6580 - val_loss: 0.8010 - val_accuracy: 0.5278\n",
      "Epoch 92/1000\n",
      "576/576 [==============================] - 0s 68us/step - loss: 0.6112 - accuracy: 0.6580 - val_loss: 0.7763 - val_accuracy: 0.5000\n",
      "Epoch 93/1000\n",
      "576/576 [==============================] - 0s 66us/step - loss: 0.6043 - accuracy: 0.6493 - val_loss: 0.7993 - val_accuracy: 0.5347\n",
      "Epoch 94/1000\n",
      "576/576 [==============================] - 0s 65us/step - loss: 0.6045 - accuracy: 0.6389 - val_loss: 0.8149 - val_accuracy: 0.4653\n",
      "Epoch 95/1000\n",
      "576/576 [==============================] - 0s 64us/step - loss: 0.6040 - accuracy: 0.6510 - val_loss: 0.8142 - val_accuracy: 0.5000\n",
      "Epoch 96/1000\n",
      "576/576 [==============================] - 0s 78us/step - loss: 0.6034 - accuracy: 0.6562 - val_loss: 0.8054 - val_accuracy: 0.4931\n",
      "Epoch 97/1000\n",
      "576/576 [==============================] - 0s 64us/step - loss: 0.6112 - accuracy: 0.6476 - val_loss: 0.8107 - val_accuracy: 0.4931\n",
      "Epoch 98/1000\n",
      "576/576 [==============================] - 0s 72us/step - loss: 0.5945 - accuracy: 0.6823 - val_loss: 0.9010 - val_accuracy: 0.4792\n",
      "Epoch 99/1000\n",
      "576/576 [==============================] - 0s 63us/step - loss: 0.6056 - accuracy: 0.6476 - val_loss: 0.8276 - val_accuracy: 0.4306\n",
      "Epoch 100/1000\n",
      "576/576 [==============================] - 0s 63us/step - loss: 0.6006 - accuracy: 0.6493 - val_loss: 0.7919 - val_accuracy: 0.5347\n",
      "Epoch 101/1000\n",
      "576/576 [==============================] - 0s 71us/step - loss: 0.5951 - accuracy: 0.6719 - val_loss: 0.8207 - val_accuracy: 0.5069\n",
      "Epoch 102/1000\n",
      "576/576 [==============================] - 0s 68us/step - loss: 0.6051 - accuracy: 0.6510 - val_loss: 0.8163 - val_accuracy: 0.4861\n",
      "Epoch 103/1000\n",
      "576/576 [==============================] - 0s 69us/step - loss: 0.6143 - accuracy: 0.6562 - val_loss: 0.8002 - val_accuracy: 0.5000\n",
      "Epoch 104/1000\n",
      "576/576 [==============================] - 0s 68us/step - loss: 0.5968 - accuracy: 0.6667 - val_loss: 0.8018 - val_accuracy: 0.5208\n",
      "Epoch 105/1000\n",
      "576/576 [==============================] - 0s 77us/step - loss: 0.6097 - accuracy: 0.6684 - val_loss: 0.8403 - val_accuracy: 0.4653\n",
      "Epoch 106/1000\n",
      "576/576 [==============================] - 0s 74us/step - loss: 0.6059 - accuracy: 0.6406 - val_loss: 0.7942 - val_accuracy: 0.5069\n",
      "Epoch 107/1000\n",
      "576/576 [==============================] - 0s 76us/step - loss: 0.5935 - accuracy: 0.6632 - val_loss: 0.8186 - val_accuracy: 0.4792\n",
      "Epoch 108/1000\n",
      "576/576 [==============================] - 0s 74us/step - loss: 0.5872 - accuracy: 0.6753 - val_loss: 0.8294 - val_accuracy: 0.5486\n",
      "Epoch 109/1000\n",
      "576/576 [==============================] - 0s 77us/step - loss: 0.5933 - accuracy: 0.6528 - val_loss: 0.8421 - val_accuracy: 0.5139\n",
      "Epoch 110/1000\n",
      "576/576 [==============================] - 0s 73us/step - loss: 0.5973 - accuracy: 0.6771 - val_loss: 0.8790 - val_accuracy: 0.4583\n",
      "Epoch 111/1000\n",
      "576/576 [==============================] - 0s 75us/step - loss: 0.5893 - accuracy: 0.6736 - val_loss: 0.8545 - val_accuracy: 0.4861\n",
      "Epoch 112/1000\n",
      "576/576 [==============================] - 0s 65us/step - loss: 0.5914 - accuracy: 0.6667 - val_loss: 0.8591 - val_accuracy: 0.4653\n",
      "Epoch 113/1000\n",
      "576/576 [==============================] - 0s 73us/step - loss: 0.5883 - accuracy: 0.6806 - val_loss: 0.9330 - val_accuracy: 0.4514\n",
      "Epoch 114/1000\n",
      "576/576 [==============================] - 0s 78us/step - loss: 0.5934 - accuracy: 0.6580 - val_loss: 0.8626 - val_accuracy: 0.4653\n",
      "Epoch 115/1000\n",
      "576/576 [==============================] - 0s 74us/step - loss: 0.5897 - accuracy: 0.6562 - val_loss: 0.8260 - val_accuracy: 0.4931\n",
      "Epoch 116/1000\n",
      "576/576 [==============================] - 0s 72us/step - loss: 0.5870 - accuracy: 0.6753 - val_loss: 0.8391 - val_accuracy: 0.4931\n",
      "Epoch 117/1000\n",
      "576/576 [==============================] - 0s 65us/step - loss: 0.5899 - accuracy: 0.6788 - val_loss: 0.8350 - val_accuracy: 0.5417\n",
      "Epoch 118/1000\n",
      "576/576 [==============================] - 0s 69us/step - loss: 0.5757 - accuracy: 0.6944 - val_loss: 0.8805 - val_accuracy: 0.4583\n",
      "Epoch 119/1000\n",
      "576/576 [==============================] - 0s 64us/step - loss: 0.5843 - accuracy: 0.6910 - val_loss: 0.8899 - val_accuracy: 0.4722\n",
      "Epoch 120/1000\n",
      "576/576 [==============================] - 0s 64us/step - loss: 0.5772 - accuracy: 0.6840 - val_loss: 0.8548 - val_accuracy: 0.5069\n",
      "Epoch 121/1000\n",
      "576/576 [==============================] - 0s 66us/step - loss: 0.5912 - accuracy: 0.6667 - val_loss: 0.8388 - val_accuracy: 0.5278\n",
      "Epoch 122/1000\n",
      "576/576 [==============================] - 0s 72us/step - loss: 0.5839 - accuracy: 0.6910 - val_loss: 0.8275 - val_accuracy: 0.5000\n",
      "Epoch 123/1000\n",
      "576/576 [==============================] - 0s 61us/step - loss: 0.5840 - accuracy: 0.6684 - val_loss: 0.8472 - val_accuracy: 0.4861\n",
      "Epoch 124/1000\n",
      "576/576 [==============================] - 0s 70us/step - loss: 0.5789 - accuracy: 0.6997 - val_loss: 0.8702 - val_accuracy: 0.4861\n",
      "Epoch 125/1000\n",
      "576/576 [==============================] - 0s 65us/step - loss: 0.5783 - accuracy: 0.6875 - val_loss: 1.0077 - val_accuracy: 0.4861\n",
      "Epoch 126/1000\n",
      "576/576 [==============================] - 0s 73us/step - loss: 0.5961 - accuracy: 0.6788 - val_loss: 0.8566 - val_accuracy: 0.4514\n",
      "Epoch 127/1000\n",
      "576/576 [==============================] - 0s 68us/step - loss: 0.5734 - accuracy: 0.7049 - val_loss: 0.8574 - val_accuracy: 0.5208\n",
      "Epoch 128/1000\n",
      "576/576 [==============================] - 0s 84us/step - loss: 0.5720 - accuracy: 0.6997 - val_loss: 0.8808 - val_accuracy: 0.5417\n",
      "Epoch 129/1000\n",
      "576/576 [==============================] - 0s 89us/step - loss: 0.5740 - accuracy: 0.6962 - val_loss: 0.8583 - val_accuracy: 0.5069\n",
      "Epoch 130/1000\n",
      "576/576 [==============================] - 0s 85us/step - loss: 0.5657 - accuracy: 0.6997 - val_loss: 0.9522 - val_accuracy: 0.4375\n",
      "Epoch 131/1000\n",
      "576/576 [==============================] - 0s 69us/step - loss: 0.5772 - accuracy: 0.6771 - val_loss: 0.8601 - val_accuracy: 0.4722\n",
      "Epoch 132/1000\n",
      "576/576 [==============================] - 0s 69us/step - loss: 0.5649 - accuracy: 0.7188 - val_loss: 0.8871 - val_accuracy: 0.5347\n",
      "Epoch 133/1000\n",
      "576/576 [==============================] - 0s 66us/step - loss: 0.5810 - accuracy: 0.6979 - val_loss: 0.8890 - val_accuracy: 0.4514\n",
      "Epoch 134/1000\n",
      "576/576 [==============================] - 0s 72us/step - loss: 0.5865 - accuracy: 0.6632 - val_loss: 0.8740 - val_accuracy: 0.4653\n",
      "Epoch 135/1000\n",
      "576/576 [==============================] - 0s 72us/step - loss: 0.5720 - accuracy: 0.6823 - val_loss: 0.8788 - val_accuracy: 0.5208\n",
      "Epoch 136/1000\n",
      "576/576 [==============================] - 0s 71us/step - loss: 0.5680 - accuracy: 0.6823 - val_loss: 0.8727 - val_accuracy: 0.4861\n",
      "Epoch 137/1000\n",
      "576/576 [==============================] - 0s 70us/step - loss: 0.5759 - accuracy: 0.6771 - val_loss: 0.8475 - val_accuracy: 0.5139\n",
      "Epoch 138/1000\n",
      "576/576 [==============================] - 0s 65us/step - loss: 0.5820 - accuracy: 0.6875 - val_loss: 0.8598 - val_accuracy: 0.4792\n",
      "Epoch 139/1000\n",
      "576/576 [==============================] - 0s 73us/step - loss: 0.5791 - accuracy: 0.6840 - val_loss: 0.8743 - val_accuracy: 0.5347\n",
      "Epoch 140/1000\n",
      "576/576 [==============================] - 0s 64us/step - loss: 0.5647 - accuracy: 0.7170 - val_loss: 0.8628 - val_accuracy: 0.5139\n",
      "Epoch 141/1000\n",
      "576/576 [==============================] - 0s 66us/step - loss: 0.5625 - accuracy: 0.7274 - val_loss: 0.9141 - val_accuracy: 0.4792\n",
      "Epoch 142/1000\n",
      "576/576 [==============================] - 0s 67us/step - loss: 0.5621 - accuracy: 0.7135 - val_loss: 0.8993 - val_accuracy: 0.5000\n",
      "Epoch 143/1000\n",
      "576/576 [==============================] - 0s 65us/step - loss: 0.5770 - accuracy: 0.7014 - val_loss: 0.8601 - val_accuracy: 0.5278\n",
      "Epoch 144/1000\n",
      "576/576 [==============================] - 0s 65us/step - loss: 0.5699 - accuracy: 0.6944 - val_loss: 0.8963 - val_accuracy: 0.4583\n",
      "Epoch 145/1000\n",
      "576/576 [==============================] - 0s 65us/step - loss: 0.5712 - accuracy: 0.6962 - val_loss: 0.9409 - val_accuracy: 0.4653\n",
      "Epoch 146/1000\n",
      "576/576 [==============================] - 0s 68us/step - loss: 0.5602 - accuracy: 0.7031 - val_loss: 0.9092 - val_accuracy: 0.4583\n",
      "Epoch 147/1000\n",
      "576/576 [==============================] - 0s 63us/step - loss: 0.5628 - accuracy: 0.6962 - val_loss: 0.9401 - val_accuracy: 0.4514\n",
      "Epoch 148/1000\n",
      "576/576 [==============================] - 0s 64us/step - loss: 0.5585 - accuracy: 0.7205 - val_loss: 0.9447 - val_accuracy: 0.4931\n",
      "Epoch 149/1000\n",
      "576/576 [==============================] - 0s 67us/step - loss: 0.5599 - accuracy: 0.7205 - val_loss: 0.8720 - val_accuracy: 0.5000\n",
      "Epoch 150/1000\n",
      "576/576 [==============================] - 0s 71us/step - loss: 0.5601 - accuracy: 0.6910 - val_loss: 0.8974 - val_accuracy: 0.5556\n",
      "Epoch 151/1000\n",
      "576/576 [==============================] - 0s 77us/step - loss: 0.5650 - accuracy: 0.6788 - val_loss: 0.9144 - val_accuracy: 0.4722\n",
      "Epoch 152/1000\n",
      "576/576 [==============================] - 0s 72us/step - loss: 0.5614 - accuracy: 0.7188 - val_loss: 0.9427 - val_accuracy: 0.4375\n",
      "Epoch 153/1000\n",
      "576/576 [==============================] - 0s 83us/step - loss: 0.5731 - accuracy: 0.6858 - val_loss: 0.9478 - val_accuracy: 0.4306\n",
      "Epoch 154/1000\n",
      "576/576 [==============================] - 0s 74us/step - loss: 0.5615 - accuracy: 0.7014 - val_loss: 0.9224 - val_accuracy: 0.4514\n",
      "Epoch 155/1000\n",
      "576/576 [==============================] - 0s 80us/step - loss: 0.5579 - accuracy: 0.7031 - val_loss: 0.8881 - val_accuracy: 0.4722\n",
      "Epoch 156/1000\n",
      "576/576 [==============================] - 0s 65us/step - loss: 0.5581 - accuracy: 0.7153 - val_loss: 0.9409 - val_accuracy: 0.4792\n",
      "Epoch 157/1000\n",
      "576/576 [==============================] - 0s 64us/step - loss: 0.5654 - accuracy: 0.7135 - val_loss: 0.9049 - val_accuracy: 0.4514\n",
      "Epoch 158/1000\n",
      "576/576 [==============================] - 0s 72us/step - loss: 0.5470 - accuracy: 0.7153 - val_loss: 0.9313 - val_accuracy: 0.4653\n",
      "Epoch 159/1000\n",
      "576/576 [==============================] - 0s 65us/step - loss: 0.5489 - accuracy: 0.7135 - val_loss: 0.9351 - val_accuracy: 0.4583\n",
      "Epoch 160/1000\n",
      "576/576 [==============================] - 0s 69us/step - loss: 0.5723 - accuracy: 0.6944 - val_loss: 0.8827 - val_accuracy: 0.4653\n",
      "Epoch 161/1000\n",
      "576/576 [==============================] - 0s 75us/step - loss: 0.5765 - accuracy: 0.6858 - val_loss: 0.8528 - val_accuracy: 0.5486\n",
      "Epoch 162/1000\n",
      "576/576 [==============================] - 0s 81us/step - loss: 0.5446 - accuracy: 0.7014 - val_loss: 0.9286 - val_accuracy: 0.4722\n",
      "Epoch 163/1000\n",
      "576/576 [==============================] - 0s 73us/step - loss: 0.5436 - accuracy: 0.7222 - val_loss: 0.9663 - val_accuracy: 0.4583\n",
      "Epoch 164/1000\n",
      "576/576 [==============================] - 0s 80us/step - loss: 0.5535 - accuracy: 0.7014 - val_loss: 0.9221 - val_accuracy: 0.4931\n",
      "Epoch 165/1000\n",
      "576/576 [==============================] - 0s 74us/step - loss: 0.5474 - accuracy: 0.7188 - val_loss: 0.8894 - val_accuracy: 0.4931\n",
      "Epoch 166/1000\n",
      "576/576 [==============================] - 0s 80us/step - loss: 0.5443 - accuracy: 0.7066 - val_loss: 0.9447 - val_accuracy: 0.4444\n",
      "Epoch 167/1000\n",
      "576/576 [==============================] - 0s 71us/step - loss: 0.5451 - accuracy: 0.7101 - val_loss: 1.0071 - val_accuracy: 0.4167\n",
      "Epoch 168/1000\n",
      "576/576 [==============================] - 0s 72us/step - loss: 0.5403 - accuracy: 0.7361 - val_loss: 0.9430 - val_accuracy: 0.4514\n",
      "Epoch 169/1000\n",
      "576/576 [==============================] - 0s 68us/step - loss: 0.5353 - accuracy: 0.7170 - val_loss: 0.9707 - val_accuracy: 0.4722\n",
      "Epoch 170/1000\n",
      "576/576 [==============================] - 0s 81us/step - loss: 0.5334 - accuracy: 0.7274 - val_loss: 0.9370 - val_accuracy: 0.4722\n",
      "Epoch 171/1000\n",
      "576/576 [==============================] - 0s 72us/step - loss: 0.5386 - accuracy: 0.7188 - val_loss: 0.9493 - val_accuracy: 0.5000\n",
      "Epoch 172/1000\n",
      "576/576 [==============================] - 0s 86us/step - loss: 0.5375 - accuracy: 0.7101 - val_loss: 0.9481 - val_accuracy: 0.5486\n",
      "Epoch 173/1000\n",
      "576/576 [==============================] - 0s 72us/step - loss: 0.5432 - accuracy: 0.7274 - val_loss: 0.9888 - val_accuracy: 0.4236\n",
      "Epoch 174/1000\n",
      "576/576 [==============================] - 0s 76us/step - loss: 0.5353 - accuracy: 0.7205 - val_loss: 0.9815 - val_accuracy: 0.4514\n",
      "Epoch 175/1000\n",
      "576/576 [==============================] - 0s 65us/step - loss: 0.5385 - accuracy: 0.7292 - val_loss: 0.9679 - val_accuracy: 0.4722\n",
      "Epoch 176/1000\n",
      "576/576 [==============================] - 0s 81us/step - loss: 0.5304 - accuracy: 0.7309 - val_loss: 0.9909 - val_accuracy: 0.4375\n",
      "Epoch 177/1000\n",
      "576/576 [==============================] - 0s 66us/step - loss: 0.5340 - accuracy: 0.7344 - val_loss: 1.0147 - val_accuracy: 0.5000\n",
      "Epoch 178/1000\n",
      "576/576 [==============================] - 0s 67us/step - loss: 0.5286 - accuracy: 0.7326 - val_loss: 1.0414 - val_accuracy: 0.4375\n",
      "Epoch 179/1000\n",
      "576/576 [==============================] - 0s 67us/step - loss: 0.5336 - accuracy: 0.7031 - val_loss: 1.0480 - val_accuracy: 0.4444\n",
      "Epoch 180/1000\n",
      "576/576 [==============================] - 0s 64us/step - loss: 0.5356 - accuracy: 0.7222 - val_loss: 1.0205 - val_accuracy: 0.4306\n",
      "Epoch 181/1000\n",
      "576/576 [==============================] - 0s 79us/step - loss: 0.5347 - accuracy: 0.6927 - val_loss: 1.0356 - val_accuracy: 0.4375\n",
      "Epoch 182/1000\n",
      "576/576 [==============================] - 0s 69us/step - loss: 0.5376 - accuracy: 0.7101 - val_loss: 1.0037 - val_accuracy: 0.4792\n",
      "Epoch 183/1000\n",
      "576/576 [==============================] - 0s 66us/step - loss: 0.5438 - accuracy: 0.7240 - val_loss: 0.9490 - val_accuracy: 0.4653\n",
      "Epoch 184/1000\n",
      "576/576 [==============================] - 0s 65us/step - loss: 0.5278 - accuracy: 0.7170 - val_loss: 1.0351 - val_accuracy: 0.4306\n",
      "Epoch 185/1000\n",
      "576/576 [==============================] - 0s 69us/step - loss: 0.5307 - accuracy: 0.7170 - val_loss: 1.0506 - val_accuracy: 0.4306\n",
      "Epoch 186/1000\n",
      "576/576 [==============================] - 0s 64us/step - loss: 0.5222 - accuracy: 0.7309 - val_loss: 1.0300 - val_accuracy: 0.4375\n",
      "Epoch 187/1000\n",
      "576/576 [==============================] - 0s 65us/step - loss: 0.5260 - accuracy: 0.7274 - val_loss: 1.0481 - val_accuracy: 0.4097\n",
      "Epoch 188/1000\n",
      "576/576 [==============================] - 0s 64us/step - loss: 0.5364 - accuracy: 0.7222 - val_loss: 1.0166 - val_accuracy: 0.4514\n",
      "Epoch 189/1000\n",
      "576/576 [==============================] - 0s 63us/step - loss: 0.5371 - accuracy: 0.7118 - val_loss: 0.9682 - val_accuracy: 0.4375\n",
      "Epoch 190/1000\n",
      "576/576 [==============================] - 0s 65us/step - loss: 0.5215 - accuracy: 0.7170 - val_loss: 1.0690 - val_accuracy: 0.4375\n",
      "Epoch 191/1000\n",
      "576/576 [==============================] - 0s 65us/step - loss: 0.5235 - accuracy: 0.7101 - val_loss: 0.9961 - val_accuracy: 0.4236\n",
      "Epoch 192/1000\n",
      "576/576 [==============================] - 0s 65us/step - loss: 0.5146 - accuracy: 0.7378 - val_loss: 1.1131 - val_accuracy: 0.4514\n",
      "Epoch 193/1000\n",
      "576/576 [==============================] - 0s 70us/step - loss: 0.5075 - accuracy: 0.7396 - val_loss: 1.0170 - val_accuracy: 0.5000\n",
      "Epoch 194/1000\n",
      "576/576 [==============================] - 0s 71us/step - loss: 0.5360 - accuracy: 0.7170 - val_loss: 0.9372 - val_accuracy: 0.5069\n",
      "Epoch 195/1000\n",
      "576/576 [==============================] - 0s 67us/step - loss: 0.5227 - accuracy: 0.7292 - val_loss: 1.0163 - val_accuracy: 0.5069\n",
      "Epoch 196/1000\n",
      "576/576 [==============================] - 0s 68us/step - loss: 0.5143 - accuracy: 0.7535 - val_loss: 1.0507 - val_accuracy: 0.4792\n",
      "Epoch 197/1000\n",
      "576/576 [==============================] - 0s 65us/step - loss: 0.5226 - accuracy: 0.7135 - val_loss: 0.9845 - val_accuracy: 0.4653\n",
      "Epoch 198/1000\n",
      "576/576 [==============================] - 0s 64us/step - loss: 0.5091 - accuracy: 0.7483 - val_loss: 1.0925 - val_accuracy: 0.4931\n",
      "Epoch 199/1000\n",
      "576/576 [==============================] - 0s 68us/step - loss: 0.5157 - accuracy: 0.7344 - val_loss: 1.0465 - val_accuracy: 0.4444\n",
      "Epoch 200/1000\n",
      "576/576 [==============================] - 0s 68us/step - loss: 0.5118 - accuracy: 0.7413 - val_loss: 0.9680 - val_accuracy: 0.5139\n",
      "Epoch 201/1000\n",
      "576/576 [==============================] - 0s 65us/step - loss: 0.5077 - accuracy: 0.7604 - val_loss: 1.0739 - val_accuracy: 0.5139\n",
      "Epoch 202/1000\n",
      "576/576 [==============================] - 0s 81us/step - loss: 0.5130 - accuracy: 0.7361 - val_loss: 1.0719 - val_accuracy: 0.4375\n",
      "Epoch 203/1000\n",
      "576/576 [==============================] - 0s 65us/step - loss: 0.5093 - accuracy: 0.7326 - val_loss: 1.2075 - val_accuracy: 0.4167\n",
      "Epoch 204/1000\n",
      "576/576 [==============================] - 0s 71us/step - loss: 0.5154 - accuracy: 0.7326 - val_loss: 1.0698 - val_accuracy: 0.5000\n",
      "Epoch 205/1000\n",
      "576/576 [==============================] - 0s 64us/step - loss: 0.4972 - accuracy: 0.7448 - val_loss: 1.0272 - val_accuracy: 0.4722\n",
      "Epoch 206/1000\n",
      "576/576 [==============================] - 0s 72us/step - loss: 0.5060 - accuracy: 0.7431 - val_loss: 1.1225 - val_accuracy: 0.4722\n",
      "Epoch 207/1000\n",
      "576/576 [==============================] - 0s 69us/step - loss: 0.4988 - accuracy: 0.7396 - val_loss: 1.1195 - val_accuracy: 0.4167\n",
      "Epoch 208/1000\n",
      "576/576 [==============================] - 0s 82us/step - loss: 0.5072 - accuracy: 0.7448 - val_loss: 1.1442 - val_accuracy: 0.4514\n",
      "Epoch 209/1000\n",
      "576/576 [==============================] - 0s 75us/step - loss: 0.5011 - accuracy: 0.7344 - val_loss: 1.1305 - val_accuracy: 0.4583\n",
      "Epoch 210/1000\n",
      "576/576 [==============================] - 0s 75us/step - loss: 0.5045 - accuracy: 0.7413 - val_loss: 1.1466 - val_accuracy: 0.4306\n",
      "Epoch 211/1000\n",
      "576/576 [==============================] - 0s 79us/step - loss: 0.4983 - accuracy: 0.7378 - val_loss: 1.1250 - val_accuracy: 0.4028\n",
      "Epoch 212/1000\n",
      "576/576 [==============================] - 0s 71us/step - loss: 0.5337 - accuracy: 0.6944 - val_loss: 1.1347 - val_accuracy: 0.4792\n",
      "Epoch 213/1000\n",
      "576/576 [==============================] - 0s 79us/step - loss: 0.4909 - accuracy: 0.7517 - val_loss: 1.1564 - val_accuracy: 0.4514\n",
      "Epoch 214/1000\n",
      "576/576 [==============================] - 0s 72us/step - loss: 0.4880 - accuracy: 0.7569 - val_loss: 1.1368 - val_accuracy: 0.4792\n",
      "Epoch 215/1000\n",
      "576/576 [==============================] - 0s 82us/step - loss: 0.4816 - accuracy: 0.7569 - val_loss: 1.1876 - val_accuracy: 0.4722\n",
      "Epoch 216/1000\n",
      "576/576 [==============================] - 0s 71us/step - loss: 0.4753 - accuracy: 0.7535 - val_loss: 1.1486 - val_accuracy: 0.4514\n",
      "Epoch 217/1000\n",
      "576/576 [==============================] - 0s 75us/step - loss: 0.4805 - accuracy: 0.7587 - val_loss: 1.1530 - val_accuracy: 0.4444\n",
      "Epoch 218/1000\n",
      "576/576 [==============================] - 0s 73us/step - loss: 0.4732 - accuracy: 0.7622 - val_loss: 1.1477 - val_accuracy: 0.4583\n",
      "Epoch 219/1000\n",
      "576/576 [==============================] - 0s 77us/step - loss: 0.5008 - accuracy: 0.7378 - val_loss: 1.0626 - val_accuracy: 0.5139\n",
      "Epoch 220/1000\n",
      "576/576 [==============================] - 0s 73us/step - loss: 0.4911 - accuracy: 0.7240 - val_loss: 1.2158 - val_accuracy: 0.4375\n",
      "Epoch 221/1000\n",
      "576/576 [==============================] - 0s 78us/step - loss: 0.4836 - accuracy: 0.7587 - val_loss: 1.1310 - val_accuracy: 0.5000\n",
      "Epoch 222/1000\n",
      "576/576 [==============================] - 0s 73us/step - loss: 0.5212 - accuracy: 0.7240 - val_loss: 1.0627 - val_accuracy: 0.4722\n",
      "Epoch 223/1000\n",
      "576/576 [==============================] - 0s 73us/step - loss: 0.4888 - accuracy: 0.7396 - val_loss: 1.1099 - val_accuracy: 0.5069\n",
      "Epoch 224/1000\n",
      "576/576 [==============================] - 0s 83us/step - loss: 0.4843 - accuracy: 0.7448 - val_loss: 1.1633 - val_accuracy: 0.4514\n",
      "Epoch 225/1000\n",
      "576/576 [==============================] - 0s 69us/step - loss: 0.4727 - accuracy: 0.7656 - val_loss: 1.2003 - val_accuracy: 0.4722\n",
      "Epoch 226/1000\n",
      "576/576 [==============================] - 0s 78us/step - loss: 0.4783 - accuracy: 0.7535 - val_loss: 1.1157 - val_accuracy: 0.4653\n",
      "Epoch 227/1000\n",
      "576/576 [==============================] - 0s 69us/step - loss: 0.4796 - accuracy: 0.7656 - val_loss: 1.1777 - val_accuracy: 0.5000\n",
      "Epoch 228/1000\n",
      "576/576 [==============================] - 0s 68us/step - loss: 0.4767 - accuracy: 0.7500 - val_loss: 1.1459 - val_accuracy: 0.4861\n",
      "Epoch 229/1000\n",
      "576/576 [==============================] - 0s 72us/step - loss: 0.4693 - accuracy: 0.7604 - val_loss: 1.1697 - val_accuracy: 0.4792\n",
      "Epoch 230/1000\n",
      "576/576 [==============================] - 0s 69us/step - loss: 0.4571 - accuracy: 0.7743 - val_loss: 1.2304 - val_accuracy: 0.5000\n",
      "Epoch 231/1000\n",
      "576/576 [==============================] - 0s 63us/step - loss: 0.4713 - accuracy: 0.7743 - val_loss: 1.2220 - val_accuracy: 0.4375\n",
      "Epoch 232/1000\n",
      "576/576 [==============================] - 0s 64us/step - loss: 0.4691 - accuracy: 0.7517 - val_loss: 1.2214 - val_accuracy: 0.4375\n",
      "Epoch 233/1000\n",
      "576/576 [==============================] - 0s 76us/step - loss: 0.4583 - accuracy: 0.7708 - val_loss: 1.4067 - val_accuracy: 0.4653\n",
      "Epoch 234/1000\n",
      "576/576 [==============================] - 0s 65us/step - loss: 0.4817 - accuracy: 0.7465 - val_loss: 1.3106 - val_accuracy: 0.4444\n",
      "Epoch 235/1000\n",
      "576/576 [==============================] - 0s 68us/step - loss: 0.4968 - accuracy: 0.7378 - val_loss: 1.1745 - val_accuracy: 0.4792\n",
      "Epoch 236/1000\n",
      "576/576 [==============================] - 0s 73us/step - loss: 0.4606 - accuracy: 0.7708 - val_loss: 1.3205 - val_accuracy: 0.4514\n",
      "Epoch 237/1000\n",
      "576/576 [==============================] - 0s 64us/step - loss: 0.4608 - accuracy: 0.7726 - val_loss: 1.2608 - val_accuracy: 0.5000\n",
      "Epoch 238/1000\n",
      "576/576 [==============================] - 0s 74us/step - loss: 0.4583 - accuracy: 0.7778 - val_loss: 1.2901 - val_accuracy: 0.5000\n",
      "Epoch 239/1000\n",
      "576/576 [==============================] - 0s 67us/step - loss: 0.4531 - accuracy: 0.7691 - val_loss: 1.2572 - val_accuracy: 0.4444\n",
      "Epoch 240/1000\n",
      "576/576 [==============================] - 0s 69us/step - loss: 0.4470 - accuracy: 0.7812 - val_loss: 1.3233 - val_accuracy: 0.4861\n",
      "Epoch 241/1000\n",
      "576/576 [==============================] - 0s 64us/step - loss: 0.4537 - accuracy: 0.7691 - val_loss: 1.2441 - val_accuracy: 0.4375\n",
      "Epoch 242/1000\n",
      "576/576 [==============================] - 0s 66us/step - loss: 0.4468 - accuracy: 0.7830 - val_loss: 1.3792 - val_accuracy: 0.4722\n",
      "Epoch 243/1000\n",
      "576/576 [==============================] - 0s 76us/step - loss: 0.4530 - accuracy: 0.7726 - val_loss: 1.3122 - val_accuracy: 0.4931\n",
      "Epoch 244/1000\n",
      "576/576 [==============================] - 0s 64us/step - loss: 0.4485 - accuracy: 0.7691 - val_loss: 1.2190 - val_accuracy: 0.5000\n",
      "Epoch 245/1000\n",
      "576/576 [==============================] - 0s 72us/step - loss: 0.4476 - accuracy: 0.7639 - val_loss: 1.3141 - val_accuracy: 0.5069\n",
      "Epoch 246/1000\n",
      "576/576 [==============================] - 0s 64us/step - loss: 0.4610 - accuracy: 0.7604 - val_loss: 1.2950 - val_accuracy: 0.4444\n",
      "Epoch 247/1000\n",
      "576/576 [==============================] - 0s 80us/step - loss: 0.4544 - accuracy: 0.7760 - val_loss: 1.4623 - val_accuracy: 0.4375\n",
      "Epoch 248/1000\n",
      "576/576 [==============================] - 0s 67us/step - loss: 0.4477 - accuracy: 0.7795 - val_loss: 1.3139 - val_accuracy: 0.5000\n",
      "Epoch 249/1000\n",
      "576/576 [==============================] - 0s 83us/step - loss: 0.4369 - accuracy: 0.7795 - val_loss: 1.3647 - val_accuracy: 0.4653\n",
      "Epoch 250/1000\n",
      "576/576 [==============================] - 0s 66us/step - loss: 0.4314 - accuracy: 0.7830 - val_loss: 1.3381 - val_accuracy: 0.4653\n",
      "Epoch 251/1000\n",
      "576/576 [==============================] - 0s 71us/step - loss: 0.4292 - accuracy: 0.7795 - val_loss: 1.4141 - val_accuracy: 0.4444\n",
      "Epoch 252/1000\n",
      "576/576 [==============================] - 0s 65us/step - loss: 0.4380 - accuracy: 0.7778 - val_loss: 1.5137 - val_accuracy: 0.4861\n",
      "Epoch 253/1000\n",
      "576/576 [==============================] - 0s 70us/step - loss: 0.4282 - accuracy: 0.7951 - val_loss: 1.3571 - val_accuracy: 0.4931\n",
      "Epoch 254/1000\n",
      "576/576 [==============================] - 0s 64us/step - loss: 0.4280 - accuracy: 0.7760 - val_loss: 1.4282 - val_accuracy: 0.4792\n",
      "Epoch 255/1000\n",
      "576/576 [==============================] - 0s 70us/step - loss: 0.4548 - accuracy: 0.7552 - val_loss: 1.3899 - val_accuracy: 0.4306\n",
      "Epoch 256/1000\n",
      "576/576 [==============================] - 0s 68us/step - loss: 0.4210 - accuracy: 0.7865 - val_loss: 1.4444 - val_accuracy: 0.4514\n",
      "Epoch 257/1000\n",
      "576/576 [==============================] - 0s 68us/step - loss: 0.4370 - accuracy: 0.7847 - val_loss: 1.2808 - val_accuracy: 0.4653\n",
      "Epoch 258/1000\n",
      "576/576 [==============================] - 0s 69us/step - loss: 0.4461 - accuracy: 0.7743 - val_loss: 1.3638 - val_accuracy: 0.4583\n",
      "Epoch 259/1000\n",
      "576/576 [==============================] - 0s 65us/step - loss: 0.4355 - accuracy: 0.7812 - val_loss: 1.4759 - val_accuracy: 0.4931\n",
      "Epoch 260/1000\n",
      "576/576 [==============================] - 0s 68us/step - loss: 0.4324 - accuracy: 0.7865 - val_loss: 1.5065 - val_accuracy: 0.4583\n",
      "Epoch 261/1000\n",
      "576/576 [==============================] - 0s 72us/step - loss: 0.4311 - accuracy: 0.7778 - val_loss: 1.3394 - val_accuracy: 0.5069\n",
      "Epoch 262/1000\n",
      "576/576 [==============================] - 0s 78us/step - loss: 0.4285 - accuracy: 0.7917 - val_loss: 1.4438 - val_accuracy: 0.4792\n",
      "Epoch 263/1000\n",
      "576/576 [==============================] - 0s 73us/step - loss: 0.4108 - accuracy: 0.7951 - val_loss: 1.4379 - val_accuracy: 0.4583\n",
      "Epoch 264/1000\n",
      "576/576 [==============================] - 0s 64us/step - loss: 0.4201 - accuracy: 0.7882 - val_loss: 1.4671 - val_accuracy: 0.4583\n",
      "Epoch 265/1000\n",
      "576/576 [==============================] - 0s 80us/step - loss: 0.4088 - accuracy: 0.7969 - val_loss: 1.4777 - val_accuracy: 0.4722\n",
      "Epoch 266/1000\n",
      "576/576 [==============================] - 0s 73us/step - loss: 0.4051 - accuracy: 0.7812 - val_loss: 1.6129 - val_accuracy: 0.4792\n",
      "Epoch 267/1000\n",
      "576/576 [==============================] - 0s 82us/step - loss: 0.4258 - accuracy: 0.8021 - val_loss: 1.6184 - val_accuracy: 0.4514\n",
      "Epoch 268/1000\n",
      "576/576 [==============================] - 0s 74us/step - loss: 0.4059 - accuracy: 0.7986 - val_loss: 1.5502 - val_accuracy: 0.5000\n",
      "Epoch 269/1000\n",
      "576/576 [==============================] - 0s 69us/step - loss: 0.4304 - accuracy: 0.7830 - val_loss: 1.4258 - val_accuracy: 0.4722\n",
      "Epoch 270/1000\n",
      "576/576 [==============================] - 0s 63us/step - loss: 0.4239 - accuracy: 0.7865 - val_loss: 1.5886 - val_accuracy: 0.4514\n",
      "Epoch 271/1000\n",
      "576/576 [==============================] - 0s 67us/step - loss: 0.4206 - accuracy: 0.7760 - val_loss: 1.4250 - val_accuracy: 0.4722\n",
      "Epoch 272/1000\n",
      "576/576 [==============================] - 0s 76us/step - loss: 0.4424 - accuracy: 0.7691 - val_loss: 1.2227 - val_accuracy: 0.5139\n",
      "Epoch 273/1000\n",
      "576/576 [==============================] - 0s 83us/step - loss: 0.4246 - accuracy: 0.7778 - val_loss: 1.5292 - val_accuracy: 0.5000\n",
      "Epoch 274/1000\n",
      "576/576 [==============================] - 0s 67us/step - loss: 0.4337 - accuracy: 0.7795 - val_loss: 1.5504 - val_accuracy: 0.4792\n",
      "Epoch 275/1000\n",
      "576/576 [==============================] - 0s 66us/step - loss: 0.4109 - accuracy: 0.7917 - val_loss: 1.6221 - val_accuracy: 0.4653\n",
      "Epoch 276/1000\n",
      "576/576 [==============================] - 0s 64us/step - loss: 0.3956 - accuracy: 0.8073 - val_loss: 1.6259 - val_accuracy: 0.4583\n",
      "Epoch 277/1000\n",
      "576/576 [==============================] - 0s 69us/step - loss: 0.3858 - accuracy: 0.8038 - val_loss: 1.8669 - val_accuracy: 0.4375\n",
      "Epoch 278/1000\n",
      "576/576 [==============================] - 0s 65us/step - loss: 0.4069 - accuracy: 0.7865 - val_loss: 1.5492 - val_accuracy: 0.4722\n",
      "Epoch 279/1000\n",
      "576/576 [==============================] - 0s 80us/step - loss: 0.4066 - accuracy: 0.7951 - val_loss: 1.6185 - val_accuracy: 0.4653\n",
      "Epoch 280/1000\n",
      "576/576 [==============================] - 0s 65us/step - loss: 0.4008 - accuracy: 0.7969 - val_loss: 1.6710 - val_accuracy: 0.4722\n",
      "Epoch 281/1000\n",
      "576/576 [==============================] - 0s 82us/step - loss: 0.3901 - accuracy: 0.8073 - val_loss: 1.4861 - val_accuracy: 0.5000\n",
      "Epoch 282/1000\n",
      "576/576 [==============================] - 0s 68us/step - loss: 0.4178 - accuracy: 0.7899 - val_loss: 1.6088 - val_accuracy: 0.4792\n",
      "Epoch 283/1000\n",
      "576/576 [==============================] - 0s 68us/step - loss: 0.4088 - accuracy: 0.7865 - val_loss: 1.5551 - val_accuracy: 0.4722\n",
      "Epoch 284/1000\n",
      "576/576 [==============================] - 0s 79us/step - loss: 0.4291 - accuracy: 0.7743 - val_loss: 1.4790 - val_accuracy: 0.4792\n",
      "Epoch 285/1000\n",
      "576/576 [==============================] - 0s 72us/step - loss: 0.3994 - accuracy: 0.7847 - val_loss: 1.7548 - val_accuracy: 0.4653\n",
      "Epoch 286/1000\n",
      "576/576 [==============================] - 0s 73us/step - loss: 0.4031 - accuracy: 0.8038 - val_loss: 1.6075 - val_accuracy: 0.4722\n",
      "Epoch 287/1000\n",
      "576/576 [==============================] - 0s 65us/step - loss: 0.4202 - accuracy: 0.7951 - val_loss: 1.5732 - val_accuracy: 0.4583\n",
      "Epoch 288/1000\n",
      "576/576 [==============================] - 0s 74us/step - loss: 0.3943 - accuracy: 0.8021 - val_loss: 1.5308 - val_accuracy: 0.4861\n",
      "Epoch 289/1000\n",
      "576/576 [==============================] - 0s 66us/step - loss: 0.3725 - accuracy: 0.8142 - val_loss: 1.7178 - val_accuracy: 0.4514\n",
      "Epoch 290/1000\n",
      "576/576 [==============================] - 0s 73us/step - loss: 0.3930 - accuracy: 0.8142 - val_loss: 1.7205 - val_accuracy: 0.4583\n",
      "Epoch 291/1000\n",
      "576/576 [==============================] - 0s 66us/step - loss: 0.3777 - accuracy: 0.8056 - val_loss: 1.7539 - val_accuracy: 0.4931\n",
      "Epoch 292/1000\n",
      "576/576 [==============================] - 0s 64us/step - loss: 0.4046 - accuracy: 0.7882 - val_loss: 1.5996 - val_accuracy: 0.4653\n",
      "Epoch 293/1000\n",
      "576/576 [==============================] - 0s 70us/step - loss: 0.4173 - accuracy: 0.7847 - val_loss: 1.7279 - val_accuracy: 0.4583\n",
      "Epoch 294/1000\n",
      "576/576 [==============================] - 0s 64us/step - loss: 0.3800 - accuracy: 0.8056 - val_loss: 1.7032 - val_accuracy: 0.4653\n",
      "Epoch 295/1000\n",
      "576/576 [==============================] - 0s 69us/step - loss: 0.4080 - accuracy: 0.7917 - val_loss: 1.7581 - val_accuracy: 0.4583\n",
      "Epoch 296/1000\n",
      "576/576 [==============================] - 0s 75us/step - loss: 0.4032 - accuracy: 0.7847 - val_loss: 1.7839 - val_accuracy: 0.4722\n",
      "Epoch 297/1000\n",
      "576/576 [==============================] - 0s 81us/step - loss: 0.3953 - accuracy: 0.8038 - val_loss: 1.5592 - val_accuracy: 0.4583\n",
      "Epoch 298/1000\n",
      "576/576 [==============================] - 0s 64us/step - loss: 0.3856 - accuracy: 0.8108 - val_loss: 1.7364 - val_accuracy: 0.4861\n",
      "Epoch 299/1000\n",
      "576/576 [==============================] - 0s 65us/step - loss: 0.3620 - accuracy: 0.8125 - val_loss: 1.8044 - val_accuracy: 0.4583\n",
      "Epoch 300/1000\n",
      "576/576 [==============================] - 0s 73us/step - loss: 0.3754 - accuracy: 0.8108 - val_loss: 1.8652 - val_accuracy: 0.4653\n",
      "Epoch 301/1000\n",
      "576/576 [==============================] - 0s 64us/step - loss: 0.3956 - accuracy: 0.7951 - val_loss: 1.6887 - val_accuracy: 0.5069\n",
      "Epoch 302/1000\n",
      "576/576 [==============================] - 0s 66us/step - loss: 0.4222 - accuracy: 0.7587 - val_loss: 1.7086 - val_accuracy: 0.4514\n",
      "Epoch 303/1000\n",
      "576/576 [==============================] - 0s 68us/step - loss: 0.3683 - accuracy: 0.8108 - val_loss: 1.8468 - val_accuracy: 0.4722\n",
      "Epoch 304/1000\n",
      "576/576 [==============================] - 0s 67us/step - loss: 0.3693 - accuracy: 0.8142 - val_loss: 1.9000 - val_accuracy: 0.4514\n",
      "Epoch 305/1000\n",
      "576/576 [==============================] - 0s 68us/step - loss: 0.3942 - accuracy: 0.8038 - val_loss: 1.4756 - val_accuracy: 0.4931\n",
      "Epoch 306/1000\n",
      "576/576 [==============================] - 0s 67us/step - loss: 0.3843 - accuracy: 0.7708 - val_loss: 1.8968 - val_accuracy: 0.4861\n",
      "Epoch 307/1000\n",
      "576/576 [==============================] - 0s 67us/step - loss: 0.3630 - accuracy: 0.8090 - val_loss: 2.0002 - val_accuracy: 0.4653\n",
      "Epoch 308/1000\n",
      "576/576 [==============================] - 0s 64us/step - loss: 0.3613 - accuracy: 0.8090 - val_loss: 2.0383 - val_accuracy: 0.4653\n",
      "Epoch 309/1000\n",
      "576/576 [==============================] - 0s 75us/step - loss: 0.3786 - accuracy: 0.7986 - val_loss: 1.9887 - val_accuracy: 0.4653\n",
      "Epoch 310/1000\n",
      "576/576 [==============================] - 0s 70us/step - loss: 0.3699 - accuracy: 0.7951 - val_loss: 1.9741 - val_accuracy: 0.4861\n",
      "Epoch 311/1000\n",
      "576/576 [==============================] - 0s 74us/step - loss: 0.3861 - accuracy: 0.8003 - val_loss: 1.8447 - val_accuracy: 0.4653\n",
      "Epoch 312/1000\n",
      "576/576 [==============================] - 0s 73us/step - loss: 0.3562 - accuracy: 0.8038 - val_loss: 1.8286 - val_accuracy: 0.4653\n",
      "Epoch 313/1000\n",
      "576/576 [==============================] - 0s 64us/step - loss: 0.3551 - accuracy: 0.8090 - val_loss: 2.0348 - val_accuracy: 0.4444\n",
      "Epoch 314/1000\n",
      "576/576 [==============================] - 0s 66us/step - loss: 0.3511 - accuracy: 0.8073 - val_loss: 1.9297 - val_accuracy: 0.4444\n",
      "Epoch 315/1000\n",
      "576/576 [==============================] - 0s 78us/step - loss: 0.3583 - accuracy: 0.8299 - val_loss: 1.9505 - val_accuracy: 0.4792\n",
      "Epoch 316/1000\n",
      "576/576 [==============================] - 0s 72us/step - loss: 0.3424 - accuracy: 0.8281 - val_loss: 2.1387 - val_accuracy: 0.4583\n",
      "Epoch 317/1000\n",
      "576/576 [==============================] - 0s 67us/step - loss: 0.3879 - accuracy: 0.7986 - val_loss: 1.7926 - val_accuracy: 0.4444\n",
      "Epoch 318/1000\n",
      "576/576 [==============================] - 0s 70us/step - loss: 0.3689 - accuracy: 0.8194 - val_loss: 2.0020 - val_accuracy: 0.4375\n",
      "Epoch 319/1000\n",
      "576/576 [==============================] - 0s 70us/step - loss: 0.3747 - accuracy: 0.8160 - val_loss: 1.7187 - val_accuracy: 0.4583\n",
      "Epoch 320/1000\n",
      "576/576 [==============================] - 0s 71us/step - loss: 0.3470 - accuracy: 0.8247 - val_loss: 1.9042 - val_accuracy: 0.4722\n",
      "Epoch 321/1000\n",
      "576/576 [==============================] - 0s 65us/step - loss: 0.3403 - accuracy: 0.8351 - val_loss: 1.8100 - val_accuracy: 0.4653\n",
      "Epoch 322/1000\n",
      "576/576 [==============================] - 0s 74us/step - loss: 0.3378 - accuracy: 0.8351 - val_loss: 1.8199 - val_accuracy: 0.5000\n",
      "Epoch 323/1000\n",
      "576/576 [==============================] - 0s 63us/step - loss: 0.3686 - accuracy: 0.7951 - val_loss: 1.8870 - val_accuracy: 0.4583\n",
      "Epoch 324/1000\n",
      "576/576 [==============================] - 0s 63us/step - loss: 0.3524 - accuracy: 0.8125 - val_loss: 1.9145 - val_accuracy: 0.4444\n",
      "Epoch 325/1000\n",
      "576/576 [==============================] - 0s 68us/step - loss: 0.3321 - accuracy: 0.8351 - val_loss: 2.0045 - val_accuracy: 0.4583\n",
      "Epoch 326/1000\n",
      "576/576 [==============================] - 0s 68us/step - loss: 0.3301 - accuracy: 0.8316 - val_loss: 2.2026 - val_accuracy: 0.4861\n",
      "Epoch 327/1000\n",
      "576/576 [==============================] - 0s 68us/step - loss: 0.3521 - accuracy: 0.8056 - val_loss: 2.3549 - val_accuracy: 0.4514\n",
      "Epoch 328/1000\n",
      "576/576 [==============================] - 0s 77us/step - loss: 0.3556 - accuracy: 0.8038 - val_loss: 2.0701 - val_accuracy: 0.4653\n",
      "Epoch 329/1000\n",
      "576/576 [==============================] - 0s 69us/step - loss: 0.3547 - accuracy: 0.8073 - val_loss: 2.1958 - val_accuracy: 0.4375\n",
      "Epoch 330/1000\n",
      "576/576 [==============================] - 0s 72us/step - loss: 0.3543 - accuracy: 0.8247 - val_loss: 2.2459 - val_accuracy: 0.4792\n",
      "Epoch 331/1000\n",
      "576/576 [==============================] - 0s 65us/step - loss: 0.3882 - accuracy: 0.7934 - val_loss: 2.1427 - val_accuracy: 0.4514\n",
      "Epoch 332/1000\n",
      "576/576 [==============================] - 0s 65us/step - loss: 0.3634 - accuracy: 0.8229 - val_loss: 2.0106 - val_accuracy: 0.4375\n",
      "Epoch 333/1000\n",
      "576/576 [==============================] - 0s 73us/step - loss: 0.3477 - accuracy: 0.8333 - val_loss: 1.9874 - val_accuracy: 0.4722\n",
      "Epoch 334/1000\n",
      "576/576 [==============================] - 0s 74us/step - loss: 0.3550 - accuracy: 0.8194 - val_loss: 2.0242 - val_accuracy: 0.4722\n",
      "Epoch 335/1000\n",
      "576/576 [==============================] - 0s 72us/step - loss: 0.3413 - accuracy: 0.8264 - val_loss: 2.1528 - val_accuracy: 0.4514\n",
      "Epoch 336/1000\n",
      "576/576 [==============================] - 0s 73us/step - loss: 0.3865 - accuracy: 0.7899 - val_loss: 2.0350 - val_accuracy: 0.4653\n",
      "Epoch 337/1000\n",
      "576/576 [==============================] - 0s 73us/step - loss: 0.3542 - accuracy: 0.8142 - val_loss: 2.3898 - val_accuracy: 0.5000\n",
      "Epoch 338/1000\n",
      "576/576 [==============================] - 0s 73us/step - loss: 0.3347 - accuracy: 0.8247 - val_loss: 2.0087 - val_accuracy: 0.4514\n",
      "Epoch 339/1000\n",
      "576/576 [==============================] - 0s 73us/step - loss: 0.3499 - accuracy: 0.8229 - val_loss: 2.2372 - val_accuracy: 0.4583\n",
      "Epoch 340/1000\n",
      "576/576 [==============================] - 0s 85us/step - loss: 0.3407 - accuracy: 0.8351 - val_loss: 2.1054 - val_accuracy: 0.4722\n",
      "Epoch 341/1000\n",
      "576/576 [==============================] - 0s 64us/step - loss: 0.3345 - accuracy: 0.8247 - val_loss: 2.0963 - val_accuracy: 0.4583\n",
      "Epoch 342/1000\n",
      "576/576 [==============================] - 0s 74us/step - loss: 0.3227 - accuracy: 0.8403 - val_loss: 1.9491 - val_accuracy: 0.4931\n",
      "Epoch 343/1000\n",
      "576/576 [==============================] - 0s 83us/step - loss: 0.3329 - accuracy: 0.8368 - val_loss: 2.2545 - val_accuracy: 0.4722\n",
      "Epoch 344/1000\n",
      "576/576 [==============================] - 0s 72us/step - loss: 0.3614 - accuracy: 0.8021 - val_loss: 2.1670 - val_accuracy: 0.4444\n",
      "Epoch 345/1000\n",
      "576/576 [==============================] - 0s 68us/step - loss: 0.3266 - accuracy: 0.8385 - val_loss: 2.3337 - val_accuracy: 0.4653\n",
      "Epoch 346/1000\n",
      "576/576 [==============================] - 0s 74us/step - loss: 0.3348 - accuracy: 0.8229 - val_loss: 2.1534 - val_accuracy: 0.4514\n",
      "Epoch 347/1000\n",
      "576/576 [==============================] - 0s 64us/step - loss: 0.3142 - accuracy: 0.8333 - val_loss: 2.1940 - val_accuracy: 0.4583\n",
      "Epoch 348/1000\n",
      "576/576 [==============================] - 0s 68us/step - loss: 0.3186 - accuracy: 0.8316 - val_loss: 2.1274 - val_accuracy: 0.4306\n",
      "Epoch 349/1000\n",
      "576/576 [==============================] - 0s 63us/step - loss: 0.3272 - accuracy: 0.8229 - val_loss: 2.2740 - val_accuracy: 0.4375\n",
      "Epoch 350/1000\n",
      "576/576 [==============================] - 0s 65us/step - loss: 0.3372 - accuracy: 0.8177 - val_loss: 2.0996 - val_accuracy: 0.4444\n",
      "Epoch 351/1000\n",
      "576/576 [==============================] - 0s 70us/step - loss: 0.3275 - accuracy: 0.8385 - val_loss: 2.1155 - val_accuracy: 0.4514\n",
      "Epoch 352/1000\n",
      "576/576 [==============================] - 0s 62us/step - loss: 0.3245 - accuracy: 0.8299 - val_loss: 2.2133 - val_accuracy: 0.4514\n",
      "Epoch 353/1000\n",
      "576/576 [==============================] - 0s 69us/step - loss: 0.3461 - accuracy: 0.8194 - val_loss: 2.1676 - val_accuracy: 0.4931\n",
      "Epoch 354/1000\n",
      "576/576 [==============================] - 0s 68us/step - loss: 0.3298 - accuracy: 0.8316 - val_loss: 2.0953 - val_accuracy: 0.4306\n",
      "Epoch 355/1000\n",
      "576/576 [==============================] - 0s 71us/step - loss: 0.3120 - accuracy: 0.8351 - val_loss: 1.9461 - val_accuracy: 0.4514\n",
      "Epoch 356/1000\n",
      "576/576 [==============================] - 0s 64us/step - loss: 0.3092 - accuracy: 0.8438 - val_loss: 2.2343 - val_accuracy: 0.4653\n",
      "Epoch 357/1000\n",
      "576/576 [==============================] - 0s 70us/step - loss: 0.2956 - accuracy: 0.8420 - val_loss: 2.2831 - val_accuracy: 0.4444\n",
      "Epoch 358/1000\n",
      "576/576 [==============================] - 0s 76us/step - loss: 0.3040 - accuracy: 0.8438 - val_loss: 2.2094 - val_accuracy: 0.4653\n",
      "Epoch 359/1000\n",
      "576/576 [==============================] - 0s 77us/step - loss: 0.2946 - accuracy: 0.8472 - val_loss: 2.3059 - val_accuracy: 0.4653\n",
      "Epoch 360/1000\n",
      "576/576 [==============================] - 0s 75us/step - loss: 0.2868 - accuracy: 0.8559 - val_loss: 2.2699 - val_accuracy: 0.4514\n",
      "Epoch 361/1000\n",
      "576/576 [==============================] - 0s 80us/step - loss: 0.3175 - accuracy: 0.8316 - val_loss: 1.9106 - val_accuracy: 0.5000\n",
      "Epoch 362/1000\n",
      "576/576 [==============================] - 0s 66us/step - loss: 0.3184 - accuracy: 0.8264 - val_loss: 2.1032 - val_accuracy: 0.4653\n",
      "Epoch 363/1000\n",
      "576/576 [==============================] - 0s 68us/step - loss: 0.3302 - accuracy: 0.8333 - val_loss: 2.3100 - val_accuracy: 0.4861\n",
      "Epoch 364/1000\n",
      "576/576 [==============================] - 0s 65us/step - loss: 0.3165 - accuracy: 0.8385 - val_loss: 2.2588 - val_accuracy: 0.4514\n",
      "Epoch 365/1000\n",
      "576/576 [==============================] - 0s 64us/step - loss: 0.2995 - accuracy: 0.8490 - val_loss: 2.2417 - val_accuracy: 0.4722\n",
      "Epoch 366/1000\n",
      "576/576 [==============================] - 0s 64us/step - loss: 0.3109 - accuracy: 0.8351 - val_loss: 2.1760 - val_accuracy: 0.4861\n",
      "Epoch 367/1000\n",
      "576/576 [==============================] - 0s 71us/step - loss: 0.3278 - accuracy: 0.8264 - val_loss: 2.1787 - val_accuracy: 0.4792\n",
      "Epoch 368/1000\n",
      "576/576 [==============================] - 0s 74us/step - loss: 0.3321 - accuracy: 0.8177 - val_loss: 1.9755 - val_accuracy: 0.4861\n",
      "Epoch 369/1000\n",
      "576/576 [==============================] - 0s 75us/step - loss: 0.3081 - accuracy: 0.8247 - val_loss: 2.1122 - val_accuracy: 0.4792\n",
      "Epoch 370/1000\n",
      "576/576 [==============================] - 0s 74us/step - loss: 0.3028 - accuracy: 0.8455 - val_loss: 2.2030 - val_accuracy: 0.4583\n",
      "Epoch 371/1000\n",
      "576/576 [==============================] - 0s 65us/step - loss: 0.3004 - accuracy: 0.8455 - val_loss: 2.3129 - val_accuracy: 0.4444\n",
      "Epoch 372/1000\n",
      "576/576 [==============================] - 0s 64us/step - loss: 0.3125 - accuracy: 0.8472 - val_loss: 2.0914 - val_accuracy: 0.4306\n",
      "Epoch 373/1000\n",
      "576/576 [==============================] - 0s 61us/step - loss: 0.2915 - accuracy: 0.8507 - val_loss: 2.1789 - val_accuracy: 0.4861\n",
      "Epoch 374/1000\n",
      "576/576 [==============================] - 0s 65us/step - loss: 0.2816 - accuracy: 0.8472 - val_loss: 2.1185 - val_accuracy: 0.4583\n",
      "Epoch 375/1000\n",
      "576/576 [==============================] - 0s 67us/step - loss: 0.2897 - accuracy: 0.8420 - val_loss: 2.3406 - val_accuracy: 0.5069\n",
      "Epoch 376/1000\n",
      "576/576 [==============================] - 0s 60us/step - loss: 0.2743 - accuracy: 0.8663 - val_loss: 2.1996 - val_accuracy: 0.4514\n",
      "Epoch 377/1000\n",
      "576/576 [==============================] - 0s 65us/step - loss: 0.2728 - accuracy: 0.8576 - val_loss: 2.3082 - val_accuracy: 0.4722\n",
      "Epoch 378/1000\n",
      "576/576 [==============================] - 0s 65us/step - loss: 0.2828 - accuracy: 0.8333 - val_loss: 2.2049 - val_accuracy: 0.4375\n",
      "Epoch 379/1000\n",
      "576/576 [==============================] - 0s 65us/step - loss: 0.2874 - accuracy: 0.8472 - val_loss: 2.1552 - val_accuracy: 0.4653\n",
      "Epoch 380/1000\n",
      "576/576 [==============================] - 0s 65us/step - loss: 0.3581 - accuracy: 0.8160 - val_loss: 2.1833 - val_accuracy: 0.4583\n",
      "Epoch 381/1000\n",
      "576/576 [==============================] - 0s 64us/step - loss: 0.2987 - accuracy: 0.8472 - val_loss: 2.3547 - val_accuracy: 0.4583\n",
      "Epoch 382/1000\n",
      "576/576 [==============================] - 0s 62us/step - loss: 0.2708 - accuracy: 0.8559 - val_loss: 2.2987 - val_accuracy: 0.4514\n",
      "Epoch 383/1000\n",
      "576/576 [==============================] - 0s 66us/step - loss: 0.2559 - accuracy: 0.8594 - val_loss: 2.2180 - val_accuracy: 0.4861\n",
      "Epoch 384/1000\n",
      "576/576 [==============================] - 0s 64us/step - loss: 0.2752 - accuracy: 0.8611 - val_loss: 2.3468 - val_accuracy: 0.4583\n",
      "Epoch 385/1000\n",
      "576/576 [==============================] - 0s 65us/step - loss: 0.2838 - accuracy: 0.8559 - val_loss: 2.3620 - val_accuracy: 0.4861\n",
      "Epoch 386/1000\n",
      "576/576 [==============================] - 0s 64us/step - loss: 0.2769 - accuracy: 0.8628 - val_loss: 2.2720 - val_accuracy: 0.4583\n",
      "Epoch 387/1000\n",
      "576/576 [==============================] - 0s 63us/step - loss: 0.2778 - accuracy: 0.8507 - val_loss: 2.1682 - val_accuracy: 0.4653\n",
      "Epoch 388/1000\n",
      "576/576 [==============================] - 0s 66us/step - loss: 0.2804 - accuracy: 0.8524 - val_loss: 2.2675 - val_accuracy: 0.4514\n",
      "Epoch 389/1000\n",
      "576/576 [==============================] - 0s 68us/step - loss: 0.2820 - accuracy: 0.8733 - val_loss: 2.3892 - val_accuracy: 0.4444\n",
      "Epoch 390/1000\n",
      "576/576 [==============================] - 0s 66us/step - loss: 0.2997 - accuracy: 0.8490 - val_loss: 2.2903 - val_accuracy: 0.4931\n",
      "Epoch 391/1000\n",
      "576/576 [==============================] - 0s 63us/step - loss: 0.3106 - accuracy: 0.8403 - val_loss: 2.2324 - val_accuracy: 0.4653\n",
      "Epoch 392/1000\n",
      "576/576 [==============================] - 0s 62us/step - loss: 0.2626 - accuracy: 0.8663 - val_loss: 2.2722 - val_accuracy: 0.4653\n",
      "Epoch 393/1000\n",
      "576/576 [==============================] - 0s 64us/step - loss: 0.2784 - accuracy: 0.8628 - val_loss: 2.2840 - val_accuracy: 0.4514\n",
      "Epoch 394/1000\n",
      "576/576 [==============================] - 0s 68us/step - loss: 0.2723 - accuracy: 0.8524 - val_loss: 2.2204 - val_accuracy: 0.4792\n",
      "Epoch 395/1000\n",
      "576/576 [==============================] - 0s 65us/step - loss: 0.2539 - accuracy: 0.8750 - val_loss: 2.2972 - val_accuracy: 0.4375\n",
      "Epoch 396/1000\n",
      "576/576 [==============================] - 0s 73us/step - loss: 0.2745 - accuracy: 0.8628 - val_loss: 2.2425 - val_accuracy: 0.4375\n",
      "Epoch 397/1000\n",
      "576/576 [==============================] - 0s 69us/step - loss: 0.2659 - accuracy: 0.8663 - val_loss: 2.2737 - val_accuracy: 0.4653\n",
      "Epoch 398/1000\n",
      "576/576 [==============================] - 0s 70us/step - loss: 0.2611 - accuracy: 0.8698 - val_loss: 2.2951 - val_accuracy: 0.4722\n",
      "Epoch 399/1000\n",
      "576/576 [==============================] - 0s 66us/step - loss: 0.2430 - accuracy: 0.8819 - val_loss: 2.1531 - val_accuracy: 0.4722\n",
      "Epoch 400/1000\n",
      "576/576 [==============================] - 0s 68us/step - loss: 0.2610 - accuracy: 0.8681 - val_loss: 2.1753 - val_accuracy: 0.4583\n",
      "Epoch 401/1000\n",
      "576/576 [==============================] - 0s 67us/step - loss: 0.2735 - accuracy: 0.8594 - val_loss: 2.3282 - val_accuracy: 0.4514\n",
      "Epoch 402/1000\n",
      "576/576 [==============================] - 0s 67us/step - loss: 0.2499 - accuracy: 0.8837 - val_loss: 2.3533 - val_accuracy: 0.4514\n",
      "Epoch 403/1000\n",
      "576/576 [==============================] - 0s 68us/step - loss: 0.2464 - accuracy: 0.8733 - val_loss: 2.2963 - val_accuracy: 0.4722\n",
      "Epoch 404/1000\n",
      "576/576 [==============================] - 0s 71us/step - loss: 0.2630 - accuracy: 0.8698 - val_loss: 2.4705 - val_accuracy: 0.4722\n",
      "Epoch 405/1000\n",
      "576/576 [==============================] - 0s 67us/step - loss: 0.2621 - accuracy: 0.8750 - val_loss: 2.3377 - val_accuracy: 0.4792\n",
      "Epoch 406/1000\n",
      "576/576 [==============================] - 0s 85us/step - loss: 0.2611 - accuracy: 0.8611 - val_loss: 2.3789 - val_accuracy: 0.4931\n",
      "Epoch 407/1000\n",
      "576/576 [==============================] - 0s 85us/step - loss: 0.2475 - accuracy: 0.8698 - val_loss: 2.3653 - val_accuracy: 0.4861\n",
      "Epoch 408/1000\n",
      "576/576 [==============================] - 0s 74us/step - loss: 0.2398 - accuracy: 0.8854 - val_loss: 2.4665 - val_accuracy: 0.4444\n",
      "Epoch 409/1000\n",
      "576/576 [==============================] - 0s 76us/step - loss: 0.2473 - accuracy: 0.8889 - val_loss: 2.4501 - val_accuracy: 0.4792\n",
      "Epoch 410/1000\n",
      "576/576 [==============================] - 0s 72us/step - loss: 0.2463 - accuracy: 0.8854 - val_loss: 2.4178 - val_accuracy: 0.4722\n",
      "Epoch 411/1000\n",
      "576/576 [==============================] - 0s 78us/step - loss: 0.2438 - accuracy: 0.8906 - val_loss: 2.3822 - val_accuracy: 0.4653\n",
      "Epoch 412/1000\n",
      "576/576 [==============================] - 0s 75us/step - loss: 0.2386 - accuracy: 0.8924 - val_loss: 2.4641 - val_accuracy: 0.4792\n",
      "Epoch 413/1000\n",
      "576/576 [==============================] - 0s 75us/step - loss: 0.2662 - accuracy: 0.8646 - val_loss: 2.3788 - val_accuracy: 0.4514\n",
      "Epoch 414/1000\n",
      "576/576 [==============================] - 0s 66us/step - loss: 0.2496 - accuracy: 0.8767 - val_loss: 2.3948 - val_accuracy: 0.4722\n",
      "Epoch 415/1000\n",
      "576/576 [==============================] - 0s 63us/step - loss: 0.2748 - accuracy: 0.8767 - val_loss: 2.5058 - val_accuracy: 0.4583\n",
      "Epoch 416/1000\n",
      "576/576 [==============================] - 0s 66us/step - loss: 0.3058 - accuracy: 0.8385 - val_loss: 2.4309 - val_accuracy: 0.4653\n",
      "Epoch 417/1000\n",
      "576/576 [==============================] - 0s 66us/step - loss: 0.2458 - accuracy: 0.8767 - val_loss: 2.5001 - val_accuracy: 0.4375\n",
      "Epoch 418/1000\n",
      "576/576 [==============================] - 0s 69us/step - loss: 0.2614 - accuracy: 0.8698 - val_loss: 2.3074 - val_accuracy: 0.4792\n",
      "Epoch 419/1000\n",
      "576/576 [==============================] - 0s 70us/step - loss: 0.2531 - accuracy: 0.8646 - val_loss: 2.5016 - val_accuracy: 0.4722\n",
      "Epoch 420/1000\n",
      "576/576 [==============================] - 0s 72us/step - loss: 0.2412 - accuracy: 0.8906 - val_loss: 2.5185 - val_accuracy: 0.4722\n",
      "Epoch 421/1000\n",
      "576/576 [==============================] - 0s 80us/step - loss: 0.2416 - accuracy: 0.8889 - val_loss: 2.4900 - val_accuracy: 0.4514\n",
      "Epoch 422/1000\n",
      "576/576 [==============================] - 0s 70us/step - loss: 0.2270 - accuracy: 0.8906 - val_loss: 2.4839 - val_accuracy: 0.4792\n",
      "Epoch 423/1000\n",
      "576/576 [==============================] - 0s 65us/step - loss: 0.2482 - accuracy: 0.8785 - val_loss: 2.3475 - val_accuracy: 0.4792\n",
      "Epoch 424/1000\n",
      "576/576 [==============================] - 0s 69us/step - loss: 0.2725 - accuracy: 0.8767 - val_loss: 2.4867 - val_accuracy: 0.4653\n",
      "Epoch 425/1000\n",
      "576/576 [==============================] - 0s 65us/step - loss: 0.2951 - accuracy: 0.8663 - val_loss: 2.1817 - val_accuracy: 0.4931\n",
      "Epoch 426/1000\n",
      "576/576 [==============================] - 0s 68us/step - loss: 0.3073 - accuracy: 0.8385 - val_loss: 2.4224 - val_accuracy: 0.4514\n",
      "Epoch 427/1000\n",
      "576/576 [==============================] - 0s 63us/step - loss: 0.2256 - accuracy: 0.8889 - val_loss: 2.3870 - val_accuracy: 0.4653\n",
      "Epoch 428/1000\n",
      "576/576 [==============================] - 0s 69us/step - loss: 0.2389 - accuracy: 0.8889 - val_loss: 2.3468 - val_accuracy: 0.4514\n",
      "Epoch 429/1000\n",
      "576/576 [==============================] - 0s 67us/step - loss: 0.2545 - accuracy: 0.8819 - val_loss: 2.4441 - val_accuracy: 0.4722\n",
      "Epoch 430/1000\n",
      "576/576 [==============================] - 0s 65us/step - loss: 0.2542 - accuracy: 0.8819 - val_loss: 2.3892 - val_accuracy: 0.4653\n",
      "Epoch 431/1000\n",
      "576/576 [==============================] - 0s 74us/step - loss: 0.2366 - accuracy: 0.8941 - val_loss: 2.4855 - val_accuracy: 0.4653\n",
      "Epoch 432/1000\n",
      "576/576 [==============================] - 0s 69us/step - loss: 0.2293 - accuracy: 0.8854 - val_loss: 2.4522 - val_accuracy: 0.4583\n",
      "Epoch 433/1000\n",
      "576/576 [==============================] - 0s 64us/step - loss: 0.2144 - accuracy: 0.9010 - val_loss: 2.5320 - val_accuracy: 0.4653\n",
      "Epoch 434/1000\n",
      "576/576 [==============================] - 0s 70us/step - loss: 0.2224 - accuracy: 0.9028 - val_loss: 2.5280 - val_accuracy: 0.4722\n",
      "Epoch 435/1000\n",
      "576/576 [==============================] - 0s 67us/step - loss: 0.2045 - accuracy: 0.8941 - val_loss: 2.5352 - val_accuracy: 0.4792\n",
      "Epoch 436/1000\n",
      "576/576 [==============================] - 0s 79us/step - loss: 0.1972 - accuracy: 0.9167 - val_loss: 2.4974 - val_accuracy: 0.4722\n",
      "Epoch 437/1000\n",
      "576/576 [==============================] - 0s 68us/step - loss: 0.2053 - accuracy: 0.9149 - val_loss: 2.5476 - val_accuracy: 0.4653\n",
      "Epoch 438/1000\n",
      "576/576 [==============================] - 0s 69us/step - loss: 0.2023 - accuracy: 0.9080 - val_loss: 2.6153 - val_accuracy: 0.4514\n",
      "Epoch 439/1000\n",
      "576/576 [==============================] - 0s 65us/step - loss: 0.1931 - accuracy: 0.9167 - val_loss: 2.5637 - val_accuracy: 0.4583\n",
      "Epoch 440/1000\n",
      "576/576 [==============================] - 0s 65us/step - loss: 0.1929 - accuracy: 0.9149 - val_loss: 2.6579 - val_accuracy: 0.4722\n",
      "Epoch 441/1000\n",
      "576/576 [==============================] - 0s 68us/step - loss: 0.1942 - accuracy: 0.9219 - val_loss: 2.6539 - val_accuracy: 0.4722\n",
      "Epoch 442/1000\n",
      "576/576 [==============================] - 0s 69us/step - loss: 0.1943 - accuracy: 0.9097 - val_loss: 2.6645 - val_accuracy: 0.4583\n",
      "Epoch 443/1000\n",
      "576/576 [==============================] - 0s 67us/step - loss: 0.1829 - accuracy: 0.9201 - val_loss: 2.6024 - val_accuracy: 0.4792\n",
      "Epoch 444/1000\n",
      "576/576 [==============================] - 0s 68us/step - loss: 0.1845 - accuracy: 0.9115 - val_loss: 2.6545 - val_accuracy: 0.4653\n",
      "Epoch 445/1000\n",
      "576/576 [==============================] - 0s 75us/step - loss: 0.1862 - accuracy: 0.9097 - val_loss: 2.6558 - val_accuracy: 0.4514\n",
      "Epoch 446/1000\n",
      "576/576 [==============================] - 0s 65us/step - loss: 0.1817 - accuracy: 0.9167 - val_loss: 2.6419 - val_accuracy: 0.4444\n",
      "Epoch 447/1000\n",
      "576/576 [==============================] - 0s 74us/step - loss: 0.1825 - accuracy: 0.9132 - val_loss: 2.6658 - val_accuracy: 0.4444\n",
      "Epoch 448/1000\n",
      "576/576 [==============================] - 0s 65us/step - loss: 0.1892 - accuracy: 0.9167 - val_loss: 2.7079 - val_accuracy: 0.4722\n",
      "Epoch 449/1000\n",
      "576/576 [==============================] - 0s 71us/step - loss: 0.2500 - accuracy: 0.8941 - val_loss: 2.4305 - val_accuracy: 0.4722\n",
      "Epoch 450/1000\n",
      "576/576 [==============================] - 0s 65us/step - loss: 0.3674 - accuracy: 0.8420 - val_loss: 2.1675 - val_accuracy: 0.4931\n",
      "Epoch 451/1000\n",
      "576/576 [==============================] - 0s 72us/step - loss: 0.3434 - accuracy: 0.8490 - val_loss: 2.1772 - val_accuracy: 0.4514\n",
      "Epoch 452/1000\n",
      "576/576 [==============================] - 0s 64us/step - loss: 0.2368 - accuracy: 0.8924 - val_loss: 2.0591 - val_accuracy: 0.5069\n",
      "Epoch 453/1000\n",
      "576/576 [==============================] - 0s 82us/step - loss: 0.2258 - accuracy: 0.9062 - val_loss: 2.2486 - val_accuracy: 0.4861\n",
      "Epoch 454/1000\n",
      "576/576 [==============================] - 0s 71us/step - loss: 0.2590 - accuracy: 0.8872 - val_loss: 2.2300 - val_accuracy: 0.5000\n",
      "Epoch 455/1000\n",
      "576/576 [==============================] - 0s 69us/step - loss: 0.2074 - accuracy: 0.8993 - val_loss: 2.2994 - val_accuracy: 0.4861\n",
      "Epoch 456/1000\n",
      "576/576 [==============================] - 0s 65us/step - loss: 0.1863 - accuracy: 0.9132 - val_loss: 2.3522 - val_accuracy: 0.4583\n",
      "Epoch 457/1000\n",
      "576/576 [==============================] - 0s 64us/step - loss: 0.1788 - accuracy: 0.9201 - val_loss: 2.4251 - val_accuracy: 0.5069\n",
      "Epoch 458/1000\n",
      "576/576 [==============================] - 0s 71us/step - loss: 0.1757 - accuracy: 0.9184 - val_loss: 2.4857 - val_accuracy: 0.4653\n",
      "Epoch 459/1000\n",
      "576/576 [==============================] - 0s 64us/step - loss: 0.1892 - accuracy: 0.9115 - val_loss: 2.3841 - val_accuracy: 0.4861\n",
      "Epoch 460/1000\n",
      "576/576 [==============================] - 0s 70us/step - loss: 0.2281 - accuracy: 0.8924 - val_loss: 2.3211 - val_accuracy: 0.5000\n",
      "Epoch 461/1000\n",
      "576/576 [==============================] - 0s 68us/step - loss: 0.2241 - accuracy: 0.8993 - val_loss: 2.5913 - val_accuracy: 0.4375\n",
      "Epoch 462/1000\n",
      "576/576 [==============================] - 0s 65us/step - loss: 0.1999 - accuracy: 0.9115 - val_loss: 2.5675 - val_accuracy: 0.4583\n",
      "Epoch 463/1000\n",
      "576/576 [==============================] - 0s 84us/step - loss: 0.2316 - accuracy: 0.8924 - val_loss: 2.5025 - val_accuracy: 0.4583\n",
      "Epoch 464/1000\n",
      "576/576 [==============================] - 0s 74us/step - loss: 0.2476 - accuracy: 0.8924 - val_loss: 2.3468 - val_accuracy: 0.4514\n",
      "Epoch 465/1000\n",
      "576/576 [==============================] - 0s 82us/step - loss: 0.2142 - accuracy: 0.8958 - val_loss: 2.4848 - val_accuracy: 0.4653\n",
      "Epoch 466/1000\n",
      "576/576 [==============================] - 0s 71us/step - loss: 0.2130 - accuracy: 0.9080 - val_loss: 2.5492 - val_accuracy: 0.4583\n",
      "Epoch 467/1000\n",
      "576/576 [==============================] - 0s 71us/step - loss: 0.2036 - accuracy: 0.9062 - val_loss: 2.4334 - val_accuracy: 0.4653\n",
      "Epoch 468/1000\n",
      "576/576 [==============================] - 0s 65us/step - loss: 0.1814 - accuracy: 0.9149 - val_loss: 2.4417 - val_accuracy: 0.4583\n",
      "Epoch 469/1000\n",
      "576/576 [==============================] - 0s 75us/step - loss: 0.1757 - accuracy: 0.9306 - val_loss: 2.5014 - val_accuracy: 0.4931\n",
      "Epoch 470/1000\n",
      "576/576 [==============================] - 0s 73us/step - loss: 0.1809 - accuracy: 0.9149 - val_loss: 2.5668 - val_accuracy: 0.4583\n",
      "Epoch 471/1000\n",
      "576/576 [==============================] - 0s 65us/step - loss: 0.1810 - accuracy: 0.9149 - val_loss: 2.5949 - val_accuracy: 0.4861\n",
      "Epoch 472/1000\n",
      "576/576 [==============================] - 0s 71us/step - loss: 0.1794 - accuracy: 0.9115 - val_loss: 2.6281 - val_accuracy: 0.4236\n",
      "Epoch 473/1000\n",
      "576/576 [==============================] - 0s 65us/step - loss: 0.1873 - accuracy: 0.9132 - val_loss: 2.5106 - val_accuracy: 0.4583\n",
      "Epoch 474/1000\n",
      "576/576 [==============================] - 0s 81us/step - loss: 0.1951 - accuracy: 0.9149 - val_loss: 2.5729 - val_accuracy: 0.4583\n",
      "Epoch 475/1000\n",
      "576/576 [==============================] - 0s 68us/step - loss: 0.2030 - accuracy: 0.9062 - val_loss: 2.4269 - val_accuracy: 0.4583\n",
      "Epoch 476/1000\n",
      "576/576 [==============================] - 0s 77us/step - loss: 0.2344 - accuracy: 0.8837 - val_loss: 2.5448 - val_accuracy: 0.4792\n",
      "Epoch 477/1000\n",
      "576/576 [==============================] - 0s 65us/step - loss: 0.2477 - accuracy: 0.9080 - val_loss: 2.6944 - val_accuracy: 0.4375\n",
      "Epoch 478/1000\n",
      "576/576 [==============================] - 0s 64us/step - loss: 0.2489 - accuracy: 0.9080 - val_loss: 2.4098 - val_accuracy: 0.4583\n",
      "Epoch 479/1000\n",
      "576/576 [==============================] - 0s 73us/step - loss: 0.2396 - accuracy: 0.8854 - val_loss: 2.5785 - val_accuracy: 0.4306\n",
      "Epoch 480/1000\n",
      "576/576 [==============================] - 0s 67us/step - loss: 0.2342 - accuracy: 0.8976 - val_loss: 2.4154 - val_accuracy: 0.4514\n",
      "Epoch 481/1000\n",
      "576/576 [==============================] - 0s 68us/step - loss: 0.2195 - accuracy: 0.8993 - val_loss: 2.4030 - val_accuracy: 0.4514\n",
      "Epoch 482/1000\n",
      "576/576 [==============================] - 0s 69us/step - loss: 0.1924 - accuracy: 0.9167 - val_loss: 2.4436 - val_accuracy: 0.4722\n",
      "Epoch 483/1000\n",
      "576/576 [==============================] - 0s 72us/step - loss: 0.2345 - accuracy: 0.9028 - val_loss: 2.5482 - val_accuracy: 0.4514\n",
      "Epoch 484/1000\n",
      "576/576 [==============================] - 0s 66us/step - loss: 0.2136 - accuracy: 0.9045 - val_loss: 2.5359 - val_accuracy: 0.4722\n",
      "Epoch 485/1000\n",
      "576/576 [==============================] - 0s 71us/step - loss: 0.2464 - accuracy: 0.8854 - val_loss: 2.4404 - val_accuracy: 0.4653\n",
      "Epoch 486/1000\n",
      "576/576 [==============================] - 0s 72us/step - loss: 0.1955 - accuracy: 0.9167 - val_loss: 2.4464 - val_accuracy: 0.4861\n",
      "Epoch 487/1000\n",
      "576/576 [==============================] - 0s 68us/step - loss: 0.1831 - accuracy: 0.9201 - val_loss: 2.4359 - val_accuracy: 0.4722\n",
      "Epoch 488/1000\n",
      "576/576 [==============================] - 0s 67us/step - loss: 0.1656 - accuracy: 0.9236 - val_loss: 2.5274 - val_accuracy: 0.4583\n",
      "Epoch 489/1000\n",
      "576/576 [==============================] - 0s 66us/step - loss: 0.1679 - accuracy: 0.9253 - val_loss: 2.5335 - val_accuracy: 0.4722\n",
      "Epoch 490/1000\n",
      "576/576 [==============================] - 0s 66us/step - loss: 0.1653 - accuracy: 0.9306 - val_loss: 2.5950 - val_accuracy: 0.4722\n",
      "Epoch 491/1000\n",
      "576/576 [==============================] - 0s 65us/step - loss: 0.1506 - accuracy: 0.9306 - val_loss: 2.5110 - val_accuracy: 0.4583\n",
      "Epoch 492/1000\n",
      "576/576 [==============================] - 0s 70us/step - loss: 0.1537 - accuracy: 0.9323 - val_loss: 2.6602 - val_accuracy: 0.4653\n",
      "Epoch 493/1000\n",
      "576/576 [==============================] - 0s 66us/step - loss: 0.1812 - accuracy: 0.9184 - val_loss: 2.5483 - val_accuracy: 0.4722\n",
      "Epoch 494/1000\n",
      "576/576 [==============================] - 0s 75us/step - loss: 0.1982 - accuracy: 0.9062 - val_loss: 2.5342 - val_accuracy: 0.4583\n",
      "Epoch 495/1000\n",
      "576/576 [==============================] - 0s 63us/step - loss: 0.1707 - accuracy: 0.9288 - val_loss: 2.4985 - val_accuracy: 0.4653\n",
      "Epoch 496/1000\n",
      "576/576 [==============================] - 0s 71us/step - loss: 0.2160 - accuracy: 0.8958 - val_loss: 2.4480 - val_accuracy: 0.4375\n",
      "Epoch 497/1000\n",
      "576/576 [==============================] - 0s 65us/step - loss: 0.2352 - accuracy: 0.8889 - val_loss: 2.4599 - val_accuracy: 0.4514\n",
      "Epoch 498/1000\n",
      "576/576 [==============================] - 0s 68us/step - loss: 0.1997 - accuracy: 0.8993 - val_loss: 2.4675 - val_accuracy: 0.4653\n",
      "Epoch 499/1000\n",
      "576/576 [==============================] - 0s 64us/step - loss: 0.1774 - accuracy: 0.9167 - val_loss: 2.5986 - val_accuracy: 0.4306\n",
      "Epoch 500/1000\n",
      "576/576 [==============================] - 0s 75us/step - loss: 0.1819 - accuracy: 0.9271 - val_loss: 2.5161 - val_accuracy: 0.4792\n",
      "Epoch 501/1000\n",
      "576/576 [==============================] - 0s 63us/step - loss: 0.1856 - accuracy: 0.9149 - val_loss: 2.5826 - val_accuracy: 0.4514\n",
      "Epoch 502/1000\n",
      "576/576 [==============================] - 0s 77us/step - loss: 0.1688 - accuracy: 0.9201 - val_loss: 2.4549 - val_accuracy: 0.4653\n",
      "Epoch 503/1000\n",
      "576/576 [==============================] - 0s 70us/step - loss: 0.1556 - accuracy: 0.9306 - val_loss: 2.5771 - val_accuracy: 0.4653\n",
      "Epoch 504/1000\n",
      "576/576 [==============================] - 0s 72us/step - loss: 0.1683 - accuracy: 0.9236 - val_loss: 2.6577 - val_accuracy: 0.4444\n",
      "Epoch 505/1000\n",
      "576/576 [==============================] - 0s 64us/step - loss: 0.1646 - accuracy: 0.9236 - val_loss: 2.5954 - val_accuracy: 0.4653\n",
      "Epoch 506/1000\n",
      "576/576 [==============================] - 0s 69us/step - loss: 0.1675 - accuracy: 0.9201 - val_loss: 2.5532 - val_accuracy: 0.4722\n",
      "Epoch 507/1000\n",
      "576/576 [==============================] - 0s 65us/step - loss: 0.1730 - accuracy: 0.9236 - val_loss: 2.7463 - val_accuracy: 0.4444\n",
      "Epoch 508/1000\n",
      "576/576 [==============================] - 0s 71us/step - loss: 0.2061 - accuracy: 0.9045 - val_loss: 2.6020 - val_accuracy: 0.4306\n",
      "Epoch 509/1000\n",
      "576/576 [==============================] - 0s 65us/step - loss: 0.1944 - accuracy: 0.9010 - val_loss: 2.4477 - val_accuracy: 0.4861\n",
      "Epoch 510/1000\n",
      "576/576 [==============================] - 0s 68us/step - loss: 0.1901 - accuracy: 0.9062 - val_loss: 2.4952 - val_accuracy: 0.4722\n",
      "Epoch 511/1000\n",
      "576/576 [==============================] - 0s 71us/step - loss: 0.1603 - accuracy: 0.9271 - val_loss: 2.5170 - val_accuracy: 0.4583\n",
      "Epoch 512/1000\n",
      "576/576 [==============================] - 0s 62us/step - loss: 0.1536 - accuracy: 0.9323 - val_loss: 2.5520 - val_accuracy: 0.4375\n",
      "Epoch 513/1000\n",
      "576/576 [==============================] - 0s 68us/step - loss: 0.1589 - accuracy: 0.9253 - val_loss: 2.5807 - val_accuracy: 0.4653\n",
      "Epoch 514/1000\n",
      "576/576 [==============================] - 0s 65us/step - loss: 0.1422 - accuracy: 0.9375 - val_loss: 2.5907 - val_accuracy: 0.4653\n",
      "Epoch 515/1000\n",
      "576/576 [==============================] - 0s 66us/step - loss: 0.1393 - accuracy: 0.9392 - val_loss: 2.6460 - val_accuracy: 0.4444\n",
      "Epoch 516/1000\n",
      "576/576 [==============================] - 0s 67us/step - loss: 0.1316 - accuracy: 0.9340 - val_loss: 2.6674 - val_accuracy: 0.4583\n",
      "Epoch 517/1000\n",
      "576/576 [==============================] - 0s 70us/step - loss: 0.1257 - accuracy: 0.9462 - val_loss: 2.6641 - val_accuracy: 0.4444\n",
      "Epoch 518/1000\n",
      "576/576 [==============================] - 0s 86us/step - loss: 0.1225 - accuracy: 0.9531 - val_loss: 2.6676 - val_accuracy: 0.4444\n",
      "Epoch 519/1000\n",
      "576/576 [==============================] - 0s 70us/step - loss: 0.1244 - accuracy: 0.9444 - val_loss: 2.7038 - val_accuracy: 0.4583\n",
      "Epoch 520/1000\n",
      "576/576 [==============================] - 0s 66us/step - loss: 0.1309 - accuracy: 0.9410 - val_loss: 2.6871 - val_accuracy: 0.4653\n",
      "Epoch 521/1000\n",
      "576/576 [==============================] - 0s 71us/step - loss: 0.1297 - accuracy: 0.9444 - val_loss: 2.7961 - val_accuracy: 0.4444\n",
      "Epoch 522/1000\n",
      "576/576 [==============================] - 0s 64us/step - loss: 0.1340 - accuracy: 0.9410 - val_loss: 2.6348 - val_accuracy: 0.4653\n",
      "Epoch 523/1000\n",
      "576/576 [==============================] - 0s 64us/step - loss: 0.1262 - accuracy: 0.9392 - val_loss: 2.7515 - val_accuracy: 0.4444\n",
      "Epoch 524/1000\n",
      "576/576 [==============================] - 0s 72us/step - loss: 0.1302 - accuracy: 0.9392 - val_loss: 2.6767 - val_accuracy: 0.4583\n",
      "Epoch 525/1000\n",
      "576/576 [==============================] - 0s 68us/step - loss: 0.1430 - accuracy: 0.9392 - val_loss: 2.5864 - val_accuracy: 0.4792\n",
      "Epoch 526/1000\n",
      "576/576 [==============================] - 0s 69us/step - loss: 0.1562 - accuracy: 0.9288 - val_loss: 2.7983 - val_accuracy: 0.4653\n",
      "Epoch 527/1000\n",
      "576/576 [==============================] - 0s 68us/step - loss: 0.1987 - accuracy: 0.9115 - val_loss: 2.6576 - val_accuracy: 0.4583\n",
      "Epoch 528/1000\n",
      "576/576 [==============================] - 0s 74us/step - loss: 0.1686 - accuracy: 0.9253 - val_loss: 2.5396 - val_accuracy: 0.4792\n",
      "Epoch 529/1000\n",
      "576/576 [==============================] - 0s 65us/step - loss: 0.1518 - accuracy: 0.9323 - val_loss: 2.5755 - val_accuracy: 0.4653\n",
      "Epoch 530/1000\n",
      "576/576 [==============================] - 0s 71us/step - loss: 0.1971 - accuracy: 0.9167 - val_loss: 2.5093 - val_accuracy: 0.4514\n",
      "Epoch 531/1000\n",
      "576/576 [==============================] - 0s 65us/step - loss: 0.2368 - accuracy: 0.8906 - val_loss: 2.6699 - val_accuracy: 0.4444\n",
      "Epoch 532/1000\n",
      "576/576 [==============================] - 0s 70us/step - loss: 0.1811 - accuracy: 0.9097 - val_loss: 2.7082 - val_accuracy: 0.4306\n",
      "Epoch 533/1000\n",
      "576/576 [==============================] - 0s 76us/step - loss: 0.1802 - accuracy: 0.9149 - val_loss: 2.6109 - val_accuracy: 0.4583\n",
      "Epoch 534/1000\n",
      "576/576 [==============================] - 0s 71us/step - loss: 0.1867 - accuracy: 0.9167 - val_loss: 2.5195 - val_accuracy: 0.4722\n",
      "Epoch 535/1000\n",
      "576/576 [==============================] - 0s 67us/step - loss: 0.1637 - accuracy: 0.9288 - val_loss: 2.4859 - val_accuracy: 0.4583\n",
      "Epoch 536/1000\n",
      "576/576 [==============================] - 0s 71us/step - loss: 0.1384 - accuracy: 0.9392 - val_loss: 2.6351 - val_accuracy: 0.4444\n",
      "Epoch 537/1000\n",
      "576/576 [==============================] - 0s 73us/step - loss: 0.1238 - accuracy: 0.9514 - val_loss: 2.5710 - val_accuracy: 0.4444\n",
      "Epoch 538/1000\n",
      "576/576 [==============================] - 0s 80us/step - loss: 0.1219 - accuracy: 0.9462 - val_loss: 2.5717 - val_accuracy: 0.4514\n",
      "Epoch 539/1000\n",
      "576/576 [==============================] - 0s 62us/step - loss: 0.1338 - accuracy: 0.9392 - val_loss: 2.6132 - val_accuracy: 0.4375\n",
      "Epoch 540/1000\n",
      "576/576 [==============================] - 0s 69us/step - loss: 0.1316 - accuracy: 0.9392 - val_loss: 2.7307 - val_accuracy: 0.4514\n",
      "Epoch 541/1000\n",
      "576/576 [==============================] - 0s 65us/step - loss: 0.1229 - accuracy: 0.9427 - val_loss: 2.7770 - val_accuracy: 0.4375\n",
      "Epoch 542/1000\n",
      "576/576 [==============================] - 0s 68us/step - loss: 0.1172 - accuracy: 0.9566 - val_loss: 2.6399 - val_accuracy: 0.4375\n",
      "Epoch 543/1000\n",
      "576/576 [==============================] - 0s 73us/step - loss: 0.1488 - accuracy: 0.9288 - val_loss: 2.8766 - val_accuracy: 0.4444\n",
      "Epoch 544/1000\n",
      "576/576 [==============================] - 0s 65us/step - loss: 0.1576 - accuracy: 0.9288 - val_loss: 2.8286 - val_accuracy: 0.4444\n",
      "Epoch 545/1000\n",
      "576/576 [==============================] - 0s 69us/step - loss: 0.1463 - accuracy: 0.9358 - val_loss: 2.7967 - val_accuracy: 0.4444\n",
      "Epoch 546/1000\n",
      "576/576 [==============================] - 0s 65us/step - loss: 0.1358 - accuracy: 0.9375 - val_loss: 2.8654 - val_accuracy: 0.4514\n",
      "Epoch 547/1000\n",
      "576/576 [==============================] - 0s 71us/step - loss: 0.2064 - accuracy: 0.9062 - val_loss: 2.6022 - val_accuracy: 0.4583\n",
      "Epoch 548/1000\n",
      "576/576 [==============================] - 0s 71us/step - loss: 0.1332 - accuracy: 0.9410 - val_loss: 2.7007 - val_accuracy: 0.4514\n",
      "Epoch 549/1000\n",
      "576/576 [==============================] - 0s 73us/step - loss: 0.1594 - accuracy: 0.9253 - val_loss: 2.6506 - val_accuracy: 0.4722\n",
      "Epoch 550/1000\n",
      "576/576 [==============================] - 0s 70us/step - loss: 0.1594 - accuracy: 0.9410 - val_loss: 2.4902 - val_accuracy: 0.4861\n",
      "Epoch 551/1000\n",
      "576/576 [==============================] - 0s 64us/step - loss: 0.1283 - accuracy: 0.9444 - val_loss: 2.6945 - val_accuracy: 0.4792\n",
      "Epoch 552/1000\n",
      "576/576 [==============================] - 0s 69us/step - loss: 0.1278 - accuracy: 0.9410 - val_loss: 2.8105 - val_accuracy: 0.4444\n",
      "Epoch 553/1000\n",
      "576/576 [==============================] - 0s 60us/step - loss: 0.1158 - accuracy: 0.9531 - val_loss: 2.6718 - val_accuracy: 0.4722\n",
      "Epoch 554/1000\n",
      "576/576 [==============================] - 0s 68us/step - loss: 0.1279 - accuracy: 0.9392 - val_loss: 2.7490 - val_accuracy: 0.4444\n",
      "Epoch 555/1000\n",
      "576/576 [==============================] - 0s 67us/step - loss: 0.1351 - accuracy: 0.9392 - val_loss: 2.8266 - val_accuracy: 0.4583\n",
      "Epoch 556/1000\n",
      "576/576 [==============================] - 0s 68us/step - loss: 0.1153 - accuracy: 0.9497 - val_loss: 2.8775 - val_accuracy: 0.4444\n",
      "Epoch 557/1000\n",
      "576/576 [==============================] - 0s 68us/step - loss: 0.1179 - accuracy: 0.9497 - val_loss: 2.8648 - val_accuracy: 0.4306\n",
      "Epoch 558/1000\n",
      "576/576 [==============================] - 0s 68us/step - loss: 0.1117 - accuracy: 0.9549 - val_loss: 2.9117 - val_accuracy: 0.4375\n",
      "Epoch 559/1000\n",
      "576/576 [==============================] - 0s 68us/step - loss: 0.1233 - accuracy: 0.9462 - val_loss: 2.7785 - val_accuracy: 0.4375\n",
      "Epoch 560/1000\n",
      "576/576 [==============================] - 0s 66us/step - loss: 0.1119 - accuracy: 0.9462 - val_loss: 2.8691 - val_accuracy: 0.4375\n",
      "Epoch 561/1000\n",
      "576/576 [==============================] - 0s 64us/step - loss: 0.1002 - accuracy: 0.9531 - val_loss: 2.9387 - val_accuracy: 0.4375\n",
      "Epoch 562/1000\n",
      "576/576 [==============================] - 0s 69us/step - loss: 0.1185 - accuracy: 0.9410 - val_loss: 3.0344 - val_accuracy: 0.4444\n",
      "Epoch 563/1000\n",
      "576/576 [==============================] - 0s 77us/step - loss: 0.1352 - accuracy: 0.9358 - val_loss: 2.9913 - val_accuracy: 0.4514\n",
      "Epoch 564/1000\n",
      "576/576 [==============================] - 0s 67us/step - loss: 0.1451 - accuracy: 0.9306 - val_loss: 2.9642 - val_accuracy: 0.4514\n",
      "Epoch 565/1000\n",
      "576/576 [==============================] - 0s 69us/step - loss: 0.1435 - accuracy: 0.9427 - val_loss: 2.9057 - val_accuracy: 0.4931\n",
      "Epoch 566/1000\n",
      "576/576 [==============================] - 0s 79us/step - loss: 0.1578 - accuracy: 0.9323 - val_loss: 2.8066 - val_accuracy: 0.4861\n",
      "Epoch 567/1000\n",
      "576/576 [==============================] - 0s 80us/step - loss: 0.2370 - accuracy: 0.9080 - val_loss: 3.0605 - val_accuracy: 0.4514\n",
      "Epoch 568/1000\n",
      "576/576 [==============================] - 0s 69us/step - loss: 0.1648 - accuracy: 0.9201 - val_loss: 2.7699 - val_accuracy: 0.4722\n",
      "Epoch 569/1000\n",
      "576/576 [==============================] - 0s 66us/step - loss: 0.2051 - accuracy: 0.9167 - val_loss: 2.8948 - val_accuracy: 0.4653\n",
      "Epoch 570/1000\n",
      "576/576 [==============================] - 0s 65us/step - loss: 0.1264 - accuracy: 0.9497 - val_loss: 2.6489 - val_accuracy: 0.4722\n",
      "Epoch 571/1000\n",
      "576/576 [==============================] - 0s 71us/step - loss: 0.1239 - accuracy: 0.9462 - val_loss: 2.6338 - val_accuracy: 0.4375\n",
      "Epoch 572/1000\n",
      "576/576 [==============================] - 0s 73us/step - loss: 0.1016 - accuracy: 0.9514 - val_loss: 2.6291 - val_accuracy: 0.4583\n",
      "Epoch 573/1000\n",
      "576/576 [==============================] - 0s 81us/step - loss: 0.0915 - accuracy: 0.9601 - val_loss: 2.7401 - val_accuracy: 0.4653\n",
      "Epoch 574/1000\n",
      "576/576 [==============================] - 0s 73us/step - loss: 0.0972 - accuracy: 0.9566 - val_loss: 2.7615 - val_accuracy: 0.4653\n",
      "Epoch 575/1000\n",
      "576/576 [==============================] - 0s 70us/step - loss: 0.0884 - accuracy: 0.9583 - val_loss: 2.7655 - val_accuracy: 0.4375\n",
      "Epoch 576/1000\n",
      "576/576 [==============================] - 0s 69us/step - loss: 0.0925 - accuracy: 0.9635 - val_loss: 2.8108 - val_accuracy: 0.4792\n",
      "Epoch 577/1000\n",
      "576/576 [==============================] - 0s 64us/step - loss: 0.0917 - accuracy: 0.9601 - val_loss: 2.8522 - val_accuracy: 0.4583\n",
      "Epoch 578/1000\n",
      "576/576 [==============================] - 0s 68us/step - loss: 0.0945 - accuracy: 0.9601 - val_loss: 2.9500 - val_accuracy: 0.4653\n",
      "Epoch 579/1000\n",
      "576/576 [==============================] - 0s 63us/step - loss: 0.1355 - accuracy: 0.9306 - val_loss: 2.8568 - val_accuracy: 0.4792\n",
      "Epoch 580/1000\n",
      "576/576 [==============================] - 0s 75us/step - loss: 0.2355 - accuracy: 0.8976 - val_loss: 2.8661 - val_accuracy: 0.4722\n",
      "Epoch 581/1000\n",
      "576/576 [==============================] - 0s 73us/step - loss: 0.2342 - accuracy: 0.9132 - val_loss: 2.7610 - val_accuracy: 0.4444\n",
      "Epoch 582/1000\n",
      "576/576 [==============================] - 0s 66us/step - loss: 0.2369 - accuracy: 0.8906 - val_loss: 2.5733 - val_accuracy: 0.4444\n",
      "Epoch 583/1000\n",
      "576/576 [==============================] - 0s 80us/step - loss: 0.1825 - accuracy: 0.9132 - val_loss: 2.5880 - val_accuracy: 0.4722\n",
      "Epoch 584/1000\n",
      "576/576 [==============================] - 0s 66us/step - loss: 0.1402 - accuracy: 0.9392 - val_loss: 2.5439 - val_accuracy: 0.4722\n",
      "Epoch 585/1000\n",
      "576/576 [==============================] - 0s 73us/step - loss: 0.1132 - accuracy: 0.9462 - val_loss: 2.8101 - val_accuracy: 0.4444\n",
      "Epoch 586/1000\n",
      "576/576 [==============================] - 0s 66us/step - loss: 0.1213 - accuracy: 0.9410 - val_loss: 2.6681 - val_accuracy: 0.4931\n",
      "Epoch 587/1000\n",
      "576/576 [==============================] - 0s 72us/step - loss: 0.1461 - accuracy: 0.9410 - val_loss: 2.7184 - val_accuracy: 0.4861\n",
      "Epoch 588/1000\n",
      "576/576 [==============================] - 0s 66us/step - loss: 0.2055 - accuracy: 0.9132 - val_loss: 2.5680 - val_accuracy: 0.4792\n",
      "Epoch 589/1000\n",
      "576/576 [==============================] - 0s 64us/step - loss: 0.1227 - accuracy: 0.9514 - val_loss: 2.7604 - val_accuracy: 0.4583\n",
      "Epoch 590/1000\n",
      "576/576 [==============================] - 0s 69us/step - loss: 0.1162 - accuracy: 0.9531 - val_loss: 2.7648 - val_accuracy: 0.4722\n",
      "Epoch 591/1000\n",
      "576/576 [==============================] - 0s 80us/step - loss: 0.1151 - accuracy: 0.9531 - val_loss: 2.8572 - val_accuracy: 0.4375\n",
      "Epoch 592/1000\n",
      "576/576 [==============================] - 0s 74us/step - loss: 0.1116 - accuracy: 0.9514 - val_loss: 2.7737 - val_accuracy: 0.4514\n",
      "Epoch 593/1000\n",
      "576/576 [==============================] - 0s 65us/step - loss: 0.1165 - accuracy: 0.9514 - val_loss: 2.8884 - val_accuracy: 0.4306\n",
      "Epoch 594/1000\n",
      "576/576 [==============================] - 0s 65us/step - loss: 0.1050 - accuracy: 0.9514 - val_loss: 2.8809 - val_accuracy: 0.4444\n",
      "Epoch 595/1000\n",
      "576/576 [==============================] - 0s 67us/step - loss: 0.0914 - accuracy: 0.9601 - val_loss: 2.8248 - val_accuracy: 0.4583\n",
      "Epoch 596/1000\n",
      "576/576 [==============================] - 0s 64us/step - loss: 0.0887 - accuracy: 0.9583 - val_loss: 2.9299 - val_accuracy: 0.4653\n",
      "Epoch 597/1000\n",
      "576/576 [==============================] - 0s 64us/step - loss: 0.0919 - accuracy: 0.9601 - val_loss: 2.9343 - val_accuracy: 0.4375\n",
      "Epoch 598/1000\n",
      "576/576 [==============================] - 0s 70us/step - loss: 0.0845 - accuracy: 0.9618 - val_loss: 2.9073 - val_accuracy: 0.4583\n",
      "Epoch 599/1000\n",
      "576/576 [==============================] - 0s 67us/step - loss: 0.1163 - accuracy: 0.9462 - val_loss: 2.8886 - val_accuracy: 0.4653\n",
      "Epoch 600/1000\n",
      "576/576 [==============================] - 0s 68us/step - loss: 0.1193 - accuracy: 0.9392 - val_loss: 3.0015 - val_accuracy: 0.4514\n",
      "Epoch 601/1000\n",
      "576/576 [==============================] - 0s 67us/step - loss: 0.0979 - accuracy: 0.9514 - val_loss: 3.0248 - val_accuracy: 0.4583\n",
      "Epoch 602/1000\n",
      "576/576 [==============================] - 0s 68us/step - loss: 0.1127 - accuracy: 0.9427 - val_loss: 3.0292 - val_accuracy: 0.4653\n",
      "Epoch 603/1000\n",
      "576/576 [==============================] - 0s 76us/step - loss: 0.1107 - accuracy: 0.9479 - val_loss: 3.0008 - val_accuracy: 0.4653\n",
      "Epoch 604/1000\n",
      "576/576 [==============================] - 0s 74us/step - loss: 0.1221 - accuracy: 0.9410 - val_loss: 3.0435 - val_accuracy: 0.4375\n",
      "Epoch 605/1000\n",
      "576/576 [==============================] - 0s 64us/step - loss: 0.1067 - accuracy: 0.9514 - val_loss: 3.0945 - val_accuracy: 0.4583\n",
      "Epoch 606/1000\n",
      "576/576 [==============================] - 0s 71us/step - loss: 0.0888 - accuracy: 0.9618 - val_loss: 3.0293 - val_accuracy: 0.4722\n",
      "Epoch 607/1000\n",
      "576/576 [==============================] - 0s 69us/step - loss: 0.0950 - accuracy: 0.9514 - val_loss: 3.1119 - val_accuracy: 0.4653\n",
      "Epoch 608/1000\n",
      "576/576 [==============================] - 0s 62us/step - loss: 0.0981 - accuracy: 0.9514 - val_loss: 3.0592 - val_accuracy: 0.4306\n",
      "Epoch 609/1000\n",
      "576/576 [==============================] - 0s 75us/step - loss: 0.1577 - accuracy: 0.9375 - val_loss: 3.2075 - val_accuracy: 0.4514\n",
      "Epoch 610/1000\n",
      "576/576 [==============================] - 0s 65us/step - loss: 0.1768 - accuracy: 0.9149 - val_loss: 2.9999 - val_accuracy: 0.4236\n",
      "Epoch 611/1000\n",
      "576/576 [==============================] - 0s 83us/step - loss: 0.2163 - accuracy: 0.9045 - val_loss: 3.0504 - val_accuracy: 0.4444\n",
      "Epoch 612/1000\n",
      "576/576 [==============================] - 0s 66us/step - loss: 0.1603 - accuracy: 0.9375 - val_loss: 2.8632 - val_accuracy: 0.4583\n",
      "Epoch 613/1000\n",
      "576/576 [==============================] - 0s 64us/step - loss: 0.1338 - accuracy: 0.9427 - val_loss: 2.9651 - val_accuracy: 0.4583\n",
      "Epoch 614/1000\n",
      "576/576 [==============================] - 0s 67us/step - loss: 0.1155 - accuracy: 0.9479 - val_loss: 2.9002 - val_accuracy: 0.4306\n",
      "Epoch 615/1000\n",
      "576/576 [==============================] - 0s 65us/step - loss: 0.1016 - accuracy: 0.9462 - val_loss: 2.8997 - val_accuracy: 0.4583\n",
      "Epoch 616/1000\n",
      "576/576 [==============================] - 0s 65us/step - loss: 0.0993 - accuracy: 0.9618 - val_loss: 2.9975 - val_accuracy: 0.4514\n",
      "Epoch 617/1000\n",
      "576/576 [==============================] - 0s 67us/step - loss: 0.0927 - accuracy: 0.9653 - val_loss: 2.9244 - val_accuracy: 0.4514\n",
      "Epoch 618/1000\n",
      "576/576 [==============================] - 0s 68us/step - loss: 0.0944 - accuracy: 0.9531 - val_loss: 2.9748 - val_accuracy: 0.4444\n",
      "Epoch 619/1000\n",
      "576/576 [==============================] - 0s 95us/step - loss: 0.1582 - accuracy: 0.9375 - val_loss: 2.9320 - val_accuracy: 0.4375\n",
      "Epoch 620/1000\n",
      "576/576 [==============================] - 0s 77us/step - loss: 0.1576 - accuracy: 0.9253 - val_loss: 2.8723 - val_accuracy: 0.4583\n",
      "Epoch 621/1000\n",
      "576/576 [==============================] - 0s 68us/step - loss: 0.1506 - accuracy: 0.9323 - val_loss: 2.7282 - val_accuracy: 0.4444\n",
      "Epoch 622/1000\n",
      "576/576 [==============================] - 0s 66us/step - loss: 0.0930 - accuracy: 0.9566 - val_loss: 2.7082 - val_accuracy: 0.4306\n",
      "Epoch 623/1000\n",
      "576/576 [==============================] - 0s 69us/step - loss: 0.0899 - accuracy: 0.9583 - val_loss: 2.8784 - val_accuracy: 0.4653\n",
      "Epoch 624/1000\n",
      "576/576 [==============================] - 0s 65us/step - loss: 0.0773 - accuracy: 0.9670 - val_loss: 2.8721 - val_accuracy: 0.4583\n",
      "Epoch 625/1000\n",
      "576/576 [==============================] - 0s 64us/step - loss: 0.0824 - accuracy: 0.9653 - val_loss: 2.8538 - val_accuracy: 0.4514\n",
      "Epoch 626/1000\n",
      "576/576 [==============================] - 0s 68us/step - loss: 0.0804 - accuracy: 0.9601 - val_loss: 2.8651 - val_accuracy: 0.4583\n",
      "Epoch 627/1000\n",
      "576/576 [==============================] - 0s 67us/step - loss: 0.0811 - accuracy: 0.9618 - val_loss: 2.9284 - val_accuracy: 0.4583\n",
      "Epoch 628/1000\n",
      "576/576 [==============================] - 0s 72us/step - loss: 0.0909 - accuracy: 0.9635 - val_loss: 3.1555 - val_accuracy: 0.4792\n",
      "Epoch 629/1000\n",
      "576/576 [==============================] - 0s 69us/step - loss: 0.1261 - accuracy: 0.9410 - val_loss: 2.9721 - val_accuracy: 0.4375\n",
      "Epoch 630/1000\n",
      "576/576 [==============================] - 0s 65us/step - loss: 0.1647 - accuracy: 0.9306 - val_loss: 2.6430 - val_accuracy: 0.5069\n",
      "Epoch 631/1000\n",
      "576/576 [==============================] - 0s 76us/step - loss: 0.1884 - accuracy: 0.9184 - val_loss: 2.6721 - val_accuracy: 0.4792\n",
      "Epoch 632/1000\n",
      "576/576 [==============================] - 0s 67us/step - loss: 0.1527 - accuracy: 0.9288 - val_loss: 2.8489 - val_accuracy: 0.4514\n",
      "Epoch 633/1000\n",
      "576/576 [==============================] - 0s 70us/step - loss: 0.1259 - accuracy: 0.9358 - val_loss: 2.7307 - val_accuracy: 0.4514\n",
      "Epoch 634/1000\n",
      "576/576 [==============================] - 0s 75us/step - loss: 0.0920 - accuracy: 0.9653 - val_loss: 2.7693 - val_accuracy: 0.4792\n",
      "Epoch 635/1000\n",
      "576/576 [==============================] - 0s 73us/step - loss: 0.1093 - accuracy: 0.9566 - val_loss: 2.7595 - val_accuracy: 0.4653\n",
      "Epoch 636/1000\n",
      "576/576 [==============================] - 0s 74us/step - loss: 0.0877 - accuracy: 0.9635 - val_loss: 2.8757 - val_accuracy: 0.4653\n",
      "Epoch 637/1000\n",
      "576/576 [==============================] - 0s 70us/step - loss: 0.0747 - accuracy: 0.9670 - val_loss: 3.0564 - val_accuracy: 0.4653\n",
      "Epoch 638/1000\n",
      "576/576 [==============================] - 0s 70us/step - loss: 0.0796 - accuracy: 0.9670 - val_loss: 2.9606 - val_accuracy: 0.4653\n",
      "Epoch 639/1000\n",
      "576/576 [==============================] - 0s 66us/step - loss: 0.0726 - accuracy: 0.9653 - val_loss: 3.0305 - val_accuracy: 0.4583\n",
      "Epoch 640/1000\n",
      "576/576 [==============================] - 0s 64us/step - loss: 0.0739 - accuracy: 0.9653 - val_loss: 3.0072 - val_accuracy: 0.4653\n",
      "Epoch 641/1000\n",
      "576/576 [==============================] - 0s 81us/step - loss: 0.0643 - accuracy: 0.9722 - val_loss: 3.0963 - val_accuracy: 0.4583\n",
      "Epoch 642/1000\n",
      "576/576 [==============================] - 0s 71us/step - loss: 0.0692 - accuracy: 0.9670 - val_loss: 3.0499 - val_accuracy: 0.4653\n",
      "Epoch 643/1000\n",
      "576/576 [==============================] - 0s 66us/step - loss: 0.0807 - accuracy: 0.9653 - val_loss: 3.1234 - val_accuracy: 0.4722\n",
      "Epoch 644/1000\n",
      "576/576 [==============================] - 0s 68us/step - loss: 0.0780 - accuracy: 0.9618 - val_loss: 3.1335 - val_accuracy: 0.4722\n",
      "Epoch 645/1000\n",
      "576/576 [==============================] - 0s 64us/step - loss: 0.0729 - accuracy: 0.9653 - val_loss: 3.1678 - val_accuracy: 0.4792\n",
      "Epoch 646/1000\n",
      "576/576 [==============================] - 0s 65us/step - loss: 0.0921 - accuracy: 0.9635 - val_loss: 3.2082 - val_accuracy: 0.4861\n",
      "Epoch 647/1000\n",
      "576/576 [==============================] - 0s 68us/step - loss: 0.1319 - accuracy: 0.9462 - val_loss: 3.1564 - val_accuracy: 0.4722\n",
      "Epoch 648/1000\n",
      "576/576 [==============================] - 0s 64us/step - loss: 0.0974 - accuracy: 0.9514 - val_loss: 3.2699 - val_accuracy: 0.4583\n",
      "Epoch 649/1000\n",
      "576/576 [==============================] - 0s 67us/step - loss: 0.0880 - accuracy: 0.9618 - val_loss: 3.2791 - val_accuracy: 0.4444\n",
      "Epoch 650/1000\n",
      "576/576 [==============================] - 0s 64us/step - loss: 0.0985 - accuracy: 0.9566 - val_loss: 3.3987 - val_accuracy: 0.4653\n",
      "Epoch 651/1000\n",
      "576/576 [==============================] - 0s 73us/step - loss: 0.0926 - accuracy: 0.9549 - val_loss: 3.1882 - val_accuracy: 0.4653\n",
      "Epoch 652/1000\n",
      "576/576 [==============================] - 0s 67us/step - loss: 0.0841 - accuracy: 0.9635 - val_loss: 3.1074 - val_accuracy: 0.4583\n",
      "Epoch 653/1000\n",
      "576/576 [==============================] - 0s 71us/step - loss: 0.0761 - accuracy: 0.9653 - val_loss: 3.1142 - val_accuracy: 0.4722\n",
      "Epoch 654/1000\n",
      "576/576 [==============================] - 0s 60us/step - loss: 0.0836 - accuracy: 0.9653 - val_loss: 3.3055 - val_accuracy: 0.4514\n",
      "Epoch 655/1000\n",
      "576/576 [==============================] - 0s 76us/step - loss: 0.1053 - accuracy: 0.9566 - val_loss: 3.1315 - val_accuracy: 0.4444\n",
      "Epoch 656/1000\n",
      "576/576 [==============================] - 0s 74us/step - loss: 0.0895 - accuracy: 0.9549 - val_loss: 3.2205 - val_accuracy: 0.4514\n",
      "Epoch 657/1000\n",
      "576/576 [==============================] - 0s 68us/step - loss: 0.0850 - accuracy: 0.9531 - val_loss: 3.2560 - val_accuracy: 0.4375\n",
      "Epoch 658/1000\n",
      "576/576 [==============================] - 0s 65us/step - loss: 0.0757 - accuracy: 0.9635 - val_loss: 3.3467 - val_accuracy: 0.4792\n",
      "Epoch 659/1000\n",
      "576/576 [==============================] - 0s 72us/step - loss: 0.0899 - accuracy: 0.9566 - val_loss: 3.2601 - val_accuracy: 0.4514\n",
      "Epoch 660/1000\n",
      "576/576 [==============================] - 0s 65us/step - loss: 0.0701 - accuracy: 0.9653 - val_loss: 3.3108 - val_accuracy: 0.4722\n",
      "Epoch 661/1000\n",
      "576/576 [==============================] - 0s 73us/step - loss: 0.0701 - accuracy: 0.9688 - val_loss: 3.1950 - val_accuracy: 0.4931\n",
      "Epoch 662/1000\n",
      "576/576 [==============================] - 0s 65us/step - loss: 0.1132 - accuracy: 0.9566 - val_loss: 3.3909 - val_accuracy: 0.4792\n",
      "Epoch 663/1000\n",
      "576/576 [==============================] - 0s 67us/step - loss: 0.0897 - accuracy: 0.9531 - val_loss: 3.2351 - val_accuracy: 0.4514\n",
      "Epoch 664/1000\n",
      "576/576 [==============================] - 0s 65us/step - loss: 0.0865 - accuracy: 0.9653 - val_loss: 3.1377 - val_accuracy: 0.4583\n",
      "Epoch 665/1000\n",
      "576/576 [==============================] - 0s 67us/step - loss: 0.0996 - accuracy: 0.9583 - val_loss: 3.1579 - val_accuracy: 0.4583\n",
      "Epoch 666/1000\n",
      "576/576 [==============================] - 0s 79us/step - loss: 0.0659 - accuracy: 0.9688 - val_loss: 3.1875 - val_accuracy: 0.4514\n",
      "Epoch 667/1000\n",
      "576/576 [==============================] - 0s 64us/step - loss: 0.0705 - accuracy: 0.9653 - val_loss: 3.2234 - val_accuracy: 0.4722\n",
      "Epoch 668/1000\n",
      "576/576 [==============================] - 0s 71us/step - loss: 0.0662 - accuracy: 0.9670 - val_loss: 3.2485 - val_accuracy: 0.4931\n",
      "Epoch 669/1000\n",
      "576/576 [==============================] - 0s 68us/step - loss: 0.0560 - accuracy: 0.9774 - val_loss: 3.3650 - val_accuracy: 0.4861\n",
      "Epoch 670/1000\n",
      "576/576 [==============================] - 0s 65us/step - loss: 0.0543 - accuracy: 0.9740 - val_loss: 3.3827 - val_accuracy: 0.4792\n",
      "Epoch 671/1000\n",
      "576/576 [==============================] - 0s 83us/step - loss: 0.0717 - accuracy: 0.9722 - val_loss: 3.4536 - val_accuracy: 0.4931\n",
      "Epoch 672/1000\n",
      "576/576 [==============================] - 0s 70us/step - loss: 0.0620 - accuracy: 0.9670 - val_loss: 3.4184 - val_accuracy: 0.4653\n",
      "Epoch 673/1000\n",
      "576/576 [==============================] - 0s 72us/step - loss: 0.0793 - accuracy: 0.9653 - val_loss: 3.4463 - val_accuracy: 0.4583\n",
      "Epoch 674/1000\n",
      "576/576 [==============================] - 0s 65us/step - loss: 0.0878 - accuracy: 0.9549 - val_loss: 3.3007 - val_accuracy: 0.4861\n",
      "Epoch 675/1000\n",
      "576/576 [==============================] - 0s 67us/step - loss: 0.0993 - accuracy: 0.9601 - val_loss: 3.3459 - val_accuracy: 0.4653\n",
      "Epoch 676/1000\n",
      "576/576 [==============================] - 0s 69us/step - loss: 0.0938 - accuracy: 0.9601 - val_loss: 3.3314 - val_accuracy: 0.4583\n",
      "Epoch 677/1000\n",
      "576/576 [==============================] - 0s 65us/step - loss: 0.1052 - accuracy: 0.9497 - val_loss: 3.4260 - val_accuracy: 0.4444\n",
      "Epoch 678/1000\n",
      "576/576 [==============================] - 0s 73us/step - loss: 0.0759 - accuracy: 0.9583 - val_loss: 3.3805 - val_accuracy: 0.4583\n",
      "Epoch 679/1000\n",
      "576/576 [==============================] - 0s 65us/step - loss: 0.1199 - accuracy: 0.9583 - val_loss: 3.2053 - val_accuracy: 0.4583\n",
      "Epoch 680/1000\n",
      "576/576 [==============================] - 0s 73us/step - loss: 0.1923 - accuracy: 0.9219 - val_loss: 3.1057 - val_accuracy: 0.4792\n",
      "Epoch 681/1000\n",
      "576/576 [==============================] - 0s 65us/step - loss: 0.1273 - accuracy: 0.9462 - val_loss: 3.0014 - val_accuracy: 0.4653\n",
      "Epoch 682/1000\n",
      "576/576 [==============================] - 0s 64us/step - loss: 0.1261 - accuracy: 0.9410 - val_loss: 3.1222 - val_accuracy: 0.4583\n",
      "Epoch 683/1000\n",
      "576/576 [==============================] - 0s 63us/step - loss: 0.1202 - accuracy: 0.9497 - val_loss: 3.2795 - val_accuracy: 0.4722\n",
      "Epoch 684/1000\n",
      "576/576 [==============================] - 0s 63us/step - loss: 0.1317 - accuracy: 0.9462 - val_loss: 3.1956 - val_accuracy: 0.4861\n",
      "Epoch 685/1000\n",
      "576/576 [==============================] - 0s 67us/step - loss: 0.0925 - accuracy: 0.9601 - val_loss: 3.1385 - val_accuracy: 0.4792\n",
      "Epoch 686/1000\n",
      "576/576 [==============================] - 0s 69us/step - loss: 0.0692 - accuracy: 0.9757 - val_loss: 3.1237 - val_accuracy: 0.4792\n",
      "Epoch 687/1000\n",
      "576/576 [==============================] - 0s 73us/step - loss: 0.0533 - accuracy: 0.9740 - val_loss: 3.2245 - val_accuracy: 0.4861\n",
      "Epoch 688/1000\n",
      "576/576 [==============================] - 0s 81us/step - loss: 0.0591 - accuracy: 0.9740 - val_loss: 3.2243 - val_accuracy: 0.4792\n",
      "Epoch 689/1000\n",
      "576/576 [==============================] - 0s 66us/step - loss: 0.0517 - accuracy: 0.9757 - val_loss: 3.3483 - val_accuracy: 0.4722\n",
      "Epoch 690/1000\n",
      "576/576 [==============================] - 0s 77us/step - loss: 0.0537 - accuracy: 0.9809 - val_loss: 3.4310 - val_accuracy: 0.4792\n",
      "Epoch 691/1000\n",
      "576/576 [==============================] - 0s 68us/step - loss: 0.0496 - accuracy: 0.9809 - val_loss: 3.3604 - val_accuracy: 0.4792\n",
      "Epoch 692/1000\n",
      "576/576 [==============================] - 0s 66us/step - loss: 0.0473 - accuracy: 0.9792 - val_loss: 3.4959 - val_accuracy: 0.4653\n",
      "Epoch 693/1000\n",
      "576/576 [==============================] - 0s 70us/step - loss: 0.0610 - accuracy: 0.9740 - val_loss: 3.4263 - val_accuracy: 0.4931\n",
      "Epoch 694/1000\n",
      "576/576 [==============================] - 0s 64us/step - loss: 0.0529 - accuracy: 0.9774 - val_loss: 3.5355 - val_accuracy: 0.4722\n",
      "Epoch 695/1000\n",
      "576/576 [==============================] - 0s 70us/step - loss: 0.0668 - accuracy: 0.9618 - val_loss: 3.4630 - val_accuracy: 0.4792\n",
      "Epoch 696/1000\n",
      "576/576 [==============================] - 0s 67us/step - loss: 0.0714 - accuracy: 0.9740 - val_loss: 3.4252 - val_accuracy: 0.4861\n",
      "Epoch 697/1000\n",
      "576/576 [==============================] - 0s 76us/step - loss: 0.0472 - accuracy: 0.9826 - val_loss: 3.5052 - val_accuracy: 0.4792\n",
      "Epoch 698/1000\n",
      "576/576 [==============================] - 0s 64us/step - loss: 0.0538 - accuracy: 0.9774 - val_loss: 3.4566 - val_accuracy: 0.4792\n",
      "Epoch 699/1000\n",
      "576/576 [==============================] - 0s 65us/step - loss: 0.0548 - accuracy: 0.9774 - val_loss: 3.5495 - val_accuracy: 0.4792\n",
      "Epoch 700/1000\n",
      "576/576 [==============================] - 0s 70us/step - loss: 0.0447 - accuracy: 0.9826 - val_loss: 3.5270 - val_accuracy: 0.5000\n",
      "Epoch 701/1000\n",
      "576/576 [==============================] - 0s 71us/step - loss: 0.0438 - accuracy: 0.9809 - val_loss: 3.6241 - val_accuracy: 0.4861\n",
      "Epoch 702/1000\n",
      "576/576 [==============================] - 0s 68us/step - loss: 0.0481 - accuracy: 0.9757 - val_loss: 3.6264 - val_accuracy: 0.4792\n",
      "Epoch 703/1000\n",
      "576/576 [==============================] - 0s 68us/step - loss: 0.0482 - accuracy: 0.9757 - val_loss: 3.6890 - val_accuracy: 0.4514\n",
      "Epoch 704/1000\n",
      "576/576 [==============================] - 0s 65us/step - loss: 0.0486 - accuracy: 0.9826 - val_loss: 3.8565 - val_accuracy: 0.4792\n",
      "Epoch 705/1000\n",
      "576/576 [==============================] - 0s 77us/step - loss: 0.0718 - accuracy: 0.9653 - val_loss: 3.6218 - val_accuracy: 0.4792\n",
      "Epoch 706/1000\n",
      "576/576 [==============================] - 0s 74us/step - loss: 0.0474 - accuracy: 0.9757 - val_loss: 3.5200 - val_accuracy: 0.4792\n",
      "Epoch 707/1000\n",
      "576/576 [==============================] - 0s 71us/step - loss: 0.0733 - accuracy: 0.9705 - val_loss: 3.5406 - val_accuracy: 0.5000\n",
      "Epoch 708/1000\n",
      "576/576 [==============================] - 0s 69us/step - loss: 0.1025 - accuracy: 0.9635 - val_loss: 3.4993 - val_accuracy: 0.4583\n",
      "Epoch 709/1000\n",
      "576/576 [==============================] - 0s 71us/step - loss: 0.1302 - accuracy: 0.9514 - val_loss: 3.3408 - val_accuracy: 0.4931\n",
      "Epoch 710/1000\n",
      "576/576 [==============================] - 0s 77us/step - loss: 0.1157 - accuracy: 0.9583 - val_loss: 3.4171 - val_accuracy: 0.4792\n",
      "Epoch 711/1000\n",
      "576/576 [==============================] - 0s 73us/step - loss: 0.1359 - accuracy: 0.9392 - val_loss: 3.2208 - val_accuracy: 0.4792\n",
      "Epoch 712/1000\n",
      "576/576 [==============================] - 0s 77us/step - loss: 0.1122 - accuracy: 0.9497 - val_loss: 3.3364 - val_accuracy: 0.4653\n",
      "Epoch 713/1000\n",
      "576/576 [==============================] - 0s 65us/step - loss: 0.1655 - accuracy: 0.9306 - val_loss: 3.2805 - val_accuracy: 0.4375\n",
      "Epoch 714/1000\n",
      "576/576 [==============================] - 0s 71us/step - loss: 0.1050 - accuracy: 0.9566 - val_loss: 3.2239 - val_accuracy: 0.4722\n",
      "Epoch 715/1000\n",
      "576/576 [==============================] - 0s 76us/step - loss: 0.0829 - accuracy: 0.9635 - val_loss: 3.2551 - val_accuracy: 0.4653\n",
      "Epoch 716/1000\n",
      "576/576 [==============================] - 0s 76us/step - loss: 0.0633 - accuracy: 0.9774 - val_loss: 3.2438 - val_accuracy: 0.4792\n",
      "Epoch 717/1000\n",
      "576/576 [==============================] - 0s 65us/step - loss: 0.0489 - accuracy: 0.9774 - val_loss: 3.3413 - val_accuracy: 0.4583\n",
      "Epoch 718/1000\n",
      "576/576 [==============================] - 0s 66us/step - loss: 0.0454 - accuracy: 0.9844 - val_loss: 3.4522 - val_accuracy: 0.4444\n",
      "Epoch 719/1000\n",
      "576/576 [==============================] - 0s 73us/step - loss: 0.0425 - accuracy: 0.9809 - val_loss: 3.4559 - val_accuracy: 0.4792\n",
      "Epoch 720/1000\n",
      "576/576 [==============================] - 0s 64us/step - loss: 0.0452 - accuracy: 0.9844 - val_loss: 3.4859 - val_accuracy: 0.4792\n",
      "Epoch 721/1000\n",
      "576/576 [==============================] - 0s 64us/step - loss: 0.0472 - accuracy: 0.9757 - val_loss: 3.5453 - val_accuracy: 0.4653\n",
      "Epoch 722/1000\n",
      "576/576 [==============================] - 0s 67us/step - loss: 0.0419 - accuracy: 0.9826 - val_loss: 3.5074 - val_accuracy: 0.4861\n",
      "Epoch 723/1000\n",
      "576/576 [==============================] - 0s 65us/step - loss: 0.0442 - accuracy: 0.9809 - val_loss: 3.6046 - val_accuracy: 0.4931\n",
      "Epoch 724/1000\n",
      "576/576 [==============================] - 0s 68us/step - loss: 0.0540 - accuracy: 0.9757 - val_loss: 3.5458 - val_accuracy: 0.4653\n",
      "Epoch 725/1000\n",
      "576/576 [==============================] - 0s 74us/step - loss: 0.0637 - accuracy: 0.9653 - val_loss: 3.4499 - val_accuracy: 0.4861\n",
      "Epoch 726/1000\n",
      "576/576 [==============================] - 0s 72us/step - loss: 0.0636 - accuracy: 0.9722 - val_loss: 3.6655 - val_accuracy: 0.4722\n",
      "Epoch 727/1000\n",
      "576/576 [==============================] - 0s 71us/step - loss: 0.1095 - accuracy: 0.9635 - val_loss: 3.4943 - val_accuracy: 0.5000\n",
      "Epoch 728/1000\n",
      "576/576 [==============================] - 0s 66us/step - loss: 0.1351 - accuracy: 0.9479 - val_loss: 3.5767 - val_accuracy: 0.4583\n",
      "Epoch 729/1000\n",
      "576/576 [==============================] - 0s 64us/step - loss: 0.1124 - accuracy: 0.9462 - val_loss: 3.3303 - val_accuracy: 0.4583\n",
      "Epoch 730/1000\n",
      "576/576 [==============================] - 0s 67us/step - loss: 0.1070 - accuracy: 0.9531 - val_loss: 3.2599 - val_accuracy: 0.4861\n",
      "Epoch 731/1000\n",
      "576/576 [==============================] - 0s 66us/step - loss: 0.0714 - accuracy: 0.9722 - val_loss: 3.3197 - val_accuracy: 0.4792\n",
      "Epoch 732/1000\n",
      "576/576 [==============================] - 0s 83us/step - loss: 0.0721 - accuracy: 0.9757 - val_loss: 3.4185 - val_accuracy: 0.4861\n",
      "Epoch 733/1000\n",
      "576/576 [==============================] - 0s 69us/step - loss: 0.0469 - accuracy: 0.9809 - val_loss: 3.4521 - val_accuracy: 0.4653\n",
      "Epoch 734/1000\n",
      "576/576 [==============================] - 0s 67us/step - loss: 0.0471 - accuracy: 0.9826 - val_loss: 3.4697 - val_accuracy: 0.4861\n",
      "Epoch 735/1000\n",
      "576/576 [==============================] - 0s 64us/step - loss: 0.0585 - accuracy: 0.9740 - val_loss: 3.4887 - val_accuracy: 0.5000\n",
      "Epoch 736/1000\n",
      "576/576 [==============================] - 0s 65us/step - loss: 0.0456 - accuracy: 0.9826 - val_loss: 3.5393 - val_accuracy: 0.4861\n",
      "Epoch 737/1000\n",
      "576/576 [==============================] - 0s 69us/step - loss: 0.0402 - accuracy: 0.9844 - val_loss: 3.5645 - val_accuracy: 0.5000\n",
      "Epoch 738/1000\n",
      "576/576 [==============================] - 0s 67us/step - loss: 0.0374 - accuracy: 0.9826 - val_loss: 3.6280 - val_accuracy: 0.4861\n",
      "Epoch 739/1000\n",
      "576/576 [==============================] - 0s 81us/step - loss: 0.0419 - accuracy: 0.9809 - val_loss: 3.7692 - val_accuracy: 0.4792\n",
      "Epoch 740/1000\n",
      "576/576 [==============================] - 0s 63us/step - loss: 0.0571 - accuracy: 0.9705 - val_loss: 3.6987 - val_accuracy: 0.4653\n",
      "Epoch 741/1000\n",
      "576/576 [==============================] - 0s 75us/step - loss: 0.0446 - accuracy: 0.9774 - val_loss: 3.7045 - val_accuracy: 0.4722\n",
      "Epoch 742/1000\n",
      "576/576 [==============================] - 0s 69us/step - loss: 0.0429 - accuracy: 0.9826 - val_loss: 3.6878 - val_accuracy: 0.4861\n",
      "Epoch 743/1000\n",
      "576/576 [==============================] - 0s 67us/step - loss: 0.0498 - accuracy: 0.9809 - val_loss: 3.6520 - val_accuracy: 0.5000\n",
      "Epoch 744/1000\n",
      "576/576 [==============================] - 0s 70us/step - loss: 0.0381 - accuracy: 0.9826 - val_loss: 3.7744 - val_accuracy: 0.5000\n",
      "Epoch 745/1000\n",
      "576/576 [==============================] - 0s 67us/step - loss: 0.0444 - accuracy: 0.9792 - val_loss: 3.7528 - val_accuracy: 0.4722\n",
      "Epoch 746/1000\n",
      "576/576 [==============================] - 0s 63us/step - loss: 0.0873 - accuracy: 0.9722 - val_loss: 3.6477 - val_accuracy: 0.4792\n",
      "Epoch 747/1000\n",
      "576/576 [==============================] - 0s 72us/step - loss: 0.0907 - accuracy: 0.9618 - val_loss: 3.5885 - val_accuracy: 0.5000\n",
      "Epoch 748/1000\n",
      "576/576 [==============================] - 0s 67us/step - loss: 0.1580 - accuracy: 0.9427 - val_loss: 3.6370 - val_accuracy: 0.4653\n",
      "Epoch 749/1000\n",
      "576/576 [==============================] - 0s 69us/step - loss: 0.1118 - accuracy: 0.9549 - val_loss: 3.3649 - val_accuracy: 0.4653\n",
      "Epoch 750/1000\n",
      "576/576 [==============================] - 0s 67us/step - loss: 0.1184 - accuracy: 0.9635 - val_loss: 3.4228 - val_accuracy: 0.4792\n",
      "Epoch 751/1000\n",
      "576/576 [==============================] - 0s 71us/step - loss: 0.0785 - accuracy: 0.9688 - val_loss: 3.3348 - val_accuracy: 0.4375\n",
      "Epoch 752/1000\n",
      "576/576 [==============================] - 0s 64us/step - loss: 0.0661 - accuracy: 0.9705 - val_loss: 3.4364 - val_accuracy: 0.4722\n",
      "Epoch 753/1000\n",
      "576/576 [==============================] - 0s 74us/step - loss: 0.0585 - accuracy: 0.9774 - val_loss: 3.4172 - val_accuracy: 0.4792\n",
      "Epoch 754/1000\n",
      "576/576 [==============================] - 0s 68us/step - loss: 0.0698 - accuracy: 0.9705 - val_loss: 3.5495 - val_accuracy: 0.4861\n",
      "Epoch 755/1000\n",
      "576/576 [==============================] - 0s 81us/step - loss: 0.0495 - accuracy: 0.9792 - val_loss: 3.5451 - val_accuracy: 0.4722\n",
      "Epoch 756/1000\n",
      "576/576 [==============================] - 0s 73us/step - loss: 0.0487 - accuracy: 0.9757 - val_loss: 3.5652 - val_accuracy: 0.4722\n",
      "Epoch 757/1000\n",
      "576/576 [==============================] - 0s 70us/step - loss: 0.0441 - accuracy: 0.9861 - val_loss: 3.6857 - val_accuracy: 0.4514\n",
      "Epoch 758/1000\n",
      "576/576 [==============================] - 0s 68us/step - loss: 0.0737 - accuracy: 0.9740 - val_loss: 3.6192 - val_accuracy: 0.4653\n",
      "Epoch 759/1000\n",
      "576/576 [==============================] - 0s 64us/step - loss: 0.0480 - accuracy: 0.9792 - val_loss: 3.6252 - val_accuracy: 0.4792\n",
      "Epoch 760/1000\n",
      "576/576 [==============================] - 0s 71us/step - loss: 0.0527 - accuracy: 0.9774 - val_loss: 3.6011 - val_accuracy: 0.4722\n",
      "Epoch 761/1000\n",
      "576/576 [==============================] - 0s 65us/step - loss: 0.0540 - accuracy: 0.9792 - val_loss: 3.5454 - val_accuracy: 0.4722\n",
      "Epoch 762/1000\n",
      "576/576 [==============================] - 0s 70us/step - loss: 0.0420 - accuracy: 0.9826 - val_loss: 3.7315 - val_accuracy: 0.4931\n",
      "Epoch 763/1000\n",
      "576/576 [==============================] - 0s 68us/step - loss: 0.0452 - accuracy: 0.9792 - val_loss: 3.7543 - val_accuracy: 0.4583\n",
      "Epoch 764/1000\n",
      "576/576 [==============================] - 0s 79us/step - loss: 0.0406 - accuracy: 0.9826 - val_loss: 3.8157 - val_accuracy: 0.4861\n",
      "Epoch 765/1000\n",
      "576/576 [==============================] - 0s 66us/step - loss: 0.0695 - accuracy: 0.9653 - val_loss: 3.7981 - val_accuracy: 0.4861\n",
      "Epoch 766/1000\n",
      "576/576 [==============================] - 0s 70us/step - loss: 0.0427 - accuracy: 0.9826 - val_loss: 3.7285 - val_accuracy: 0.4722\n",
      "Epoch 767/1000\n",
      "576/576 [==============================] - 0s 70us/step - loss: 0.0436 - accuracy: 0.9792 - val_loss: 3.7690 - val_accuracy: 0.4792\n",
      "Epoch 768/1000\n",
      "576/576 [==============================] - 0s 65us/step - loss: 0.0574 - accuracy: 0.9774 - val_loss: 3.7012 - val_accuracy: 0.4792\n",
      "Epoch 769/1000\n",
      "576/576 [==============================] - 0s 64us/step - loss: 0.0537 - accuracy: 0.9740 - val_loss: 3.9454 - val_accuracy: 0.4722\n",
      "Epoch 770/1000\n",
      "576/576 [==============================] - 0s 68us/step - loss: 0.0465 - accuracy: 0.9774 - val_loss: 3.7763 - val_accuracy: 0.4792\n",
      "Epoch 771/1000\n",
      "576/576 [==============================] - 0s 73us/step - loss: 0.0434 - accuracy: 0.9792 - val_loss: 3.7784 - val_accuracy: 0.4722\n",
      "Epoch 772/1000\n",
      "576/576 [==============================] - 0s 66us/step - loss: 0.0427 - accuracy: 0.9809 - val_loss: 3.9674 - val_accuracy: 0.4861\n",
      "Epoch 773/1000\n",
      "576/576 [==============================] - 0s 70us/step - loss: 0.0588 - accuracy: 0.9740 - val_loss: 3.7302 - val_accuracy: 0.4861\n",
      "Epoch 774/1000\n",
      "576/576 [==============================] - 0s 69us/step - loss: 0.0663 - accuracy: 0.9757 - val_loss: 3.9663 - val_accuracy: 0.5000\n",
      "Epoch 775/1000\n",
      "576/576 [==============================] - 0s 68us/step - loss: 0.0610 - accuracy: 0.9774 - val_loss: 3.7666 - val_accuracy: 0.4931\n",
      "Epoch 776/1000\n",
      "576/576 [==============================] - 0s 84us/step - loss: 0.1019 - accuracy: 0.9688 - val_loss: 3.6978 - val_accuracy: 0.4861\n",
      "Epoch 777/1000\n",
      "576/576 [==============================] - 0s 75us/step - loss: 0.0732 - accuracy: 0.9653 - val_loss: 3.7044 - val_accuracy: 0.4722\n",
      "Epoch 778/1000\n",
      "576/576 [==============================] - 0s 66us/step - loss: 0.1065 - accuracy: 0.9601 - val_loss: 3.6373 - val_accuracy: 0.4375\n",
      "Epoch 779/1000\n",
      "576/576 [==============================] - 0s 75us/step - loss: 0.1497 - accuracy: 0.9375 - val_loss: 3.4584 - val_accuracy: 0.4583\n",
      "Epoch 780/1000\n",
      "576/576 [==============================] - 0s 81us/step - loss: 0.1809 - accuracy: 0.9479 - val_loss: 3.2382 - val_accuracy: 0.4097\n",
      "Epoch 781/1000\n",
      "576/576 [==============================] - 0s 66us/step - loss: 0.1003 - accuracy: 0.9566 - val_loss: 3.4097 - val_accuracy: 0.4583\n",
      "Epoch 782/1000\n",
      "576/576 [==============================] - 0s 71us/step - loss: 0.0634 - accuracy: 0.9774 - val_loss: 3.6058 - val_accuracy: 0.4792\n",
      "Epoch 783/1000\n",
      "576/576 [==============================] - 0s 64us/step - loss: 0.0535 - accuracy: 0.9757 - val_loss: 3.5648 - val_accuracy: 0.4792\n",
      "Epoch 784/1000\n",
      "576/576 [==============================] - 0s 70us/step - loss: 0.0410 - accuracy: 0.9844 - val_loss: 3.5481 - val_accuracy: 0.4653\n",
      "Epoch 785/1000\n",
      "576/576 [==============================] - 0s 63us/step - loss: 0.0367 - accuracy: 0.9844 - val_loss: 3.6767 - val_accuracy: 0.4861\n",
      "Epoch 786/1000\n",
      "576/576 [==============================] - 0s 72us/step - loss: 0.0325 - accuracy: 0.9878 - val_loss: 3.7659 - val_accuracy: 0.4722\n",
      "Epoch 787/1000\n",
      "576/576 [==============================] - 0s 63us/step - loss: 0.0356 - accuracy: 0.9861 - val_loss: 3.8017 - val_accuracy: 0.4931\n",
      "Epoch 788/1000\n",
      "576/576 [==============================] - 0s 79us/step - loss: 0.0320 - accuracy: 0.9861 - val_loss: 3.8596 - val_accuracy: 0.4861\n",
      "Epoch 789/1000\n",
      "576/576 [==============================] - 0s 79us/step - loss: 0.0314 - accuracy: 0.9844 - val_loss: 3.8823 - val_accuracy: 0.4722\n",
      "Epoch 790/1000\n",
      "576/576 [==============================] - 0s 70us/step - loss: 0.0313 - accuracy: 0.9878 - val_loss: 3.8727 - val_accuracy: 0.4861\n",
      "Epoch 791/1000\n",
      "576/576 [==============================] - 0s 73us/step - loss: 0.0304 - accuracy: 0.9878 - val_loss: 3.9592 - val_accuracy: 0.4861\n",
      "Epoch 792/1000\n",
      "576/576 [==============================] - 0s 65us/step - loss: 0.0314 - accuracy: 0.9896 - val_loss: 4.0089 - val_accuracy: 0.4792\n",
      "Epoch 793/1000\n",
      "576/576 [==============================] - 0s 64us/step - loss: 0.0324 - accuracy: 0.9861 - val_loss: 3.9644 - val_accuracy: 0.4861\n",
      "Epoch 794/1000\n",
      "576/576 [==============================] - 0s 70us/step - loss: 0.0319 - accuracy: 0.9861 - val_loss: 3.9649 - val_accuracy: 0.4861\n",
      "Epoch 795/1000\n",
      "576/576 [==============================] - 0s 63us/step - loss: 0.0408 - accuracy: 0.9792 - val_loss: 4.0715 - val_accuracy: 0.4931\n",
      "Epoch 796/1000\n",
      "576/576 [==============================] - 0s 73us/step - loss: 0.0482 - accuracy: 0.9809 - val_loss: 3.8877 - val_accuracy: 0.4583\n",
      "Epoch 797/1000\n",
      "576/576 [==============================] - 0s 69us/step - loss: 0.0324 - accuracy: 0.9878 - val_loss: 3.9798 - val_accuracy: 0.4722\n",
      "Epoch 798/1000\n",
      "576/576 [==============================] - 0s 67us/step - loss: 0.0307 - accuracy: 0.9878 - val_loss: 4.0267 - val_accuracy: 0.4722\n",
      "Epoch 799/1000\n",
      "576/576 [==============================] - 0s 65us/step - loss: 0.0309 - accuracy: 0.9878 - val_loss: 4.0681 - val_accuracy: 0.4653\n",
      "Epoch 800/1000\n",
      "576/576 [==============================] - 0s 66us/step - loss: 0.0301 - accuracy: 0.9896 - val_loss: 4.0357 - val_accuracy: 0.4722\n",
      "Epoch 801/1000\n",
      "576/576 [==============================] - 0s 68us/step - loss: 0.0286 - accuracy: 0.9896 - val_loss: 4.0992 - val_accuracy: 0.4861\n",
      "Epoch 802/1000\n",
      "576/576 [==============================] - 0s 67us/step - loss: 0.0278 - accuracy: 0.9878 - val_loss: 4.0910 - val_accuracy: 0.4792\n",
      "Epoch 803/1000\n",
      "576/576 [==============================] - 0s 74us/step - loss: 0.0287 - accuracy: 0.9878 - val_loss: 4.1095 - val_accuracy: 0.4861\n",
      "Epoch 804/1000\n",
      "576/576 [==============================] - 0s 64us/step - loss: 0.0281 - accuracy: 0.9896 - val_loss: 4.1499 - val_accuracy: 0.4722\n",
      "Epoch 805/1000\n",
      "576/576 [==============================] - 0s 71us/step - loss: 0.0282 - accuracy: 0.9878 - val_loss: 4.1602 - val_accuracy: 0.4931\n",
      "Epoch 806/1000\n",
      "576/576 [==============================] - 0s 77us/step - loss: 0.0306 - accuracy: 0.9878 - val_loss: 4.1488 - val_accuracy: 0.4861\n",
      "Epoch 807/1000\n",
      "576/576 [==============================] - 0s 76us/step - loss: 0.0435 - accuracy: 0.9826 - val_loss: 4.1975 - val_accuracy: 0.4792\n",
      "Epoch 808/1000\n",
      "576/576 [==============================] - 0s 80us/step - loss: 0.0615 - accuracy: 0.9757 - val_loss: 4.0978 - val_accuracy: 0.4583\n",
      "Epoch 809/1000\n",
      "576/576 [==============================] - 0s 68us/step - loss: 0.0477 - accuracy: 0.9809 - val_loss: 3.9661 - val_accuracy: 0.5000\n",
      "Epoch 810/1000\n",
      "576/576 [==============================] - 0s 68us/step - loss: 0.0761 - accuracy: 0.9722 - val_loss: 3.9152 - val_accuracy: 0.5000\n",
      "Epoch 811/1000\n",
      "576/576 [==============================] - 0s 65us/step - loss: 0.1984 - accuracy: 0.9340 - val_loss: 3.8170 - val_accuracy: 0.4583\n",
      "Epoch 812/1000\n",
      "576/576 [==============================] - 0s 66us/step - loss: 0.3356 - accuracy: 0.8889 - val_loss: 3.1633 - val_accuracy: 0.4375\n",
      "Epoch 813/1000\n",
      "576/576 [==============================] - 0s 62us/step - loss: 0.2308 - accuracy: 0.9201 - val_loss: 2.9652 - val_accuracy: 0.4583\n",
      "Epoch 814/1000\n",
      "576/576 [==============================] - 0s 69us/step - loss: 0.1094 - accuracy: 0.9583 - val_loss: 3.0392 - val_accuracy: 0.4583\n",
      "Epoch 815/1000\n",
      "576/576 [==============================] - 0s 66us/step - loss: 0.1028 - accuracy: 0.9566 - val_loss: 3.2210 - val_accuracy: 0.4722\n",
      "Epoch 816/1000\n",
      "576/576 [==============================] - 0s 73us/step - loss: 0.0856 - accuracy: 0.9670 - val_loss: 3.3096 - val_accuracy: 0.4861\n",
      "Epoch 817/1000\n",
      "576/576 [==============================] - 0s 66us/step - loss: 0.0477 - accuracy: 0.9792 - val_loss: 3.3694 - val_accuracy: 0.4722\n",
      "Epoch 818/1000\n",
      "576/576 [==============================] - 0s 75us/step - loss: 0.0398 - accuracy: 0.9861 - val_loss: 3.5096 - val_accuracy: 0.4861\n",
      "Epoch 819/1000\n",
      "576/576 [==============================] - 0s 65us/step - loss: 0.0347 - accuracy: 0.9844 - val_loss: 3.5667 - val_accuracy: 0.4792\n",
      "Epoch 820/1000\n",
      "576/576 [==============================] - 0s 74us/step - loss: 0.0318 - accuracy: 0.9878 - val_loss: 3.6410 - val_accuracy: 0.4722\n",
      "Epoch 821/1000\n",
      "576/576 [==============================] - 0s 66us/step - loss: 0.0326 - accuracy: 0.9878 - val_loss: 3.7212 - val_accuracy: 0.4722\n",
      "Epoch 822/1000\n",
      "576/576 [==============================] - 0s 66us/step - loss: 0.0314 - accuracy: 0.9896 - val_loss: 3.7784 - val_accuracy: 0.4861\n",
      "Epoch 823/1000\n",
      "576/576 [==============================] - 0s 81us/step - loss: 0.0299 - accuracy: 0.9896 - val_loss: 3.7665 - val_accuracy: 0.4722\n",
      "Epoch 824/1000\n",
      "576/576 [==============================] - 0s 71us/step - loss: 0.0293 - accuracy: 0.9878 - val_loss: 3.8809 - val_accuracy: 0.4653\n",
      "Epoch 825/1000\n",
      "576/576 [==============================] - 0s 68us/step - loss: 0.0302 - accuracy: 0.9878 - val_loss: 3.8415 - val_accuracy: 0.4792\n",
      "Epoch 826/1000\n",
      "576/576 [==============================] - 0s 64us/step - loss: 0.0307 - accuracy: 0.9878 - val_loss: 3.9252 - val_accuracy: 0.4861\n",
      "Epoch 827/1000\n",
      "576/576 [==============================] - 0s 73us/step - loss: 0.0301 - accuracy: 0.9878 - val_loss: 3.8772 - val_accuracy: 0.4861\n",
      "Epoch 828/1000\n",
      "576/576 [==============================] - 0s 66us/step - loss: 0.0295 - accuracy: 0.9844 - val_loss: 3.9700 - val_accuracy: 0.4792\n",
      "Epoch 829/1000\n",
      "576/576 [==============================] - 0s 71us/step - loss: 0.0291 - accuracy: 0.9861 - val_loss: 4.0210 - val_accuracy: 0.4653\n",
      "Epoch 830/1000\n",
      "576/576 [==============================] - 0s 79us/step - loss: 0.0319 - accuracy: 0.9861 - val_loss: 4.0290 - val_accuracy: 0.4583\n",
      "Epoch 831/1000\n",
      "576/576 [==============================] - 0s 72us/step - loss: 0.0329 - accuracy: 0.9861 - val_loss: 4.0194 - val_accuracy: 0.4861\n",
      "Epoch 832/1000\n",
      "576/576 [==============================] - 0s 80us/step - loss: 0.0316 - accuracy: 0.9861 - val_loss: 4.0902 - val_accuracy: 0.4792\n",
      "Epoch 833/1000\n",
      "576/576 [==============================] - 0s 66us/step - loss: 0.0284 - accuracy: 0.9896 - val_loss: 4.0666 - val_accuracy: 0.4792\n",
      "Epoch 834/1000\n",
      "576/576 [==============================] - 0s 71us/step - loss: 0.0267 - accuracy: 0.9913 - val_loss: 4.1017 - val_accuracy: 0.4792\n",
      "Epoch 835/1000\n",
      "576/576 [==============================] - 0s 65us/step - loss: 0.0262 - accuracy: 0.9896 - val_loss: 4.1314 - val_accuracy: 0.4861\n",
      "Epoch 836/1000\n",
      "576/576 [==============================] - 0s 66us/step - loss: 0.0274 - accuracy: 0.9896 - val_loss: 4.1350 - val_accuracy: 0.4722\n",
      "Epoch 837/1000\n",
      "576/576 [==============================] - 0s 85us/step - loss: 0.0273 - accuracy: 0.9878 - val_loss: 4.1576 - val_accuracy: 0.4792\n",
      "Epoch 838/1000\n",
      "576/576 [==============================] - 0s 72us/step - loss: 0.0249 - accuracy: 0.9913 - val_loss: 4.1836 - val_accuracy: 0.4653\n",
      "Epoch 839/1000\n",
      "576/576 [==============================] - 0s 70us/step - loss: 0.0274 - accuracy: 0.9861 - val_loss: 4.1834 - val_accuracy: 0.4792\n",
      "Epoch 840/1000\n",
      "576/576 [==============================] - 0s 67us/step - loss: 0.0260 - accuracy: 0.9896 - val_loss: 4.2316 - val_accuracy: 0.4792\n",
      "Epoch 841/1000\n",
      "576/576 [==============================] - 0s 66us/step - loss: 0.0299 - accuracy: 0.9878 - val_loss: 4.2212 - val_accuracy: 0.4931\n",
      "Epoch 842/1000\n",
      "576/576 [==============================] - 0s 65us/step - loss: 0.0518 - accuracy: 0.9792 - val_loss: 3.9551 - val_accuracy: 0.4931\n",
      "Epoch 843/1000\n",
      "576/576 [==============================] - 0s 64us/step - loss: 0.0535 - accuracy: 0.9757 - val_loss: 4.1702 - val_accuracy: 0.4931\n",
      "Epoch 844/1000\n",
      "576/576 [==============================] - 0s 79us/step - loss: 0.0372 - accuracy: 0.9809 - val_loss: 4.1753 - val_accuracy: 0.4861\n",
      "Epoch 845/1000\n",
      "576/576 [==============================] - 0s 67us/step - loss: 0.0395 - accuracy: 0.9844 - val_loss: 4.1595 - val_accuracy: 0.4861\n",
      "Epoch 846/1000\n",
      "576/576 [==============================] - 0s 70us/step - loss: 0.0833 - accuracy: 0.9653 - val_loss: 4.2655 - val_accuracy: 0.4514\n",
      "Epoch 847/1000\n",
      "576/576 [==============================] - 0s 65us/step - loss: 0.1901 - accuracy: 0.9427 - val_loss: 4.1395 - val_accuracy: 0.4722\n",
      "Epoch 848/1000\n",
      "576/576 [==============================] - 0s 67us/step - loss: 0.1417 - accuracy: 0.9410 - val_loss: 3.4060 - val_accuracy: 0.4514\n",
      "Epoch 849/1000\n",
      "576/576 [==============================] - 0s 72us/step - loss: 0.2777 - accuracy: 0.9201 - val_loss: 3.5310 - val_accuracy: 0.4583\n",
      "Epoch 850/1000\n",
      "576/576 [==============================] - 0s 75us/step - loss: 0.1610 - accuracy: 0.9323 - val_loss: 3.2268 - val_accuracy: 0.4583\n",
      "Epoch 851/1000\n",
      "576/576 [==============================] - 0s 72us/step - loss: 0.0909 - accuracy: 0.9583 - val_loss: 3.2641 - val_accuracy: 0.5000\n",
      "Epoch 852/1000\n",
      "576/576 [==============================] - 0s 75us/step - loss: 0.0486 - accuracy: 0.9826 - val_loss: 3.5551 - val_accuracy: 0.4792\n",
      "Epoch 853/1000\n",
      "576/576 [==============================] - 0s 69us/step - loss: 0.0354 - accuracy: 0.9861 - val_loss: 3.6409 - val_accuracy: 0.4861\n",
      "Epoch 854/1000\n",
      "576/576 [==============================] - 0s 70us/step - loss: 0.0318 - accuracy: 0.9878 - val_loss: 3.7254 - val_accuracy: 0.4722\n",
      "Epoch 855/1000\n",
      "576/576 [==============================] - 0s 65us/step - loss: 0.0294 - accuracy: 0.9878 - val_loss: 3.7803 - val_accuracy: 0.4653\n",
      "Epoch 856/1000\n",
      "576/576 [==============================] - 0s 72us/step - loss: 0.0326 - accuracy: 0.9878 - val_loss: 3.8140 - val_accuracy: 0.4792\n",
      "Epoch 857/1000\n",
      "576/576 [==============================] - 0s 66us/step - loss: 0.0297 - accuracy: 0.9878 - val_loss: 3.8203 - val_accuracy: 0.4792\n",
      "Epoch 858/1000\n",
      "576/576 [==============================] - 0s 65us/step - loss: 0.0348 - accuracy: 0.9844 - val_loss: 3.9195 - val_accuracy: 0.4861\n",
      "Epoch 859/1000\n",
      "576/576 [==============================] - 0s 80us/step - loss: 0.0352 - accuracy: 0.9861 - val_loss: 3.9204 - val_accuracy: 0.4722\n",
      "Epoch 860/1000\n",
      "576/576 [==============================] - 0s 67us/step - loss: 0.0297 - accuracy: 0.9896 - val_loss: 3.9110 - val_accuracy: 0.4861\n",
      "Epoch 861/1000\n",
      "576/576 [==============================] - 0s 81us/step - loss: 0.0288 - accuracy: 0.9896 - val_loss: 3.9821 - val_accuracy: 0.4792\n",
      "Epoch 862/1000\n",
      "576/576 [==============================] - 0s 95us/step - loss: 0.0263 - accuracy: 0.9913 - val_loss: 4.0185 - val_accuracy: 0.4792\n",
      "Epoch 863/1000\n",
      "576/576 [==============================] - 0s 68us/step - loss: 0.0246 - accuracy: 0.9913 - val_loss: 4.0375 - val_accuracy: 0.4792\n",
      "Epoch 864/1000\n",
      "576/576 [==============================] - 0s 64us/step - loss: 0.0253 - accuracy: 0.9896 - val_loss: 4.0866 - val_accuracy: 0.4792\n",
      "Epoch 865/1000\n",
      "576/576 [==============================] - 0s 70us/step - loss: 0.0237 - accuracy: 0.9931 - val_loss: 4.1078 - val_accuracy: 0.4861\n",
      "Epoch 866/1000\n",
      "576/576 [==============================] - 0s 66us/step - loss: 0.0256 - accuracy: 0.9878 - val_loss: 4.1173 - val_accuracy: 0.4583\n",
      "Epoch 867/1000\n",
      "576/576 [==============================] - 0s 64us/step - loss: 0.0239 - accuracy: 0.9931 - val_loss: 4.1287 - val_accuracy: 0.4861\n",
      "Epoch 868/1000\n",
      "576/576 [==============================] - 0s 69us/step - loss: 0.0260 - accuracy: 0.9913 - val_loss: 4.1732 - val_accuracy: 0.4722\n",
      "Epoch 869/1000\n",
      "576/576 [==============================] - 0s 69us/step - loss: 0.0239 - accuracy: 0.9913 - val_loss: 4.2165 - val_accuracy: 0.4861\n",
      "Epoch 870/1000\n",
      "576/576 [==============================] - 0s 70us/step - loss: 0.0233 - accuracy: 0.9913 - val_loss: 4.2152 - val_accuracy: 0.4931\n",
      "Epoch 871/1000\n",
      "576/576 [==============================] - 0s 69us/step - loss: 0.0235 - accuracy: 0.9896 - val_loss: 4.2480 - val_accuracy: 0.4861\n",
      "Epoch 872/1000\n",
      "576/576 [==============================] - 0s 68us/step - loss: 0.0229 - accuracy: 0.9913 - val_loss: 4.2411 - val_accuracy: 0.4931\n",
      "Epoch 873/1000\n",
      "576/576 [==============================] - 0s 77us/step - loss: 0.0230 - accuracy: 0.9913 - val_loss: 4.2932 - val_accuracy: 0.4931\n",
      "Epoch 874/1000\n",
      "576/576 [==============================] - 0s 72us/step - loss: 0.0232 - accuracy: 0.9913 - val_loss: 4.2962 - val_accuracy: 0.4722\n",
      "Epoch 875/1000\n",
      "576/576 [==============================] - 0s 68us/step - loss: 0.0231 - accuracy: 0.9913 - val_loss: 4.3189 - val_accuracy: 0.4861\n",
      "Epoch 876/1000\n",
      "576/576 [==============================] - 0s 72us/step - loss: 0.0226 - accuracy: 0.9913 - val_loss: 4.3586 - val_accuracy: 0.4931\n",
      "Epoch 877/1000\n",
      "576/576 [==============================] - 0s 65us/step - loss: 0.0220 - accuracy: 0.9931 - val_loss: 4.3324 - val_accuracy: 0.4931\n",
      "Epoch 878/1000\n",
      "576/576 [==============================] - 0s 66us/step - loss: 0.0225 - accuracy: 0.9913 - val_loss: 4.3857 - val_accuracy: 0.4931\n",
      "Epoch 879/1000\n",
      "576/576 [==============================] - 0s 65us/step - loss: 0.0226 - accuracy: 0.9913 - val_loss: 4.3918 - val_accuracy: 0.4931\n",
      "Epoch 880/1000\n",
      "576/576 [==============================] - 0s 64us/step - loss: 0.0215 - accuracy: 0.9931 - val_loss: 4.4049 - val_accuracy: 0.4931\n",
      "Epoch 881/1000\n",
      "576/576 [==============================] - 0s 74us/step - loss: 0.0215 - accuracy: 0.9931 - val_loss: 4.4302 - val_accuracy: 0.4931\n",
      "Epoch 882/1000\n",
      "576/576 [==============================] - 0s 73us/step - loss: 0.0212 - accuracy: 0.9931 - val_loss: 4.4245 - val_accuracy: 0.4861\n",
      "Epoch 883/1000\n",
      "576/576 [==============================] - 0s 65us/step - loss: 0.0223 - accuracy: 0.9913 - val_loss: 4.4680 - val_accuracy: 0.4861\n",
      "Epoch 884/1000\n",
      "576/576 [==============================] - 0s 69us/step - loss: 0.0213 - accuracy: 0.9931 - val_loss: 4.4609 - val_accuracy: 0.4792\n",
      "Epoch 885/1000\n",
      "576/576 [==============================] - 0s 70us/step - loss: 0.0222 - accuracy: 0.9931 - val_loss: 4.5163 - val_accuracy: 0.4722\n",
      "Epoch 886/1000\n",
      "576/576 [==============================] - 0s 62us/step - loss: 0.0243 - accuracy: 0.9896 - val_loss: 4.4603 - val_accuracy: 0.4861\n",
      "Epoch 887/1000\n",
      "576/576 [==============================] - 0s 68us/step - loss: 0.0560 - accuracy: 0.9826 - val_loss: 4.4088 - val_accuracy: 0.4792\n",
      "Epoch 888/1000\n",
      "576/576 [==============================] - 0s 63us/step - loss: 0.0485 - accuracy: 0.9826 - val_loss: 4.3515 - val_accuracy: 0.4583\n",
      "Epoch 889/1000\n",
      "576/576 [==============================] - 0s 73us/step - loss: 0.0703 - accuracy: 0.9670 - val_loss: 4.2710 - val_accuracy: 0.4653\n",
      "Epoch 890/1000\n",
      "576/576 [==============================] - 0s 66us/step - loss: 0.0689 - accuracy: 0.9792 - val_loss: 4.2823 - val_accuracy: 0.4653\n",
      "Epoch 891/1000\n",
      "576/576 [==============================] - 0s 65us/step - loss: 0.2177 - accuracy: 0.9184 - val_loss: 4.1091 - val_accuracy: 0.4236\n",
      "Epoch 892/1000\n",
      "576/576 [==============================] - 0s 84us/step - loss: 0.2035 - accuracy: 0.9271 - val_loss: 3.2005 - val_accuracy: 0.5069\n",
      "Epoch 893/1000\n",
      "576/576 [==============================] - 0s 70us/step - loss: 0.1054 - accuracy: 0.9583 - val_loss: 3.4459 - val_accuracy: 0.5069\n",
      "Epoch 894/1000\n",
      "576/576 [==============================] - 0s 72us/step - loss: 0.1402 - accuracy: 0.9410 - val_loss: 3.5697 - val_accuracy: 0.4722\n",
      "Epoch 895/1000\n",
      "576/576 [==============================] - 0s 64us/step - loss: 0.2409 - accuracy: 0.9132 - val_loss: 3.3610 - val_accuracy: 0.4722\n",
      "Epoch 896/1000\n",
      "576/576 [==============================] - 0s 70us/step - loss: 0.1280 - accuracy: 0.9479 - val_loss: 3.1923 - val_accuracy: 0.4792\n",
      "Epoch 897/1000\n",
      "576/576 [==============================] - 0s 66us/step - loss: 0.0671 - accuracy: 0.9705 - val_loss: 3.1355 - val_accuracy: 0.4792\n",
      "Epoch 898/1000\n",
      "576/576 [==============================] - 0s 66us/step - loss: 0.0478 - accuracy: 0.9774 - val_loss: 3.4526 - val_accuracy: 0.4653\n",
      "Epoch 899/1000\n",
      "576/576 [==============================] - 0s 66us/step - loss: 0.0340 - accuracy: 0.9913 - val_loss: 3.5772 - val_accuracy: 0.4653\n",
      "Epoch 900/1000\n",
      "576/576 [==============================] - 0s 69us/step - loss: 0.0277 - accuracy: 0.9896 - val_loss: 3.7221 - val_accuracy: 0.4722\n",
      "Epoch 901/1000\n",
      "576/576 [==============================] - 0s 73us/step - loss: 0.0255 - accuracy: 0.9913 - val_loss: 3.7731 - val_accuracy: 0.4722\n",
      "Epoch 902/1000\n",
      "576/576 [==============================] - 0s 65us/step - loss: 0.0242 - accuracy: 0.9931 - val_loss: 3.8920 - val_accuracy: 0.4583\n",
      "Epoch 903/1000\n",
      "576/576 [==============================] - 0s 70us/step - loss: 0.0236 - accuracy: 0.9931 - val_loss: 3.9061 - val_accuracy: 0.4653\n",
      "Epoch 904/1000\n",
      "576/576 [==============================] - 0s 67us/step - loss: 0.0237 - accuracy: 0.9913 - val_loss: 3.9809 - val_accuracy: 0.4583\n",
      "Epoch 905/1000\n",
      "576/576 [==============================] - 0s 69us/step - loss: 0.0223 - accuracy: 0.9913 - val_loss: 3.9857 - val_accuracy: 0.4653\n",
      "Epoch 906/1000\n",
      "576/576 [==============================] - 0s 77us/step - loss: 0.0244 - accuracy: 0.9913 - val_loss: 4.0592 - val_accuracy: 0.4583\n",
      "Epoch 907/1000\n",
      "576/576 [==============================] - 0s 70us/step - loss: 0.0224 - accuracy: 0.9913 - val_loss: 4.1342 - val_accuracy: 0.4653\n",
      "Epoch 908/1000\n",
      "576/576 [==============================] - 0s 68us/step - loss: 0.0243 - accuracy: 0.9931 - val_loss: 4.1009 - val_accuracy: 0.4653\n",
      "Epoch 909/1000\n",
      "576/576 [==============================] - 0s 71us/step - loss: 0.0216 - accuracy: 0.9913 - val_loss: 4.1839 - val_accuracy: 0.4722\n",
      "Epoch 910/1000\n",
      "576/576 [==============================] - 0s 76us/step - loss: 0.0219 - accuracy: 0.9931 - val_loss: 4.2277 - val_accuracy: 0.4583\n",
      "Epoch 911/1000\n",
      "576/576 [==============================] - 0s 67us/step - loss: 0.0202 - accuracy: 0.9948 - val_loss: 4.2063 - val_accuracy: 0.4583\n",
      "Epoch 912/1000\n",
      "576/576 [==============================] - 0s 71us/step - loss: 0.0202 - accuracy: 0.9948 - val_loss: 4.2704 - val_accuracy: 0.4653\n",
      "Epoch 913/1000\n",
      "576/576 [==============================] - 0s 67us/step - loss: 0.0209 - accuracy: 0.9931 - val_loss: 4.3003 - val_accuracy: 0.4653\n",
      "Epoch 914/1000\n",
      "576/576 [==============================] - 0s 72us/step - loss: 0.0234 - accuracy: 0.9896 - val_loss: 4.2970 - val_accuracy: 0.4722\n",
      "Epoch 915/1000\n",
      "576/576 [==============================] - 0s 66us/step - loss: 0.0548 - accuracy: 0.9809 - val_loss: 4.2941 - val_accuracy: 0.4444\n",
      "Epoch 916/1000\n",
      "576/576 [==============================] - 0s 70us/step - loss: 0.0457 - accuracy: 0.9809 - val_loss: 4.2455 - val_accuracy: 0.4722\n",
      "Epoch 917/1000\n",
      "576/576 [==============================] - 0s 66us/step - loss: 0.0542 - accuracy: 0.9740 - val_loss: 4.1256 - val_accuracy: 0.4792\n",
      "Epoch 918/1000\n",
      "576/576 [==============================] - 0s 68us/step - loss: 0.1219 - accuracy: 0.9583 - val_loss: 3.7511 - val_accuracy: 0.4931\n",
      "Epoch 919/1000\n",
      "576/576 [==============================] - 0s 72us/step - loss: 0.1711 - accuracy: 0.9306 - val_loss: 3.5227 - val_accuracy: 0.4514\n",
      "Epoch 920/1000\n",
      "576/576 [==============================] - 0s 65us/step - loss: 0.1939 - accuracy: 0.9253 - val_loss: 3.3567 - val_accuracy: 0.4444\n",
      "Epoch 921/1000\n",
      "576/576 [==============================] - 0s 78us/step - loss: 0.0726 - accuracy: 0.9740 - val_loss: 3.5543 - val_accuracy: 0.4653\n",
      "Epoch 922/1000\n",
      "576/576 [==============================] - 0s 84us/step - loss: 0.0485 - accuracy: 0.9826 - val_loss: 3.5353 - val_accuracy: 0.4792\n",
      "Epoch 923/1000\n",
      "576/576 [==============================] - 0s 74us/step - loss: 0.0342 - accuracy: 0.9913 - val_loss: 3.7753 - val_accuracy: 0.4722\n",
      "Epoch 924/1000\n",
      "576/576 [==============================] - 0s 66us/step - loss: 0.0381 - accuracy: 0.9844 - val_loss: 3.9875 - val_accuracy: 0.4375\n",
      "Epoch 925/1000\n",
      "576/576 [==============================] - 0s 66us/step - loss: 0.0446 - accuracy: 0.9792 - val_loss: 3.9311 - val_accuracy: 0.4653\n",
      "Epoch 926/1000\n",
      "576/576 [==============================] - 0s 65us/step - loss: 0.0382 - accuracy: 0.9896 - val_loss: 3.9652 - val_accuracy: 0.4375\n",
      "Epoch 927/1000\n",
      "576/576 [==============================] - 0s 64us/step - loss: 0.0344 - accuracy: 0.9826 - val_loss: 4.2865 - val_accuracy: 0.4306\n",
      "Epoch 928/1000\n",
      "576/576 [==============================] - 0s 72us/step - loss: 0.0299 - accuracy: 0.9861 - val_loss: 4.2234 - val_accuracy: 0.4583\n",
      "Epoch 929/1000\n",
      "576/576 [==============================] - 0s 69us/step - loss: 0.0247 - accuracy: 0.9913 - val_loss: 4.1884 - val_accuracy: 0.4653\n",
      "Epoch 930/1000\n",
      "576/576 [==============================] - 0s 70us/step - loss: 0.0219 - accuracy: 0.9931 - val_loss: 4.2715 - val_accuracy: 0.4583\n",
      "Epoch 931/1000\n",
      "576/576 [==============================] - 0s 65us/step - loss: 0.0204 - accuracy: 0.9931 - val_loss: 4.3067 - val_accuracy: 0.4653\n",
      "Epoch 932/1000\n",
      "576/576 [==============================] - 0s 71us/step - loss: 0.0201 - accuracy: 0.9931 - val_loss: 4.3610 - val_accuracy: 0.4653\n",
      "Epoch 933/1000\n",
      "576/576 [==============================] - 0s 64us/step - loss: 0.0204 - accuracy: 0.9948 - val_loss: 4.3233 - val_accuracy: 0.4861\n",
      "Epoch 934/1000\n",
      "576/576 [==============================] - 0s 70us/step - loss: 0.0235 - accuracy: 0.9913 - val_loss: 4.3616 - val_accuracy: 0.4722\n",
      "Epoch 935/1000\n",
      "576/576 [==============================] - 0s 76us/step - loss: 0.0206 - accuracy: 0.9913 - val_loss: 4.4140 - val_accuracy: 0.4653\n",
      "Epoch 936/1000\n",
      "576/576 [==============================] - 0s 72us/step - loss: 0.0203 - accuracy: 0.9948 - val_loss: 4.4462 - val_accuracy: 0.4722\n",
      "Epoch 937/1000\n",
      "576/576 [==============================] - 0s 70us/step - loss: 0.0202 - accuracy: 0.9931 - val_loss: 4.4498 - val_accuracy: 0.4653\n",
      "Epoch 938/1000\n",
      "576/576 [==============================] - 0s 70us/step - loss: 0.0186 - accuracy: 0.9948 - val_loss: 4.4652 - val_accuracy: 0.4722\n",
      "Epoch 939/1000\n",
      "576/576 [==============================] - 0s 66us/step - loss: 0.0187 - accuracy: 0.9948 - val_loss: 4.5511 - val_accuracy: 0.4514\n",
      "Epoch 940/1000\n",
      "576/576 [==============================] - 0s 74us/step - loss: 0.0189 - accuracy: 0.9948 - val_loss: 4.4846 - val_accuracy: 0.4653\n",
      "Epoch 941/1000\n",
      "576/576 [==============================] - 0s 71us/step - loss: 0.0188 - accuracy: 0.9965 - val_loss: 4.5239 - val_accuracy: 0.4653\n",
      "Epoch 942/1000\n",
      "576/576 [==============================] - 0s 65us/step - loss: 0.0187 - accuracy: 0.9948 - val_loss: 4.5631 - val_accuracy: 0.4722\n",
      "Epoch 943/1000\n",
      "576/576 [==============================] - 0s 66us/step - loss: 0.0189 - accuracy: 0.9965 - val_loss: 4.5817 - val_accuracy: 0.4583\n",
      "Epoch 944/1000\n",
      "576/576 [==============================] - 0s 68us/step - loss: 0.0211 - accuracy: 0.9913 - val_loss: 4.6475 - val_accuracy: 0.4583\n",
      "Epoch 945/1000\n",
      "576/576 [==============================] - 0s 66us/step - loss: 0.0181 - accuracy: 0.9931 - val_loss: 4.6181 - val_accuracy: 0.4514\n",
      "Epoch 946/1000\n",
      "576/576 [==============================] - 0s 64us/step - loss: 0.0194 - accuracy: 0.9948 - val_loss: 4.5809 - val_accuracy: 0.4653\n",
      "Epoch 947/1000\n",
      "576/576 [==============================] - 0s 71us/step - loss: 0.0235 - accuracy: 0.9948 - val_loss: 4.5731 - val_accuracy: 0.4583\n",
      "Epoch 948/1000\n",
      "576/576 [==============================] - 0s 65us/step - loss: 0.0652 - accuracy: 0.9740 - val_loss: 4.6026 - val_accuracy: 0.4444\n",
      "Epoch 949/1000\n",
      "576/576 [==============================] - 0s 69us/step - loss: 0.0810 - accuracy: 0.9670 - val_loss: 4.3766 - val_accuracy: 0.4514\n",
      "Epoch 950/1000\n",
      "576/576 [==============================] - 0s 76us/step - loss: 0.0611 - accuracy: 0.9757 - val_loss: 4.2371 - val_accuracy: 0.4375\n",
      "Epoch 951/1000\n",
      "576/576 [==============================] - 0s 75us/step - loss: 0.0700 - accuracy: 0.9705 - val_loss: 4.3221 - val_accuracy: 0.4653\n",
      "Epoch 952/1000\n",
      "576/576 [==============================] - 0s 81us/step - loss: 0.0768 - accuracy: 0.9809 - val_loss: 4.0575 - val_accuracy: 0.4861\n",
      "Epoch 953/1000\n",
      "576/576 [==============================] - 0s 72us/step - loss: 0.0788 - accuracy: 0.9688 - val_loss: 4.1185 - val_accuracy: 0.4583\n",
      "Epoch 954/1000\n",
      "576/576 [==============================] - 0s 73us/step - loss: 0.0969 - accuracy: 0.9688 - val_loss: 3.9040 - val_accuracy: 0.4306\n",
      "Epoch 955/1000\n",
      "576/576 [==============================] - 0s 66us/step - loss: 0.0396 - accuracy: 0.9878 - val_loss: 3.8866 - val_accuracy: 0.4514\n",
      "Epoch 956/1000\n",
      "576/576 [==============================] - 0s 73us/step - loss: 0.0642 - accuracy: 0.9792 - val_loss: 4.2635 - val_accuracy: 0.4306\n",
      "Epoch 957/1000\n",
      "576/576 [==============================] - 0s 66us/step - loss: 0.0684 - accuracy: 0.9688 - val_loss: 4.0872 - val_accuracy: 0.4306\n",
      "Epoch 958/1000\n",
      "576/576 [==============================] - 0s 65us/step - loss: 0.0774 - accuracy: 0.9722 - val_loss: 3.9487 - val_accuracy: 0.4653\n",
      "Epoch 959/1000\n",
      "576/576 [==============================] - 0s 91us/step - loss: 0.0627 - accuracy: 0.9774 - val_loss: 4.0223 - val_accuracy: 0.4514\n",
      "Epoch 960/1000\n",
      "576/576 [==============================] - 0s 70us/step - loss: 0.0559 - accuracy: 0.9792 - val_loss: 4.1385 - val_accuracy: 0.4653\n",
      "Epoch 961/1000\n",
      "576/576 [==============================] - 0s 68us/step - loss: 0.0804 - accuracy: 0.9653 - val_loss: 4.0719 - val_accuracy: 0.4375\n",
      "Epoch 962/1000\n",
      "576/576 [==============================] - 0s 68us/step - loss: 0.0778 - accuracy: 0.9705 - val_loss: 3.7910 - val_accuracy: 0.5000\n",
      "Epoch 963/1000\n",
      "576/576 [==============================] - 0s 67us/step - loss: 0.0655 - accuracy: 0.9826 - val_loss: 4.0572 - val_accuracy: 0.4792\n",
      "Epoch 964/1000\n",
      "576/576 [==============================] - 0s 67us/step - loss: 0.0321 - accuracy: 0.9896 - val_loss: 4.2661 - val_accuracy: 0.4514\n",
      "Epoch 965/1000\n",
      "576/576 [==============================] - 0s 64us/step - loss: 0.0222 - accuracy: 0.9948 - val_loss: 4.2114 - val_accuracy: 0.4931\n",
      "Epoch 966/1000\n",
      "576/576 [==============================] - 0s 69us/step - loss: 0.0213 - accuracy: 0.9948 - val_loss: 4.3195 - val_accuracy: 0.4653\n",
      "Epoch 967/1000\n",
      "576/576 [==============================] - 0s 69us/step - loss: 0.0208 - accuracy: 0.9948 - val_loss: 4.3146 - val_accuracy: 0.4722\n",
      "Epoch 968/1000\n",
      "576/576 [==============================] - 0s 67us/step - loss: 0.0466 - accuracy: 0.9844 - val_loss: 4.5428 - val_accuracy: 0.4306\n",
      "Epoch 969/1000\n",
      "576/576 [==============================] - 0s 72us/step - loss: 0.0500 - accuracy: 0.9809 - val_loss: 4.3711 - val_accuracy: 0.4375\n",
      "Epoch 970/1000\n",
      "576/576 [==============================] - 0s 64us/step - loss: 0.0281 - accuracy: 0.9913 - val_loss: 4.3013 - val_accuracy: 0.4583\n",
      "Epoch 971/1000\n",
      "576/576 [==============================] - 0s 64us/step - loss: 0.0351 - accuracy: 0.9826 - val_loss: 4.3224 - val_accuracy: 0.4722\n",
      "Epoch 972/1000\n",
      "576/576 [==============================] - 0s 66us/step - loss: 0.0357 - accuracy: 0.9878 - val_loss: 4.4699 - val_accuracy: 0.4583\n",
      "Epoch 973/1000\n",
      "576/576 [==============================] - 0s 78us/step - loss: 0.0224 - accuracy: 0.9931 - val_loss: 4.3622 - val_accuracy: 0.4514\n",
      "Epoch 974/1000\n",
      "576/576 [==============================] - 0s 69us/step - loss: 0.0247 - accuracy: 0.9948 - val_loss: 4.4420 - val_accuracy: 0.4583\n",
      "Epoch 975/1000\n",
      "576/576 [==============================] - 0s 67us/step - loss: 0.0500 - accuracy: 0.9826 - val_loss: 4.2917 - val_accuracy: 0.4444\n",
      "Epoch 976/1000\n",
      "576/576 [==============================] - 0s 72us/step - loss: 0.0580 - accuracy: 0.9792 - val_loss: 4.3663 - val_accuracy: 0.4514\n",
      "Epoch 977/1000\n",
      "576/576 [==============================] - 0s 66us/step - loss: 0.0650 - accuracy: 0.9757 - val_loss: 4.1780 - val_accuracy: 0.4444\n",
      "Epoch 978/1000\n",
      "576/576 [==============================] - 0s 67us/step - loss: 0.0395 - accuracy: 0.9844 - val_loss: 4.2550 - val_accuracy: 0.4653\n",
      "Epoch 979/1000\n",
      "576/576 [==============================] - 0s 69us/step - loss: 0.0291 - accuracy: 0.9913 - val_loss: 4.1307 - val_accuracy: 0.4861\n",
      "Epoch 980/1000\n",
      "576/576 [==============================] - 0s 65us/step - loss: 0.0283 - accuracy: 0.9878 - val_loss: 4.3540 - val_accuracy: 0.4722\n",
      "Epoch 981/1000\n",
      "576/576 [==============================] - 0s 75us/step - loss: 0.0422 - accuracy: 0.9774 - val_loss: 4.2849 - val_accuracy: 0.4861\n",
      "Epoch 982/1000\n",
      "576/576 [==============================] - 0s 72us/step - loss: 0.0287 - accuracy: 0.9878 - val_loss: 4.3510 - val_accuracy: 0.4583\n",
      "Epoch 983/1000\n",
      "576/576 [==============================] - 0s 80us/step - loss: 0.0195 - accuracy: 0.9948 - val_loss: 4.3653 - val_accuracy: 0.4653\n",
      "Epoch 984/1000\n",
      "576/576 [==============================] - 0s 67us/step - loss: 0.0193 - accuracy: 0.9931 - val_loss: 4.5202 - val_accuracy: 0.4792\n",
      "Epoch 985/1000\n",
      "576/576 [==============================] - 0s 67us/step - loss: 0.0258 - accuracy: 0.9931 - val_loss: 4.4033 - val_accuracy: 0.4722\n",
      "Epoch 986/1000\n",
      "576/576 [==============================] - 0s 66us/step - loss: 0.0420 - accuracy: 0.9878 - val_loss: 4.6500 - val_accuracy: 0.4792\n",
      "Epoch 987/1000\n",
      "576/576 [==============================] - 0s 66us/step - loss: 0.0463 - accuracy: 0.9844 - val_loss: 4.3948 - val_accuracy: 0.4861\n",
      "Epoch 988/1000\n",
      "576/576 [==============================] - 0s 66us/step - loss: 0.0588 - accuracy: 0.9861 - val_loss: 4.5939 - val_accuracy: 0.4444\n",
      "Epoch 989/1000\n",
      "576/576 [==============================] - 0s 77us/step - loss: 0.0611 - accuracy: 0.9809 - val_loss: 4.5663 - val_accuracy: 0.4653\n",
      "Epoch 990/1000\n",
      "576/576 [==============================] - 0s 66us/step - loss: 0.0925 - accuracy: 0.9670 - val_loss: 4.5311 - val_accuracy: 0.4236\n",
      "Epoch 991/1000\n",
      "576/576 [==============================] - 0s 66us/step - loss: 0.0713 - accuracy: 0.9705 - val_loss: 4.6627 - val_accuracy: 0.4653\n",
      "Epoch 992/1000\n",
      "576/576 [==============================] - 0s 70us/step - loss: 0.1340 - accuracy: 0.9566 - val_loss: 4.1955 - val_accuracy: 0.4583\n",
      "Epoch 993/1000\n",
      "576/576 [==============================] - 0s 68us/step - loss: 0.0471 - accuracy: 0.9792 - val_loss: 4.0590 - val_accuracy: 0.4444\n",
      "Epoch 994/1000\n",
      "576/576 [==============================] - 0s 74us/step - loss: 0.0314 - accuracy: 0.9931 - val_loss: 4.1071 - val_accuracy: 0.4653\n",
      "Epoch 995/1000\n",
      "576/576 [==============================] - 0s 64us/step - loss: 0.0222 - accuracy: 0.9948 - val_loss: 4.0737 - val_accuracy: 0.4861\n",
      "Epoch 996/1000\n",
      "576/576 [==============================] - 0s 66us/step - loss: 0.0197 - accuracy: 0.9948 - val_loss: 4.1681 - val_accuracy: 0.4722\n",
      "Epoch 997/1000\n",
      "576/576 [==============================] - 0s 66us/step - loss: 0.0170 - accuracy: 0.9965 - val_loss: 4.2530 - val_accuracy: 0.4583\n",
      "Epoch 998/1000\n",
      "576/576 [==============================] - 0s 65us/step - loss: 0.0183 - accuracy: 0.9948 - val_loss: 4.3274 - val_accuracy: 0.4514\n",
      "Epoch 999/1000\n",
      "576/576 [==============================] - 0s 80us/step - loss: 0.0169 - accuracy: 0.9965 - val_loss: 4.3599 - val_accuracy: 0.4653\n",
      "Epoch 1000/1000\n",
      "576/576 [==============================] - 0s 70us/step - loss: 0.0159 - accuracy: 0.9965 - val_loss: 4.3742 - val_accuracy: 0.4653\n"
     ]
    }
   ],
   "source": [
    "\n",
    "\n",
    "# Compile the model with Optimizer, Loss Function and Metrics\n",
    "# Roc-Auc is not available in Keras as an off the shelf metric yet, so we will skip it here.\n",
    "Adam=keras.optimizers.Adam(lr=0.001)\n",
    "model_2.compile(Adam, \"binary_crossentropy\", metrics=[\"accuracy\"])\n",
    "run_hist_2 = model_2.fit(X_train, y_train, validation_data=(X_test, y_test), epochs=1000)\n",
    "# the fit function returns the run history. \n",
    "# It is very convenient, as it contains information about the model fit, iterations etc."
   ]
  },
  {
   "cell_type": "code",
   "execution_count": 0,
   "metadata": {
    "colab": {},
    "colab_type": "code",
    "id": "Wkws0PhDsrqX"
   },
   "outputs": [],
   "source": []
  },
  {
   "cell_type": "code",
   "execution_count": 0,
   "metadata": {
    "colab": {},
    "colab_type": "code",
    "id": "1vV4QGy-rLEj"
   },
   "outputs": [],
   "source": [
    "y_pred2 = model_2.predict_classes(X_test)\n",
    "y_pred_prob2 = model_2.predict(X_test)"
   ]
  },
  {
   "cell_type": "code",
   "execution_count": 115,
   "metadata": {
    "colab": {
     "base_uri": "https://localhost:8080/",
     "height": 222
    },
    "colab_type": "code",
    "id": "Hq1Im0FfrN2_",
    "outputId": "f3bcb04b-55db-424d-976c-90075bf69122"
   },
   "outputs": [
    {
     "name": "stdout",
     "output_type": "stream",
     "text": [
      "              precision    recall  f1-score   support\n",
      "\n",
      "     class 0       0.47      1.00      0.64        67\n",
      "     class 1       0.00      0.00      0.00        77\n",
      "\n",
      "    accuracy                           0.47       144\n",
      "   macro avg       0.23      0.50      0.32       144\n",
      "weighted avg       0.22      0.47      0.30       144\n",
      "\n"
     ]
    },
    {
     "name": "stderr",
     "output_type": "stream",
     "text": [
      "/usr/local/lib/python3.6/dist-packages/sklearn/metrics/_classification.py:1272: UndefinedMetricWarning: Precision and F-score are ill-defined and being set to 0.0 in labels with no predicted samples. Use `zero_division` parameter to control this behavior.\n",
      "  _warn_prf(average, modifier, msg_start, len(result))\n"
     ]
    }
   ],
   "source": [
    "from sklearn.metrics import classification_report\n",
    "target_names = ['class 0', 'class 1']\n",
    "print(classification_report(y_test, y_pred2, target_names=target_names))"
   ]
  },
  {
   "cell_type": "code",
   "execution_count": 116,
   "metadata": {
    "colab": {
     "base_uri": "https://localhost:8080/",
     "height": 533
    },
    "colab_type": "code",
    "id": "v-J714kOrOwI",
    "outputId": "a6d4a78d-bba5-4c35-a81b-188614d6f71b"
   },
   "outputs": [
    {
     "name": "stdout",
     "output_type": "stream",
     "text": [
      "accuracy is 0.465\n",
      "roc-auc is 0.492\n"
     ]
    },
    {
     "data": {
      "image/png": "[encoded data removed]",
      "text/plain": [
       "<Figure size 576x576 with 1 Axes>"
      ]
     },
     "metadata": {
      "needs_background": "light",
      "tags": []
     },
     "output_type": "display_data"
    }
   ],
   "source": [
    "print('accuracy is {:.3f}'.format(accuracy_score(y_test,y_pred2)))\n",
    "print('roc-auc is {:.3f}'.format(roc_auc_score(y_test,y_pred_prob2)))\n",
    "\n",
    "plot_roc(y_test, y_pred2, 'NN')"
   ]
  },
  {
   "cell_type": "code",
   "execution_count": 119,
   "metadata": {
    "colab": {
     "base_uri": "https://localhost:8080/",
     "height": 282
    },
    "colab_type": "code",
    "id": "89_0HGtFrTtM",
    "outputId": "a88d1b5f-2fd1-48ec-cb47-836068666600"
   },
   "outputs": [
    {
     "data": {
      "text/plain": [
       "<matplotlib.legend.Legend at 0x7fafdbf02f98>"
      ]
     },
     "execution_count": 119,
     "metadata": {
      "tags": []
     },
     "output_type": "execute_result"
    },
    {
     "data": {
      "image/png": "[encoded data removed]",
      "text/plain": [
       "<Figure size 432x288 with 1 Axes>"
      ]
     },
     "metadata": {
      "needs_background": "light",
      "tags": []
     },
     "output_type": "display_data"
    }
   ],
   "source": [
    "fig, ax = plt.subplots()\n",
    "ax.plot(run_hist_2.history[\"loss\"],'r', marker='.', label=\"Train Loss\")\n",
    "ax.plot(run_hist_2.history[\"val_loss\"],'b', marker='.', label=\"Validation Loss\")\n",
    "ax.legend()"
   ]
  },
  {
   "cell_type": "code",
   "execution_count": 120,
   "metadata": {
    "colab": {
     "base_uri": "https://localhost:8080/",
     "height": 50
    },
    "colab_type": "code",
    "id": "NHZRYctIrbQN",
    "outputId": "217ab791-fe08-4e5b-826f-294342f1ca40"
   },
   "outputs": [
    {
     "data": {
      "text/plain": [
       "array([[67,  0],\n",
       "       [77,  0]])"
      ]
     },
     "execution_count": 120,
     "metadata": {
      "tags": []
     },
     "output_type": "execute_result"
    }
   ],
   "source": [
    "matrix =confusion_matrix(y_test, y_pred2)\n",
    "matrix"
   ]
  }
 ],
 "metadata": {
  "colab": {
   "collapsed_sections": [],
   "name": "Data Mining Project",
   "provenance": [],
   "toc_visible": true
  },
  "kernelspec": {
   "display_name": "Python 3",
   "language": "python",
   "name": "python3"
  },
  "language_info": {
   "codemirror_mode": {
    "name": "ipython",
    "version": 3
   },
   "file_extension": ".py",
   "mimetype": "text/x-python",
   "name": "python",
   "nbconvert_exporter": "python",
   "pygments_lexer": "ipython3",
   "version": "3.6.5"
  }
 },
 "nbformat": 4,
 "nbformat_minor": 1
}
